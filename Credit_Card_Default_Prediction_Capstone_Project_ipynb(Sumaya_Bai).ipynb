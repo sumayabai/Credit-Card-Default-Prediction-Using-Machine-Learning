{
  "nbformat": 4,
  "nbformat_minor": 0,
  "metadata": {
    "colab": {
      "name": "Credit Card Default Prediction - Capstone Project.ipynb(Sumaya Bai)",
      "provenance": [],
      "collapsed_sections": [],
      "include_colab_link": true
    },
    "kernelspec": {
      "display_name": "Python 3",
      "language": "python",
      "name": "python3"
    },
    "language_info": {
      "codemirror_mode": {
        "name": "ipython",
        "version": 3
      },
      "file_extension": ".py",
      "mimetype": "text/x-python",
      "name": "python",
      "nbconvert_exporter": "python",
      "pygments_lexer": "ipython3",
      "version": "3.6.6"
    }
  },
  "cells": [
    {
      "cell_type": "markdown",
      "metadata": {
        "id": "view-in-github",
        "colab_type": "text"
      },
      "source": [
        "<a href=\"https://colab.research.google.com/github/sumayabai/Credit-Card-Default-Prediction-Using-Machine-Learning/blob/main/Credit_Card_Default_Prediction_Capstone_Project_ipynb(Sumaya_Bai).ipynb\" target=\"_parent\"><img src=\"https://colab.research.google.com/assets/colab-badge.svg\" alt=\"Open In Colab\"/></a>"
      ]
    },
    {
      "cell_type": "markdown",
      "metadata": {
        "id": "tOGC-qoyhJeX"
      },
      "source": [
        "# <b><u> Project Title : Predicting whether a customer will default on his/her credit card </u></b>"
      ]
    },
    {
      "cell_type": "markdown",
      "metadata": {
        "id": "Y06xIdG26kRF"
      },
      "source": [
        "## <b> Problem Description </b>\n",
        "\n",
        "### This project is aimed at predicting the case of customers default payments in Taiwan. From the perspective of risk management, the result of predictive accuracy of the estimated probability of default will be more valuable than the binary result of classification - credible or not credible clients. We can use the [K-S chart](https://www.listendata.com/2019/07/KS-Statistics-Python.html) to evaluate which customers will default on their credit card payments\n"
      ]
    },
    {
      "cell_type": "markdown",
      "metadata": {
        "id": "AlLxAtlziMbP"
      },
      "source": [
        "## <b> Data Description </b>\n",
        "\n",
        "### <b>Attribute Information: </b>\n",
        "\n",
        "### This research employed a binary variable, default payment (Yes = 1, No = 0), as the response variable. This study reviewed the literature and used the following 23 variables as explanatory variables:\n",
        "* ### X1: Amount of the given credit (NT dollar): it includes both the individual consumer credit and his/her family (supplementary) credit.\n",
        "* ### X2: Gender (1 = male; 2 = female).\n",
        "* ### X3: Education (1 = graduate school; 2 = university; 3 = high school; 4 = others).\n",
        "* ### X4: Marital status (1 = married; 2 = single; 3 = others).\n",
        "* ### X5: Age (year).\n",
        "* ### X6 - X11: History of past payment. We tracked the past monthly payment records (from April to September, 2005) as follows: X6 = the repayment status in September, 2005; X7 = the repayment status in August, 2005; . . .;X11 = the repayment status in April, 2005. The measurement scale for the repayment status is: -1 = pay duly; 1 = payment delay for one month; 2 = payment delay for two months; . . .; 8 = payment delay for eight months; 9 = payment delay for nine months and above.\n",
        "* ### X12-X17: Amount of bill statement (NT dollar). X12 = amount of bill statement in September, 2005; X13 = amount of bill statement in August, 2005; . . .; X17 = amount of bill statement in April, 2005.\n",
        "* ### X18-X23: Amount of previous payment (NT dollar). X18 = amount paid in September, 2005; X19 = amount paid in August, 2005; . . .;X23 = amount paid in April, 2005."
      ]
    },
    {
      "cell_type": "code",
      "metadata": {
        "id": "dByMsuzT8Tnw"
      },
      "source": [
        "#import libraries \n",
        "import pandas as pd\n",
        "import numpy as np\n",
        "import matplotlib.pyplot as plt\n",
        "import seaborn as sns\n"
      ],
      "execution_count": null,
      "outputs": []
    },
    {
      "cell_type": "code",
      "metadata": {
        "colab": {
          "base_uri": "https://localhost:8080/"
        },
        "id": "amb4i3v8IA_C",
        "outputId": "3a8d1731-5288-47f8-8f3d-075de6f68415"
      },
      "source": [
        "from google.colab import drive\n",
        "drive.mount('/content/drive')"
      ],
      "execution_count": null,
      "outputs": [
        {
          "output_type": "stream",
          "name": "stdout",
          "text": [
            "Drive already mounted at /content/drive; to attempt to forcibly remount, call drive.mount(\"/content/drive\", force_remount=True).\n"
          ]
        }
      ]
    },
    {
      "cell_type": "code",
      "metadata": {
        "colab": {
          "base_uri": "https://localhost:8080/",
          "height": 292
        },
        "id": "pZrrMdZnIszX",
        "outputId": "7a28e0af-e825-4a9d-d38a-08897f841611"
      },
      "source": [
        "#importing the excel file into pandas\n",
        "df = pd.DataFrame(pd.read_excel('/content/drive/My Drive/Capstone 3/default of credit card clients.xls'))\n",
        "df.head()"
      ],
      "execution_count": null,
      "outputs": [
        {
          "output_type": "execute_result",
          "data": {
            "text/html": [
              "<div>\n",
              "<style scoped>\n",
              "    .dataframe tbody tr th:only-of-type {\n",
              "        vertical-align: middle;\n",
              "    }\n",
              "\n",
              "    .dataframe tbody tr th {\n",
              "        vertical-align: top;\n",
              "    }\n",
              "\n",
              "    .dataframe thead th {\n",
              "        text-align: right;\n",
              "    }\n",
              "</style>\n",
              "<table border=\"1\" class=\"dataframe\">\n",
              "  <thead>\n",
              "    <tr style=\"text-align: right;\">\n",
              "      <th></th>\n",
              "      <th>Unnamed: 0</th>\n",
              "      <th>X1</th>\n",
              "      <th>X2</th>\n",
              "      <th>X3</th>\n",
              "      <th>X4</th>\n",
              "      <th>X5</th>\n",
              "      <th>X6</th>\n",
              "      <th>X7</th>\n",
              "      <th>X8</th>\n",
              "      <th>X9</th>\n",
              "      <th>X10</th>\n",
              "      <th>X11</th>\n",
              "      <th>X12</th>\n",
              "      <th>X13</th>\n",
              "      <th>X14</th>\n",
              "      <th>X15</th>\n",
              "      <th>X16</th>\n",
              "      <th>X17</th>\n",
              "      <th>X18</th>\n",
              "      <th>X19</th>\n",
              "      <th>X20</th>\n",
              "      <th>X21</th>\n",
              "      <th>X22</th>\n",
              "      <th>X23</th>\n",
              "      <th>Y</th>\n",
              "    </tr>\n",
              "  </thead>\n",
              "  <tbody>\n",
              "    <tr>\n",
              "      <th>0</th>\n",
              "      <td>ID</td>\n",
              "      <td>LIMIT_BAL</td>\n",
              "      <td>SEX</td>\n",
              "      <td>EDUCATION</td>\n",
              "      <td>MARRIAGE</td>\n",
              "      <td>AGE</td>\n",
              "      <td>PAY_0</td>\n",
              "      <td>PAY_2</td>\n",
              "      <td>PAY_3</td>\n",
              "      <td>PAY_4</td>\n",
              "      <td>PAY_5</td>\n",
              "      <td>PAY_6</td>\n",
              "      <td>BILL_AMT1</td>\n",
              "      <td>BILL_AMT2</td>\n",
              "      <td>BILL_AMT3</td>\n",
              "      <td>BILL_AMT4</td>\n",
              "      <td>BILL_AMT5</td>\n",
              "      <td>BILL_AMT6</td>\n",
              "      <td>PAY_AMT1</td>\n",
              "      <td>PAY_AMT2</td>\n",
              "      <td>PAY_AMT3</td>\n",
              "      <td>PAY_AMT4</td>\n",
              "      <td>PAY_AMT5</td>\n",
              "      <td>PAY_AMT6</td>\n",
              "      <td>default payment next month</td>\n",
              "    </tr>\n",
              "    <tr>\n",
              "      <th>1</th>\n",
              "      <td>1</td>\n",
              "      <td>20000</td>\n",
              "      <td>2</td>\n",
              "      <td>2</td>\n",
              "      <td>1</td>\n",
              "      <td>24</td>\n",
              "      <td>2</td>\n",
              "      <td>2</td>\n",
              "      <td>-1</td>\n",
              "      <td>-1</td>\n",
              "      <td>-2</td>\n",
              "      <td>-2</td>\n",
              "      <td>3913</td>\n",
              "      <td>3102</td>\n",
              "      <td>689</td>\n",
              "      <td>0</td>\n",
              "      <td>0</td>\n",
              "      <td>0</td>\n",
              "      <td>0</td>\n",
              "      <td>689</td>\n",
              "      <td>0</td>\n",
              "      <td>0</td>\n",
              "      <td>0</td>\n",
              "      <td>0</td>\n",
              "      <td>1</td>\n",
              "    </tr>\n",
              "    <tr>\n",
              "      <th>2</th>\n",
              "      <td>2</td>\n",
              "      <td>120000</td>\n",
              "      <td>2</td>\n",
              "      <td>2</td>\n",
              "      <td>2</td>\n",
              "      <td>26</td>\n",
              "      <td>-1</td>\n",
              "      <td>2</td>\n",
              "      <td>0</td>\n",
              "      <td>0</td>\n",
              "      <td>0</td>\n",
              "      <td>2</td>\n",
              "      <td>2682</td>\n",
              "      <td>1725</td>\n",
              "      <td>2682</td>\n",
              "      <td>3272</td>\n",
              "      <td>3455</td>\n",
              "      <td>3261</td>\n",
              "      <td>0</td>\n",
              "      <td>1000</td>\n",
              "      <td>1000</td>\n",
              "      <td>1000</td>\n",
              "      <td>0</td>\n",
              "      <td>2000</td>\n",
              "      <td>1</td>\n",
              "    </tr>\n",
              "    <tr>\n",
              "      <th>3</th>\n",
              "      <td>3</td>\n",
              "      <td>90000</td>\n",
              "      <td>2</td>\n",
              "      <td>2</td>\n",
              "      <td>2</td>\n",
              "      <td>34</td>\n",
              "      <td>0</td>\n",
              "      <td>0</td>\n",
              "      <td>0</td>\n",
              "      <td>0</td>\n",
              "      <td>0</td>\n",
              "      <td>0</td>\n",
              "      <td>29239</td>\n",
              "      <td>14027</td>\n",
              "      <td>13559</td>\n",
              "      <td>14331</td>\n",
              "      <td>14948</td>\n",
              "      <td>15549</td>\n",
              "      <td>1518</td>\n",
              "      <td>1500</td>\n",
              "      <td>1000</td>\n",
              "      <td>1000</td>\n",
              "      <td>1000</td>\n",
              "      <td>5000</td>\n",
              "      <td>0</td>\n",
              "    </tr>\n",
              "    <tr>\n",
              "      <th>4</th>\n",
              "      <td>4</td>\n",
              "      <td>50000</td>\n",
              "      <td>2</td>\n",
              "      <td>2</td>\n",
              "      <td>1</td>\n",
              "      <td>37</td>\n",
              "      <td>0</td>\n",
              "      <td>0</td>\n",
              "      <td>0</td>\n",
              "      <td>0</td>\n",
              "      <td>0</td>\n",
              "      <td>0</td>\n",
              "      <td>46990</td>\n",
              "      <td>48233</td>\n",
              "      <td>49291</td>\n",
              "      <td>28314</td>\n",
              "      <td>28959</td>\n",
              "      <td>29547</td>\n",
              "      <td>2000</td>\n",
              "      <td>2019</td>\n",
              "      <td>1200</td>\n",
              "      <td>1100</td>\n",
              "      <td>1069</td>\n",
              "      <td>1000</td>\n",
              "      <td>0</td>\n",
              "    </tr>\n",
              "  </tbody>\n",
              "</table>\n",
              "</div>"
            ],
            "text/plain": [
              "  Unnamed: 0         X1   X2  ...       X22       X23                           Y\n",
              "0         ID  LIMIT_BAL  SEX  ...  PAY_AMT5  PAY_AMT6  default payment next month\n",
              "1          1      20000    2  ...         0         0                           1\n",
              "2          2     120000    2  ...         0      2000                           1\n",
              "3          3      90000    2  ...      1000      5000                           0\n",
              "4          4      50000    2  ...      1069      1000                           0\n",
              "\n",
              "[5 rows x 25 columns]"
            ]
          },
          "metadata": {},
          "execution_count": 174
        }
      ]
    },
    {
      "cell_type": "code",
      "metadata": {
        "colab": {
          "base_uri": "https://localhost:8080/"
        },
        "id": "1d02TMiHJIu_",
        "outputId": "11fa0ad9-d5ee-441f-d011-f74b59bf9c3c"
      },
      "source": [
        "df.info"
      ],
      "execution_count": null,
      "outputs": [
        {
          "output_type": "execute_result",
          "data": {
            "text/plain": [
              "<bound method DataFrame.info of       Unnamed: 0         X1  ...       X23                           Y\n",
              "0             ID  LIMIT_BAL  ...  PAY_AMT6  default payment next month\n",
              "1              1      20000  ...         0                           1\n",
              "2              2     120000  ...      2000                           1\n",
              "3              3      90000  ...      5000                           0\n",
              "4              4      50000  ...      1000                           0\n",
              "...          ...        ...  ...       ...                         ...\n",
              "29996      29996     220000  ...      1000                           0\n",
              "29997      29997     150000  ...         0                           0\n",
              "29998      29998      30000  ...      3100                           1\n",
              "29999      29999      80000  ...      1804                           1\n",
              "30000      30000      50000  ...      1000                           1\n",
              "\n",
              "[30001 rows x 25 columns]>"
            ]
          },
          "metadata": {},
          "execution_count": 175
        }
      ]
    },
    {
      "cell_type": "code",
      "metadata": {
        "id": "kyZwt_zTetHA",
        "colab": {
          "base_uri": "https://localhost:8080/"
        },
        "outputId": "5c4baff6-b0d9-4676-9b7e-8790ce0f7178"
      },
      "source": [
        "df.isnull().sum()"
      ],
      "execution_count": null,
      "outputs": [
        {
          "output_type": "execute_result",
          "data": {
            "text/plain": [
              "Unnamed: 0    0\n",
              "X1            0\n",
              "X2            0\n",
              "X3            0\n",
              "X4            0\n",
              "X5            0\n",
              "X6            0\n",
              "X7            0\n",
              "X8            0\n",
              "X9            0\n",
              "X10           0\n",
              "X11           0\n",
              "X12           0\n",
              "X13           0\n",
              "X14           0\n",
              "X15           0\n",
              "X16           0\n",
              "X17           0\n",
              "X18           0\n",
              "X19           0\n",
              "X20           0\n",
              "X21           0\n",
              "X22           0\n",
              "X23           0\n",
              "Y             0\n",
              "dtype: int64"
            ]
          },
          "metadata": {},
          "execution_count": 176
        }
      ]
    },
    {
      "cell_type": "code",
      "metadata": {
        "colab": {
          "base_uri": "https://localhost:8080/"
        },
        "id": "WXy_VUYIKgb-",
        "outputId": "1c6f087b-a7db-447a-f8b3-c58548441ef5"
      },
      "source": [
        "df.describe"
      ],
      "execution_count": null,
      "outputs": [
        {
          "output_type": "execute_result",
          "data": {
            "text/plain": [
              "<bound method NDFrame.describe of       Unnamed: 0         X1  ...       X23                           Y\n",
              "0             ID  LIMIT_BAL  ...  PAY_AMT6  default payment next month\n",
              "1              1      20000  ...         0                           1\n",
              "2              2     120000  ...      2000                           1\n",
              "3              3      90000  ...      5000                           0\n",
              "4              4      50000  ...      1000                           0\n",
              "...          ...        ...  ...       ...                         ...\n",
              "29996      29996     220000  ...      1000                           0\n",
              "29997      29997     150000  ...         0                           0\n",
              "29998      29998      30000  ...      3100                           1\n",
              "29999      29999      80000  ...      1804                           1\n",
              "30000      30000      50000  ...      1000                           1\n",
              "\n",
              "[30001 rows x 25 columns]>"
            ]
          },
          "metadata": {},
          "execution_count": 177
        }
      ]
    },
    {
      "cell_type": "code",
      "metadata": {
        "colab": {
          "base_uri": "https://localhost:8080/",
          "height": 204
        },
        "id": "y1g8mDx1L9eL",
        "outputId": "592c0b53-1d5a-4e35-f778-699213022209"
      },
      "source": [
        "df.tail()"
      ],
      "execution_count": null,
      "outputs": [
        {
          "output_type": "execute_result",
          "data": {
            "text/html": [
              "<div>\n",
              "<style scoped>\n",
              "    .dataframe tbody tr th:only-of-type {\n",
              "        vertical-align: middle;\n",
              "    }\n",
              "\n",
              "    .dataframe tbody tr th {\n",
              "        vertical-align: top;\n",
              "    }\n",
              "\n",
              "    .dataframe thead th {\n",
              "        text-align: right;\n",
              "    }\n",
              "</style>\n",
              "<table border=\"1\" class=\"dataframe\">\n",
              "  <thead>\n",
              "    <tr style=\"text-align: right;\">\n",
              "      <th></th>\n",
              "      <th>Unnamed: 0</th>\n",
              "      <th>X1</th>\n",
              "      <th>X2</th>\n",
              "      <th>X3</th>\n",
              "      <th>X4</th>\n",
              "      <th>X5</th>\n",
              "      <th>X6</th>\n",
              "      <th>X7</th>\n",
              "      <th>X8</th>\n",
              "      <th>X9</th>\n",
              "      <th>X10</th>\n",
              "      <th>X11</th>\n",
              "      <th>X12</th>\n",
              "      <th>X13</th>\n",
              "      <th>X14</th>\n",
              "      <th>X15</th>\n",
              "      <th>X16</th>\n",
              "      <th>X17</th>\n",
              "      <th>X18</th>\n",
              "      <th>X19</th>\n",
              "      <th>X20</th>\n",
              "      <th>X21</th>\n",
              "      <th>X22</th>\n",
              "      <th>X23</th>\n",
              "      <th>Y</th>\n",
              "    </tr>\n",
              "  </thead>\n",
              "  <tbody>\n",
              "    <tr>\n",
              "      <th>29996</th>\n",
              "      <td>29996</td>\n",
              "      <td>220000</td>\n",
              "      <td>1</td>\n",
              "      <td>3</td>\n",
              "      <td>1</td>\n",
              "      <td>39</td>\n",
              "      <td>0</td>\n",
              "      <td>0</td>\n",
              "      <td>0</td>\n",
              "      <td>0</td>\n",
              "      <td>0</td>\n",
              "      <td>0</td>\n",
              "      <td>188948</td>\n",
              "      <td>192815</td>\n",
              "      <td>208365</td>\n",
              "      <td>88004</td>\n",
              "      <td>31237</td>\n",
              "      <td>15980</td>\n",
              "      <td>8500</td>\n",
              "      <td>20000</td>\n",
              "      <td>5003</td>\n",
              "      <td>3047</td>\n",
              "      <td>5000</td>\n",
              "      <td>1000</td>\n",
              "      <td>0</td>\n",
              "    </tr>\n",
              "    <tr>\n",
              "      <th>29997</th>\n",
              "      <td>29997</td>\n",
              "      <td>150000</td>\n",
              "      <td>1</td>\n",
              "      <td>3</td>\n",
              "      <td>2</td>\n",
              "      <td>43</td>\n",
              "      <td>-1</td>\n",
              "      <td>-1</td>\n",
              "      <td>-1</td>\n",
              "      <td>-1</td>\n",
              "      <td>0</td>\n",
              "      <td>0</td>\n",
              "      <td>1683</td>\n",
              "      <td>1828</td>\n",
              "      <td>3502</td>\n",
              "      <td>8979</td>\n",
              "      <td>5190</td>\n",
              "      <td>0</td>\n",
              "      <td>1837</td>\n",
              "      <td>3526</td>\n",
              "      <td>8998</td>\n",
              "      <td>129</td>\n",
              "      <td>0</td>\n",
              "      <td>0</td>\n",
              "      <td>0</td>\n",
              "    </tr>\n",
              "    <tr>\n",
              "      <th>29998</th>\n",
              "      <td>29998</td>\n",
              "      <td>30000</td>\n",
              "      <td>1</td>\n",
              "      <td>2</td>\n",
              "      <td>2</td>\n",
              "      <td>37</td>\n",
              "      <td>4</td>\n",
              "      <td>3</td>\n",
              "      <td>2</td>\n",
              "      <td>-1</td>\n",
              "      <td>0</td>\n",
              "      <td>0</td>\n",
              "      <td>3565</td>\n",
              "      <td>3356</td>\n",
              "      <td>2758</td>\n",
              "      <td>20878</td>\n",
              "      <td>20582</td>\n",
              "      <td>19357</td>\n",
              "      <td>0</td>\n",
              "      <td>0</td>\n",
              "      <td>22000</td>\n",
              "      <td>4200</td>\n",
              "      <td>2000</td>\n",
              "      <td>3100</td>\n",
              "      <td>1</td>\n",
              "    </tr>\n",
              "    <tr>\n",
              "      <th>29999</th>\n",
              "      <td>29999</td>\n",
              "      <td>80000</td>\n",
              "      <td>1</td>\n",
              "      <td>3</td>\n",
              "      <td>1</td>\n",
              "      <td>41</td>\n",
              "      <td>1</td>\n",
              "      <td>-1</td>\n",
              "      <td>0</td>\n",
              "      <td>0</td>\n",
              "      <td>0</td>\n",
              "      <td>-1</td>\n",
              "      <td>-1645</td>\n",
              "      <td>78379</td>\n",
              "      <td>76304</td>\n",
              "      <td>52774</td>\n",
              "      <td>11855</td>\n",
              "      <td>48944</td>\n",
              "      <td>85900</td>\n",
              "      <td>3409</td>\n",
              "      <td>1178</td>\n",
              "      <td>1926</td>\n",
              "      <td>52964</td>\n",
              "      <td>1804</td>\n",
              "      <td>1</td>\n",
              "    </tr>\n",
              "    <tr>\n",
              "      <th>30000</th>\n",
              "      <td>30000</td>\n",
              "      <td>50000</td>\n",
              "      <td>1</td>\n",
              "      <td>2</td>\n",
              "      <td>1</td>\n",
              "      <td>46</td>\n",
              "      <td>0</td>\n",
              "      <td>0</td>\n",
              "      <td>0</td>\n",
              "      <td>0</td>\n",
              "      <td>0</td>\n",
              "      <td>0</td>\n",
              "      <td>47929</td>\n",
              "      <td>48905</td>\n",
              "      <td>49764</td>\n",
              "      <td>36535</td>\n",
              "      <td>32428</td>\n",
              "      <td>15313</td>\n",
              "      <td>2078</td>\n",
              "      <td>1800</td>\n",
              "      <td>1430</td>\n",
              "      <td>1000</td>\n",
              "      <td>1000</td>\n",
              "      <td>1000</td>\n",
              "      <td>1</td>\n",
              "    </tr>\n",
              "  </tbody>\n",
              "</table>\n",
              "</div>"
            ],
            "text/plain": [
              "      Unnamed: 0      X1 X2 X3 X4  X5  ...    X19    X20   X21    X22   X23  Y\n",
              "29996      29996  220000  1  3  1  39  ...  20000   5003  3047   5000  1000  0\n",
              "29997      29997  150000  1  3  2  43  ...   3526   8998   129      0     0  0\n",
              "29998      29998   30000  1  2  2  37  ...      0  22000  4200   2000  3100  1\n",
              "29999      29999   80000  1  3  1  41  ...   3409   1178  1926  52964  1804  1\n",
              "30000      30000   50000  1  2  1  46  ...   1800   1430  1000   1000  1000  1\n",
              "\n",
              "[5 rows x 25 columns]"
            ]
          },
          "metadata": {},
          "execution_count": 178
        }
      ]
    },
    {
      "cell_type": "code",
      "metadata": {
        "colab": {
          "base_uri": "https://localhost:8080/"
        },
        "id": "vBpL6mRMMtdb",
        "outputId": "408171b0-faa4-482d-c737-f05bdbf8633c"
      },
      "source": [
        "df.columns"
      ],
      "execution_count": null,
      "outputs": [
        {
          "output_type": "execute_result",
          "data": {
            "text/plain": [
              "Index(['Unnamed: 0', 'X1', 'X2', 'X3', 'X4', 'X5', 'X6', 'X7', 'X8', 'X9',\n",
              "       'X10', 'X11', 'X12', 'X13', 'X14', 'X15', 'X16', 'X17', 'X18', 'X19',\n",
              "       'X20', 'X21', 'X22', 'X23', 'Y'],\n",
              "      dtype='object')"
            ]
          },
          "metadata": {},
          "execution_count": 179
        }
      ]
    },
    {
      "cell_type": "code",
      "metadata": {
        "id": "nujDlBuucnr3"
      },
      "source": [
        ""
      ],
      "execution_count": null,
      "outputs": []
    },
    {
      "cell_type": "code",
      "metadata": {
        "id": "Vm5xbaEb8e1U"
      },
      "source": [
        "#renaming the columns for better understanding\n",
        "df.columns = ['ID', 'Credit_given', 'Gender', 'Education','Marriage', 'Age', 'Paymment_his_april',\n",
        "       'Paymment_his_may', 'Paymment_his_june', 'Paymment_his_july', 'Paymment_his_august', 'Paymment_his_sept', 'BILL_AMT_april',\n",
        "       'BILL_AMT_may', 'BILL_AMT_june', 'BILL_AMT_july', 'BILL_AMT_august','BILL_AMT_sept','PAY_AMT_april','PAY_AMT_may','PAY_AMT_june','PAY_AMT_july','PAY_AMT_august','PAY_AMT_sept','Next_month_default']"
      ],
      "execution_count": null,
      "outputs": []
    },
    {
      "cell_type": "code",
      "metadata": {
        "colab": {
          "base_uri": "https://localhost:8080/",
          "height": 241
        },
        "id": "6qlJExZUAJci",
        "outputId": "f25f2fe7-ae67-458c-f357-161406e5fdc3"
      },
      "source": [
        "df.head()"
      ],
      "execution_count": null,
      "outputs": [
        {
          "output_type": "execute_result",
          "data": {
            "text/html": [
              "<div>\n",
              "<style scoped>\n",
              "    .dataframe tbody tr th:only-of-type {\n",
              "        vertical-align: middle;\n",
              "    }\n",
              "\n",
              "    .dataframe tbody tr th {\n",
              "        vertical-align: top;\n",
              "    }\n",
              "\n",
              "    .dataframe thead th {\n",
              "        text-align: right;\n",
              "    }\n",
              "</style>\n",
              "<table border=\"1\" class=\"dataframe\">\n",
              "  <thead>\n",
              "    <tr style=\"text-align: right;\">\n",
              "      <th></th>\n",
              "      <th>ID</th>\n",
              "      <th>Credit_given</th>\n",
              "      <th>Gender</th>\n",
              "      <th>Education</th>\n",
              "      <th>Marriage</th>\n",
              "      <th>Age</th>\n",
              "      <th>Paymment_his_april</th>\n",
              "      <th>Paymment_his_may</th>\n",
              "      <th>Paymment_his_june</th>\n",
              "      <th>Paymment_his_july</th>\n",
              "      <th>Paymment_his_august</th>\n",
              "      <th>Paymment_his_sept</th>\n",
              "      <th>BILL_AMT_april</th>\n",
              "      <th>BILL_AMT_may</th>\n",
              "      <th>BILL_AMT_june</th>\n",
              "      <th>BILL_AMT_july</th>\n",
              "      <th>BILL_AMT_august</th>\n",
              "      <th>BILL_AMT_sept</th>\n",
              "      <th>PAY_AMT_april</th>\n",
              "      <th>PAY_AMT_may</th>\n",
              "      <th>PAY_AMT_june</th>\n",
              "      <th>PAY_AMT_july</th>\n",
              "      <th>PAY_AMT_august</th>\n",
              "      <th>PAY_AMT_sept</th>\n",
              "      <th>Next_month_default</th>\n",
              "    </tr>\n",
              "  </thead>\n",
              "  <tbody>\n",
              "    <tr>\n",
              "      <th>0</th>\n",
              "      <td>ID</td>\n",
              "      <td>LIMIT_BAL</td>\n",
              "      <td>SEX</td>\n",
              "      <td>EDUCATION</td>\n",
              "      <td>MARRIAGE</td>\n",
              "      <td>AGE</td>\n",
              "      <td>PAY_0</td>\n",
              "      <td>PAY_2</td>\n",
              "      <td>PAY_3</td>\n",
              "      <td>PAY_4</td>\n",
              "      <td>PAY_5</td>\n",
              "      <td>PAY_6</td>\n",
              "      <td>BILL_AMT1</td>\n",
              "      <td>BILL_AMT2</td>\n",
              "      <td>BILL_AMT3</td>\n",
              "      <td>BILL_AMT4</td>\n",
              "      <td>BILL_AMT5</td>\n",
              "      <td>BILL_AMT6</td>\n",
              "      <td>PAY_AMT1</td>\n",
              "      <td>PAY_AMT2</td>\n",
              "      <td>PAY_AMT3</td>\n",
              "      <td>PAY_AMT4</td>\n",
              "      <td>PAY_AMT5</td>\n",
              "      <td>PAY_AMT6</td>\n",
              "      <td>default payment next month</td>\n",
              "    </tr>\n",
              "    <tr>\n",
              "      <th>1</th>\n",
              "      <td>1</td>\n",
              "      <td>20000</td>\n",
              "      <td>2</td>\n",
              "      <td>2</td>\n",
              "      <td>1</td>\n",
              "      <td>24</td>\n",
              "      <td>2</td>\n",
              "      <td>2</td>\n",
              "      <td>-1</td>\n",
              "      <td>-1</td>\n",
              "      <td>-2</td>\n",
              "      <td>-2</td>\n",
              "      <td>3913</td>\n",
              "      <td>3102</td>\n",
              "      <td>689</td>\n",
              "      <td>0</td>\n",
              "      <td>0</td>\n",
              "      <td>0</td>\n",
              "      <td>0</td>\n",
              "      <td>689</td>\n",
              "      <td>0</td>\n",
              "      <td>0</td>\n",
              "      <td>0</td>\n",
              "      <td>0</td>\n",
              "      <td>1</td>\n",
              "    </tr>\n",
              "    <tr>\n",
              "      <th>2</th>\n",
              "      <td>2</td>\n",
              "      <td>120000</td>\n",
              "      <td>2</td>\n",
              "      <td>2</td>\n",
              "      <td>2</td>\n",
              "      <td>26</td>\n",
              "      <td>-1</td>\n",
              "      <td>2</td>\n",
              "      <td>0</td>\n",
              "      <td>0</td>\n",
              "      <td>0</td>\n",
              "      <td>2</td>\n",
              "      <td>2682</td>\n",
              "      <td>1725</td>\n",
              "      <td>2682</td>\n",
              "      <td>3272</td>\n",
              "      <td>3455</td>\n",
              "      <td>3261</td>\n",
              "      <td>0</td>\n",
              "      <td>1000</td>\n",
              "      <td>1000</td>\n",
              "      <td>1000</td>\n",
              "      <td>0</td>\n",
              "      <td>2000</td>\n",
              "      <td>1</td>\n",
              "    </tr>\n",
              "    <tr>\n",
              "      <th>3</th>\n",
              "      <td>3</td>\n",
              "      <td>90000</td>\n",
              "      <td>2</td>\n",
              "      <td>2</td>\n",
              "      <td>2</td>\n",
              "      <td>34</td>\n",
              "      <td>0</td>\n",
              "      <td>0</td>\n",
              "      <td>0</td>\n",
              "      <td>0</td>\n",
              "      <td>0</td>\n",
              "      <td>0</td>\n",
              "      <td>29239</td>\n",
              "      <td>14027</td>\n",
              "      <td>13559</td>\n",
              "      <td>14331</td>\n",
              "      <td>14948</td>\n",
              "      <td>15549</td>\n",
              "      <td>1518</td>\n",
              "      <td>1500</td>\n",
              "      <td>1000</td>\n",
              "      <td>1000</td>\n",
              "      <td>1000</td>\n",
              "      <td>5000</td>\n",
              "      <td>0</td>\n",
              "    </tr>\n",
              "    <tr>\n",
              "      <th>4</th>\n",
              "      <td>4</td>\n",
              "      <td>50000</td>\n",
              "      <td>2</td>\n",
              "      <td>2</td>\n",
              "      <td>1</td>\n",
              "      <td>37</td>\n",
              "      <td>0</td>\n",
              "      <td>0</td>\n",
              "      <td>0</td>\n",
              "      <td>0</td>\n",
              "      <td>0</td>\n",
              "      <td>0</td>\n",
              "      <td>46990</td>\n",
              "      <td>48233</td>\n",
              "      <td>49291</td>\n",
              "      <td>28314</td>\n",
              "      <td>28959</td>\n",
              "      <td>29547</td>\n",
              "      <td>2000</td>\n",
              "      <td>2019</td>\n",
              "      <td>1200</td>\n",
              "      <td>1100</td>\n",
              "      <td>1069</td>\n",
              "      <td>1000</td>\n",
              "      <td>0</td>\n",
              "    </tr>\n",
              "  </tbody>\n",
              "</table>\n",
              "</div>"
            ],
            "text/plain": [
              "   ID Credit_given  ... PAY_AMT_sept          Next_month_default\n",
              "0  ID    LIMIT_BAL  ...     PAY_AMT6  default payment next month\n",
              "1   1        20000  ...            0                           1\n",
              "2   2       120000  ...         2000                           1\n",
              "3   3        90000  ...         5000                           0\n",
              "4   4        50000  ...         1000                           0\n",
              "\n",
              "[5 rows x 25 columns]"
            ]
          },
          "metadata": {},
          "execution_count": 181
        }
      ]
    },
    {
      "cell_type": "code",
      "metadata": {
        "colab": {
          "base_uri": "https://localhost:8080/"
        },
        "id": "5MdELWMnAKXB",
        "outputId": "3676038e-4fbd-49cf-8d35-ce27ef3c553f"
      },
      "source": [
        "df.isnull().sum()"
      ],
      "execution_count": null,
      "outputs": [
        {
          "output_type": "execute_result",
          "data": {
            "text/plain": [
              "ID                     0\n",
              "Credit_given           0\n",
              "Gender                 0\n",
              "Education              0\n",
              "Marriage               0\n",
              "Age                    0\n",
              "Paymment_his_april     0\n",
              "Paymment_his_may       0\n",
              "Paymment_his_june      0\n",
              "Paymment_his_july      0\n",
              "Paymment_his_august    0\n",
              "Paymment_his_sept      0\n",
              "BILL_AMT_april         0\n",
              "BILL_AMT_may           0\n",
              "BILL_AMT_june          0\n",
              "BILL_AMT_july          0\n",
              "BILL_AMT_august        0\n",
              "BILL_AMT_sept          0\n",
              "PAY_AMT_april          0\n",
              "PAY_AMT_may            0\n",
              "PAY_AMT_june           0\n",
              "PAY_AMT_july           0\n",
              "PAY_AMT_august         0\n",
              "PAY_AMT_sept           0\n",
              "Next_month_default     0\n",
              "dtype: int64"
            ]
          },
          "metadata": {},
          "execution_count": 182
        }
      ]
    },
    {
      "cell_type": "code",
      "metadata": {
        "colab": {
          "base_uri": "https://localhost:8080/",
          "height": 824
        },
        "id": "mT53YlIqBmFp",
        "outputId": "7cfa42bf-4051-4b26-9320-fe1f87958799"
      },
      "source": [
        "df.describe().T"
      ],
      "execution_count": null,
      "outputs": [
        {
          "output_type": "execute_result",
          "data": {
            "text/html": [
              "<div>\n",
              "<style scoped>\n",
              "    .dataframe tbody tr th:only-of-type {\n",
              "        vertical-align: middle;\n",
              "    }\n",
              "\n",
              "    .dataframe tbody tr th {\n",
              "        vertical-align: top;\n",
              "    }\n",
              "\n",
              "    .dataframe thead th {\n",
              "        text-align: right;\n",
              "    }\n",
              "</style>\n",
              "<table border=\"1\" class=\"dataframe\">\n",
              "  <thead>\n",
              "    <tr style=\"text-align: right;\">\n",
              "      <th></th>\n",
              "      <th>count</th>\n",
              "      <th>unique</th>\n",
              "      <th>top</th>\n",
              "      <th>freq</th>\n",
              "    </tr>\n",
              "  </thead>\n",
              "  <tbody>\n",
              "    <tr>\n",
              "      <th>ID</th>\n",
              "      <td>30001</td>\n",
              "      <td>30001</td>\n",
              "      <td>11384</td>\n",
              "      <td>1</td>\n",
              "    </tr>\n",
              "    <tr>\n",
              "      <th>Credit_given</th>\n",
              "      <td>30001</td>\n",
              "      <td>82</td>\n",
              "      <td>50000</td>\n",
              "      <td>3365</td>\n",
              "    </tr>\n",
              "    <tr>\n",
              "      <th>Gender</th>\n",
              "      <td>30001</td>\n",
              "      <td>3</td>\n",
              "      <td>2</td>\n",
              "      <td>18112</td>\n",
              "    </tr>\n",
              "    <tr>\n",
              "      <th>Education</th>\n",
              "      <td>30001</td>\n",
              "      <td>8</td>\n",
              "      <td>2</td>\n",
              "      <td>14030</td>\n",
              "    </tr>\n",
              "    <tr>\n",
              "      <th>Marriage</th>\n",
              "      <td>30001</td>\n",
              "      <td>5</td>\n",
              "      <td>2</td>\n",
              "      <td>15964</td>\n",
              "    </tr>\n",
              "    <tr>\n",
              "      <th>Age</th>\n",
              "      <td>30001</td>\n",
              "      <td>57</td>\n",
              "      <td>29</td>\n",
              "      <td>1605</td>\n",
              "    </tr>\n",
              "    <tr>\n",
              "      <th>Paymment_his_april</th>\n",
              "      <td>30001</td>\n",
              "      <td>12</td>\n",
              "      <td>0</td>\n",
              "      <td>14737</td>\n",
              "    </tr>\n",
              "    <tr>\n",
              "      <th>Paymment_his_may</th>\n",
              "      <td>30001</td>\n",
              "      <td>12</td>\n",
              "      <td>0</td>\n",
              "      <td>15730</td>\n",
              "    </tr>\n",
              "    <tr>\n",
              "      <th>Paymment_his_june</th>\n",
              "      <td>30001</td>\n",
              "      <td>12</td>\n",
              "      <td>0</td>\n",
              "      <td>15764</td>\n",
              "    </tr>\n",
              "    <tr>\n",
              "      <th>Paymment_his_july</th>\n",
              "      <td>30001</td>\n",
              "      <td>12</td>\n",
              "      <td>0</td>\n",
              "      <td>16455</td>\n",
              "    </tr>\n",
              "    <tr>\n",
              "      <th>Paymment_his_august</th>\n",
              "      <td>30001</td>\n",
              "      <td>11</td>\n",
              "      <td>0</td>\n",
              "      <td>16947</td>\n",
              "    </tr>\n",
              "    <tr>\n",
              "      <th>Paymment_his_sept</th>\n",
              "      <td>30001</td>\n",
              "      <td>11</td>\n",
              "      <td>0</td>\n",
              "      <td>16286</td>\n",
              "    </tr>\n",
              "    <tr>\n",
              "      <th>BILL_AMT_april</th>\n",
              "      <td>30001</td>\n",
              "      <td>22724</td>\n",
              "      <td>0</td>\n",
              "      <td>2008</td>\n",
              "    </tr>\n",
              "    <tr>\n",
              "      <th>BILL_AMT_may</th>\n",
              "      <td>30001</td>\n",
              "      <td>22347</td>\n",
              "      <td>0</td>\n",
              "      <td>2506</td>\n",
              "    </tr>\n",
              "    <tr>\n",
              "      <th>BILL_AMT_june</th>\n",
              "      <td>30001</td>\n",
              "      <td>22027</td>\n",
              "      <td>0</td>\n",
              "      <td>2870</td>\n",
              "    </tr>\n",
              "    <tr>\n",
              "      <th>BILL_AMT_july</th>\n",
              "      <td>30001</td>\n",
              "      <td>21549</td>\n",
              "      <td>0</td>\n",
              "      <td>3195</td>\n",
              "    </tr>\n",
              "    <tr>\n",
              "      <th>BILL_AMT_august</th>\n",
              "      <td>30001</td>\n",
              "      <td>21011</td>\n",
              "      <td>0</td>\n",
              "      <td>3506</td>\n",
              "    </tr>\n",
              "    <tr>\n",
              "      <th>BILL_AMT_sept</th>\n",
              "      <td>30001</td>\n",
              "      <td>20605</td>\n",
              "      <td>0</td>\n",
              "      <td>4020</td>\n",
              "    </tr>\n",
              "    <tr>\n",
              "      <th>PAY_AMT_april</th>\n",
              "      <td>30001</td>\n",
              "      <td>7944</td>\n",
              "      <td>0</td>\n",
              "      <td>5249</td>\n",
              "    </tr>\n",
              "    <tr>\n",
              "      <th>PAY_AMT_may</th>\n",
              "      <td>30001</td>\n",
              "      <td>7900</td>\n",
              "      <td>0</td>\n",
              "      <td>5396</td>\n",
              "    </tr>\n",
              "    <tr>\n",
              "      <th>PAY_AMT_june</th>\n",
              "      <td>30001</td>\n",
              "      <td>7519</td>\n",
              "      <td>0</td>\n",
              "      <td>5968</td>\n",
              "    </tr>\n",
              "    <tr>\n",
              "      <th>PAY_AMT_july</th>\n",
              "      <td>30001</td>\n",
              "      <td>6938</td>\n",
              "      <td>0</td>\n",
              "      <td>6408</td>\n",
              "    </tr>\n",
              "    <tr>\n",
              "      <th>PAY_AMT_august</th>\n",
              "      <td>30001</td>\n",
              "      <td>6898</td>\n",
              "      <td>0</td>\n",
              "      <td>6703</td>\n",
              "    </tr>\n",
              "    <tr>\n",
              "      <th>PAY_AMT_sept</th>\n",
              "      <td>30001</td>\n",
              "      <td>6940</td>\n",
              "      <td>0</td>\n",
              "      <td>7173</td>\n",
              "    </tr>\n",
              "    <tr>\n",
              "      <th>Next_month_default</th>\n",
              "      <td>30001</td>\n",
              "      <td>3</td>\n",
              "      <td>0</td>\n",
              "      <td>23364</td>\n",
              "    </tr>\n",
              "  </tbody>\n",
              "</table>\n",
              "</div>"
            ],
            "text/plain": [
              "                     count  unique    top   freq\n",
              "ID                   30001   30001  11384      1\n",
              "Credit_given         30001      82  50000   3365\n",
              "Gender               30001       3      2  18112\n",
              "Education            30001       8      2  14030\n",
              "Marriage             30001       5      2  15964\n",
              "Age                  30001      57     29   1605\n",
              "Paymment_his_april   30001      12      0  14737\n",
              "Paymment_his_may     30001      12      0  15730\n",
              "Paymment_his_june    30001      12      0  15764\n",
              "Paymment_his_july    30001      12      0  16455\n",
              "Paymment_his_august  30001      11      0  16947\n",
              "Paymment_his_sept    30001      11      0  16286\n",
              "BILL_AMT_april       30001   22724      0   2008\n",
              "BILL_AMT_may         30001   22347      0   2506\n",
              "BILL_AMT_june        30001   22027      0   2870\n",
              "BILL_AMT_july        30001   21549      0   3195\n",
              "BILL_AMT_august      30001   21011      0   3506\n",
              "BILL_AMT_sept        30001   20605      0   4020\n",
              "PAY_AMT_april        30001    7944      0   5249\n",
              "PAY_AMT_may          30001    7900      0   5396\n",
              "PAY_AMT_june         30001    7519      0   5968\n",
              "PAY_AMT_july         30001    6938      0   6408\n",
              "PAY_AMT_august       30001    6898      0   6703\n",
              "PAY_AMT_sept         30001    6940      0   7173\n",
              "Next_month_default   30001       3      0  23364"
            ]
          },
          "metadata": {},
          "execution_count": 183
        }
      ]
    },
    {
      "cell_type": "markdown",
      "metadata": {
        "id": "8-9E5Yz6BfKa"
      },
      "source": [
        "EDA and Data Visualization"
      ]
    },
    {
      "cell_type": "code",
      "metadata": {
        "id": "S-8_WFmYIKRD"
      },
      "source": [
        "#drop the label\n",
        "df = df.drop(labels=0, axis=0)"
      ],
      "execution_count": null,
      "outputs": []
    },
    {
      "cell_type": "code",
      "metadata": {
        "colab": {
          "base_uri": "https://localhost:8080/",
          "height": 224
        },
        "id": "KuFaxNVM-wvJ",
        "outputId": "114df23e-45f5-49b5-da4a-ed49fe2277fe"
      },
      "source": [
        "df.head()"
      ],
      "execution_count": null,
      "outputs": [
        {
          "output_type": "execute_result",
          "data": {
            "text/html": [
              "<div>\n",
              "<style scoped>\n",
              "    .dataframe tbody tr th:only-of-type {\n",
              "        vertical-align: middle;\n",
              "    }\n",
              "\n",
              "    .dataframe tbody tr th {\n",
              "        vertical-align: top;\n",
              "    }\n",
              "\n",
              "    .dataframe thead th {\n",
              "        text-align: right;\n",
              "    }\n",
              "</style>\n",
              "<table border=\"1\" class=\"dataframe\">\n",
              "  <thead>\n",
              "    <tr style=\"text-align: right;\">\n",
              "      <th></th>\n",
              "      <th>ID</th>\n",
              "      <th>Credit_given</th>\n",
              "      <th>Gender</th>\n",
              "      <th>Education</th>\n",
              "      <th>Marriage</th>\n",
              "      <th>Age</th>\n",
              "      <th>Paymment_his_april</th>\n",
              "      <th>Paymment_his_may</th>\n",
              "      <th>Paymment_his_june</th>\n",
              "      <th>Paymment_his_july</th>\n",
              "      <th>Paymment_his_august</th>\n",
              "      <th>Paymment_his_sept</th>\n",
              "      <th>BILL_AMT_april</th>\n",
              "      <th>BILL_AMT_may</th>\n",
              "      <th>BILL_AMT_june</th>\n",
              "      <th>BILL_AMT_july</th>\n",
              "      <th>BILL_AMT_august</th>\n",
              "      <th>BILL_AMT_sept</th>\n",
              "      <th>PAY_AMT_april</th>\n",
              "      <th>PAY_AMT_may</th>\n",
              "      <th>PAY_AMT_june</th>\n",
              "      <th>PAY_AMT_july</th>\n",
              "      <th>PAY_AMT_august</th>\n",
              "      <th>PAY_AMT_sept</th>\n",
              "      <th>Next_month_default</th>\n",
              "    </tr>\n",
              "  </thead>\n",
              "  <tbody>\n",
              "    <tr>\n",
              "      <th>1</th>\n",
              "      <td>1</td>\n",
              "      <td>20000</td>\n",
              "      <td>2</td>\n",
              "      <td>2</td>\n",
              "      <td>1</td>\n",
              "      <td>24</td>\n",
              "      <td>2</td>\n",
              "      <td>2</td>\n",
              "      <td>-1</td>\n",
              "      <td>-1</td>\n",
              "      <td>-2</td>\n",
              "      <td>-2</td>\n",
              "      <td>3913</td>\n",
              "      <td>3102</td>\n",
              "      <td>689</td>\n",
              "      <td>0</td>\n",
              "      <td>0</td>\n",
              "      <td>0</td>\n",
              "      <td>0</td>\n",
              "      <td>689</td>\n",
              "      <td>0</td>\n",
              "      <td>0</td>\n",
              "      <td>0</td>\n",
              "      <td>0</td>\n",
              "      <td>1</td>\n",
              "    </tr>\n",
              "    <tr>\n",
              "      <th>2</th>\n",
              "      <td>2</td>\n",
              "      <td>120000</td>\n",
              "      <td>2</td>\n",
              "      <td>2</td>\n",
              "      <td>2</td>\n",
              "      <td>26</td>\n",
              "      <td>-1</td>\n",
              "      <td>2</td>\n",
              "      <td>0</td>\n",
              "      <td>0</td>\n",
              "      <td>0</td>\n",
              "      <td>2</td>\n",
              "      <td>2682</td>\n",
              "      <td>1725</td>\n",
              "      <td>2682</td>\n",
              "      <td>3272</td>\n",
              "      <td>3455</td>\n",
              "      <td>3261</td>\n",
              "      <td>0</td>\n",
              "      <td>1000</td>\n",
              "      <td>1000</td>\n",
              "      <td>1000</td>\n",
              "      <td>0</td>\n",
              "      <td>2000</td>\n",
              "      <td>1</td>\n",
              "    </tr>\n",
              "    <tr>\n",
              "      <th>3</th>\n",
              "      <td>3</td>\n",
              "      <td>90000</td>\n",
              "      <td>2</td>\n",
              "      <td>2</td>\n",
              "      <td>2</td>\n",
              "      <td>34</td>\n",
              "      <td>0</td>\n",
              "      <td>0</td>\n",
              "      <td>0</td>\n",
              "      <td>0</td>\n",
              "      <td>0</td>\n",
              "      <td>0</td>\n",
              "      <td>29239</td>\n",
              "      <td>14027</td>\n",
              "      <td>13559</td>\n",
              "      <td>14331</td>\n",
              "      <td>14948</td>\n",
              "      <td>15549</td>\n",
              "      <td>1518</td>\n",
              "      <td>1500</td>\n",
              "      <td>1000</td>\n",
              "      <td>1000</td>\n",
              "      <td>1000</td>\n",
              "      <td>5000</td>\n",
              "      <td>0</td>\n",
              "    </tr>\n",
              "    <tr>\n",
              "      <th>4</th>\n",
              "      <td>4</td>\n",
              "      <td>50000</td>\n",
              "      <td>2</td>\n",
              "      <td>2</td>\n",
              "      <td>1</td>\n",
              "      <td>37</td>\n",
              "      <td>0</td>\n",
              "      <td>0</td>\n",
              "      <td>0</td>\n",
              "      <td>0</td>\n",
              "      <td>0</td>\n",
              "      <td>0</td>\n",
              "      <td>46990</td>\n",
              "      <td>48233</td>\n",
              "      <td>49291</td>\n",
              "      <td>28314</td>\n",
              "      <td>28959</td>\n",
              "      <td>29547</td>\n",
              "      <td>2000</td>\n",
              "      <td>2019</td>\n",
              "      <td>1200</td>\n",
              "      <td>1100</td>\n",
              "      <td>1069</td>\n",
              "      <td>1000</td>\n",
              "      <td>0</td>\n",
              "    </tr>\n",
              "    <tr>\n",
              "      <th>5</th>\n",
              "      <td>5</td>\n",
              "      <td>50000</td>\n",
              "      <td>1</td>\n",
              "      <td>2</td>\n",
              "      <td>1</td>\n",
              "      <td>57</td>\n",
              "      <td>-1</td>\n",
              "      <td>0</td>\n",
              "      <td>-1</td>\n",
              "      <td>0</td>\n",
              "      <td>0</td>\n",
              "      <td>0</td>\n",
              "      <td>8617</td>\n",
              "      <td>5670</td>\n",
              "      <td>35835</td>\n",
              "      <td>20940</td>\n",
              "      <td>19146</td>\n",
              "      <td>19131</td>\n",
              "      <td>2000</td>\n",
              "      <td>36681</td>\n",
              "      <td>10000</td>\n",
              "      <td>9000</td>\n",
              "      <td>689</td>\n",
              "      <td>679</td>\n",
              "      <td>0</td>\n",
              "    </tr>\n",
              "  </tbody>\n",
              "</table>\n",
              "</div>"
            ],
            "text/plain": [
              "  ID Credit_given Gender  ... PAY_AMT_august PAY_AMT_sept Next_month_default\n",
              "1  1        20000      2  ...              0            0                  1\n",
              "2  2       120000      2  ...              0         2000                  1\n",
              "3  3        90000      2  ...           1000         5000                  0\n",
              "4  4        50000      2  ...           1069         1000                  0\n",
              "5  5        50000      1  ...            689          679                  0\n",
              "\n",
              "[5 rows x 25 columns]"
            ]
          },
          "metadata": {},
          "execution_count": 185
        }
      ]
    },
    {
      "cell_type": "code",
      "metadata": {
        "colab": {
          "base_uri": "https://localhost:8080/"
        },
        "id": "RsIqsoBcBTUQ",
        "outputId": "0afe9d71-cc74-4fee-edc4-7d956d7eb72f"
      },
      "source": [
        "df['Next_month_default'].value_counts()"
      ],
      "execution_count": null,
      "outputs": [
        {
          "output_type": "execute_result",
          "data": {
            "text/plain": [
              "0    23364\n",
              "1     6636\n",
              "Name: Next_month_default, dtype: int64"
            ]
          },
          "metadata": {},
          "execution_count": 186
        }
      ]
    },
    {
      "cell_type": "code",
      "metadata": {
        "colab": {
          "base_uri": "https://localhost:8080/",
          "height": 280
        },
        "id": "P36MJBoNDIsv",
        "outputId": "e7d8f414-5926-489d-bd9e-09ba3265c253"
      },
      "source": [
        "ax = sns.countplot(x=\"Next_month_default\", data=df)\n",
        "tick_val=[0,1 ]\n",
        "tick_lab=['No Default','Default']\n",
        "plt.xticks(tick_val, tick_lab)\n",
        "plt.show()"
      ],
      "execution_count": null,
      "outputs": [
        {
          "output_type": "display_data",
          "data": {
            "image/png": "[encoded data removed]",
            "text/plain": [
              "<Figure size 432x288 with 1 Axes>"
            ]
          },
          "metadata": {
            "needs_background": "light"
          }
        }
      ]
    },
    {
      "cell_type": "markdown",
      "metadata": {
        "id": "oWu6JZlqGEAO"
      },
      "source": [
        "Imbalanced dataset due to oversampling. I'll be dealing with sampling techniques to make it a perfectly balanced dataset.\n",
        "\n"
      ]
    },
    {
      "cell_type": "code",
      "metadata": {
        "colab": {
          "base_uri": "https://localhost:8080/",
          "height": 623
        },
        "id": "Sjr3vq2RF9XU",
        "outputId": "886704fd-ac06-4558-f764-119ea4b32363"
      },
      "source": [
        "plt.figure(figsize=[20, 10])\n",
        "sns.countplot(x = 'Age', hue = 'Next_month_default', data =df)\n"
      ],
      "execution_count": null,
      "outputs": [
        {
          "output_type": "execute_result",
          "data": {
            "text/plain": [
              "<matplotlib.axes._subplots.AxesSubplot at 0x7ff2de2c3810>"
            ]
          },
          "metadata": {},
          "execution_count": 188
        },
        {
          "output_type": "display_data",
          "data": {
            "image/png": "[encoded data removed]",
            "text/plain": [
              "<Figure size 1440x720 with 1 Axes>"
            ]
          },
          "metadata": {
            "needs_background": "light"
          }
        }
      ]
    },
    {
      "cell_type": "code",
      "metadata": {
        "colab": {
          "base_uri": "https://localhost:8080/",
          "height": 334
        },
        "id": "OFQyjtysGUSs",
        "outputId": "ceb88faa-4007-42c2-effa-1e0b3a00b629"
      },
      "source": [
        "plt.figure(figsize=[10, 5])\n",
        "eduplot = sns.countplot(x = 'Education', hue = 'Next_month_default', data =df)\n",
        "\n",
        "tick_val=[0,1 , 2, 3,4,5,6]\n",
        "tick_lab=['Graduate','High school','University','Others','Unknown']\n",
        "plt.xticks(tick_val, tick_lab)\n",
        "plt.show()"
      ],
      "execution_count": null,
      "outputs": [
        {
          "output_type": "display_data",
          "data": {
            "image/png": "[encoded data removed]",
            "text/plain": [
              "<Figure size 720x360 with 1 Axes>"
            ]
          },
          "metadata": {
            "needs_background": "light"
          }
        }
      ]
    },
    {
      "cell_type": "code",
      "metadata": {
        "colab": {
          "base_uri": "https://localhost:8080/",
          "height": 334
        },
        "id": "VSyrNA2nGvR7",
        "outputId": "cfe57d03-a720-408e-ec25-83dba32686d8"
      },
      "source": [
        "plt.figure(figsize=[10, 5])\n",
        "sns.countplot(x = 'Marriage', hue = 'Next_month_default', data =df)\n",
        "\n",
        "tick_val=[0,1 , 2, 3]\n",
        "tick_lab=['Unknown','Married','Single','Others']\n",
        "plt.xticks(tick_val, tick_lab)\n",
        "plt.show()"
      ],
      "execution_count": null,
      "outputs": [
        {
          "output_type": "display_data",
          "data": {
            "image/png": "[encoded data removed]",
            "text/plain": [
              "<Figure size 720x360 with 1 Axes>"
            ]
          },
          "metadata": {
            "needs_background": "light"
          }
        }
      ]
    },
    {
      "cell_type": "code",
      "metadata": {
        "colab": {
          "base_uri": "https://localhost:8080/",
          "height": 334
        },
        "id": "wxMZr7lOGxkr",
        "outputId": "daa56367-77ae-4927-cf7e-917007e3f426"
      },
      "source": [
        "plt.figure(figsize=[10, 5])\n",
        "sns.countplot(x = 'Gender', hue = 'Next_month_default', data =df)\n",
        "\n",
        "tick_val=[0,1 ]\n",
        "tick_lab=['Male','Female']\n",
        "plt.xticks(tick_val, tick_lab)\n",
        "\n",
        "plt.show()"
      ],
      "execution_count": null,
      "outputs": [
        {
          "output_type": "display_data",
          "data": {
            "image/png": "[encoded data removed]",
            "text/plain": [
              "<Figure size 720x360 with 1 Axes>"
            ]
          },
          "metadata": {
            "needs_background": "light"
          }
        }
      ]
    },
    {
      "cell_type": "code",
      "metadata": {
        "colab": {
          "base_uri": "https://localhost:8080/",
          "height": 362
        },
        "id": "TBZ_GqgNHIrb",
        "outputId": "ccec1223-d5fa-4e66-bebb-24c2b8809dd9"
      },
      "source": [
        "plt.figure(figsize=(12,4))\n",
        "\n",
        "sns.distplot(df['Credit_given'])"
      ],
      "execution_count": null,
      "outputs": [
        {
          "output_type": "stream",
          "name": "stderr",
          "text": [
            "/usr/local/lib/python3.7/dist-packages/seaborn/distributions.py:2557: FutureWarning: `distplot` is a deprecated function and will be removed in a future version. Please adapt your code to use either `displot` (a figure-level function with similar flexibility) or `histplot` (an axes-level function for histograms).\n",
            "  warnings.warn(msg, FutureWarning)\n"
          ]
        },
        {
          "output_type": "execute_result",
          "data": {
            "text/plain": [
              "<matplotlib.axes._subplots.AxesSubplot at 0x7ff2db38dd90>"
            ]
          },
          "metadata": {},
          "execution_count": 192
        },
        {
          "output_type": "display_data",
          "data": {
            "image/png": "[encoded data removed]",
            "text/plain": [
              "<Figure size 864x288 with 1 Axes>"
            ]
          },
          "metadata": {
            "needs_background": "light"
          }
        }
      ]
    },
    {
      "cell_type": "code",
      "metadata": {
        "colab": {
          "base_uri": "https://localhost:8080/",
          "height": 1000
        },
        "id": "3Ojos4YDac6i",
        "outputId": "b41e222b-c11f-45ec-aca3-5e12a71bea83"
      },
      "source": [
        "payment_history_df = ['Paymment_his_april',\t'Paymment_his_may',\t'Paymment_his_june',\t'Paymment_his_july',\t'Paymment_his_august',\t'Paymment_his_sept']\n",
        "for col in payment_history_df:\n",
        "  plt.figure(figsize=(10,5))\n",
        "  sns.countplot(x = col, hue = 'Next_month_default', data = df)"
      ],
      "execution_count": null,
      "outputs": [
        {
          "output_type": "display_data",
          "data": {
            "image/png": "[encoded data removed]",
            "text/plain": [
              "<Figure size 720x360 with 1 Axes>"
            ]
          },
          "metadata": {
            "needs_background": "light"
          }
        },
        {
          "output_type": "display_data",
          "data": {
            "image/png": "[encoded data removed]",
            "text/plain": [
              "<Figure size 720x360 with 1 Axes>"
            ]
          },
          "metadata": {
            "needs_background": "light"
          }
        },
        {
          "output_type": "display_data",
          "data": {
            "image/png": "[encoded data removed]",
            "text/plain": [
              "<Figure size 720x360 with 1 Axes>"
            ]
          },
          "metadata": {
            "needs_background": "light"
          }
        },
        {
          "output_type": "display_data",
          "data": {
            "image/png": "[encoded data removed]",
            "text/plain": [
              "<Figure size 720x360 with 1 Axes>"
            ]
          },
          "metadata": {
            "needs_background": "light"
          }
        },
        {
          "output_type": "display_data",
          "data": {
            "image/png": "[encoded data removed]",
            "text/plain": [
              "<Figure size 720x360 with 1 Axes>"
            ]
          },
          "metadata": {
            "needs_background": "light"
          }
        },
        {
          "output_type": "display_data",
          "data": {
            "image/png": "[encoded data removed]",
            "text/plain": [
              "<Figure size 720x360 with 1 Axes>"
            ]
          },
          "metadata": {
            "needs_background": "light"
          }
        }
      ]
    },
    {
      "cell_type": "code",
      "metadata": {
        "colab": {
          "base_uri": "https://localhost:8080/",
          "height": 1000
        },
        "id": "SxW3k9-pfBD7",
        "outputId": "985fee33-8c83-4f7b-8a53-dfe682146acd"
      },
      "source": [
        "BILL_AMT_df = df[['BILL_AMT_april',\t'BILL_AMT_may',\t'BILL_AMT_june',\t'BILL_AMT_july',\t'BILL_AMT_august',\t'BILL_AMT_sept']]\n",
        "# for col in BILL_AMT_df:\n",
        "#   plt.figure(figsize=(10,5))\n",
        "#   sns.countplot(x = col, hue = 'Next_month_default', data = df)\n",
        "\n",
        "sns.pairplot(data = BILL_AMT_df)"
      ],
      "execution_count": null,
      "outputs": [
        {
          "output_type": "execute_result",
          "data": {
            "text/plain": [
              "<seaborn.axisgrid.PairGrid at 0x7ff2db1d39d0>"
            ]
          },
          "metadata": {},
          "execution_count": 194
        },
        {
          "output_type": "display_data",
          "data": {
            "image/png": "[encoded data removed]",
            "text/plain": [
              "<Figure size 1080x1080 with 42 Axes>"
            ]
          },
          "metadata": {
            "needs_background": "light"
          }
        }
      ]
    },
    {
      "cell_type": "code",
      "metadata": {
        "id": "adfU-CU1f1vn"
      },
      "source": [
        ""
      ],
      "execution_count": null,
      "outputs": []
    },
    {
      "cell_type": "code",
      "metadata": {
        "colab": {
          "base_uri": "https://localhost:8080/",
          "height": 224
        },
        "id": "imhfpYKQhzqT",
        "outputId": "f2767745-fccb-4ba0-bce9-1228b444d44f"
      },
      "source": [
        "df.head()"
      ],
      "execution_count": null,
      "outputs": [
        {
          "output_type": "execute_result",
          "data": {
            "text/html": [
              "<div>\n",
              "<style scoped>\n",
              "    .dataframe tbody tr th:only-of-type {\n",
              "        vertical-align: middle;\n",
              "    }\n",
              "\n",
              "    .dataframe tbody tr th {\n",
              "        vertical-align: top;\n",
              "    }\n",
              "\n",
              "    .dataframe thead th {\n",
              "        text-align: right;\n",
              "    }\n",
              "</style>\n",
              "<table border=\"1\" class=\"dataframe\">\n",
              "  <thead>\n",
              "    <tr style=\"text-align: right;\">\n",
              "      <th></th>\n",
              "      <th>ID</th>\n",
              "      <th>Credit_given</th>\n",
              "      <th>Gender</th>\n",
              "      <th>Education</th>\n",
              "      <th>Marriage</th>\n",
              "      <th>Age</th>\n",
              "      <th>Paymment_his_april</th>\n",
              "      <th>Paymment_his_may</th>\n",
              "      <th>Paymment_his_june</th>\n",
              "      <th>Paymment_his_july</th>\n",
              "      <th>Paymment_his_august</th>\n",
              "      <th>Paymment_his_sept</th>\n",
              "      <th>BILL_AMT_april</th>\n",
              "      <th>BILL_AMT_may</th>\n",
              "      <th>BILL_AMT_june</th>\n",
              "      <th>BILL_AMT_july</th>\n",
              "      <th>BILL_AMT_august</th>\n",
              "      <th>BILL_AMT_sept</th>\n",
              "      <th>PAY_AMT_april</th>\n",
              "      <th>PAY_AMT_may</th>\n",
              "      <th>PAY_AMT_june</th>\n",
              "      <th>PAY_AMT_july</th>\n",
              "      <th>PAY_AMT_august</th>\n",
              "      <th>PAY_AMT_sept</th>\n",
              "      <th>Next_month_default</th>\n",
              "    </tr>\n",
              "  </thead>\n",
              "  <tbody>\n",
              "    <tr>\n",
              "      <th>1</th>\n",
              "      <td>1</td>\n",
              "      <td>20000</td>\n",
              "      <td>2</td>\n",
              "      <td>2</td>\n",
              "      <td>1</td>\n",
              "      <td>24</td>\n",
              "      <td>2</td>\n",
              "      <td>2</td>\n",
              "      <td>-1</td>\n",
              "      <td>-1</td>\n",
              "      <td>-2</td>\n",
              "      <td>-2</td>\n",
              "      <td>3913</td>\n",
              "      <td>3102</td>\n",
              "      <td>689</td>\n",
              "      <td>0</td>\n",
              "      <td>0</td>\n",
              "      <td>0</td>\n",
              "      <td>0</td>\n",
              "      <td>689</td>\n",
              "      <td>0</td>\n",
              "      <td>0</td>\n",
              "      <td>0</td>\n",
              "      <td>0</td>\n",
              "      <td>1</td>\n",
              "    </tr>\n",
              "    <tr>\n",
              "      <th>2</th>\n",
              "      <td>2</td>\n",
              "      <td>120000</td>\n",
              "      <td>2</td>\n",
              "      <td>2</td>\n",
              "      <td>2</td>\n",
              "      <td>26</td>\n",
              "      <td>-1</td>\n",
              "      <td>2</td>\n",
              "      <td>0</td>\n",
              "      <td>0</td>\n",
              "      <td>0</td>\n",
              "      <td>2</td>\n",
              "      <td>2682</td>\n",
              "      <td>1725</td>\n",
              "      <td>2682</td>\n",
              "      <td>3272</td>\n",
              "      <td>3455</td>\n",
              "      <td>3261</td>\n",
              "      <td>0</td>\n",
              "      <td>1000</td>\n",
              "      <td>1000</td>\n",
              "      <td>1000</td>\n",
              "      <td>0</td>\n",
              "      <td>2000</td>\n",
              "      <td>1</td>\n",
              "    </tr>\n",
              "    <tr>\n",
              "      <th>3</th>\n",
              "      <td>3</td>\n",
              "      <td>90000</td>\n",
              "      <td>2</td>\n",
              "      <td>2</td>\n",
              "      <td>2</td>\n",
              "      <td>34</td>\n",
              "      <td>0</td>\n",
              "      <td>0</td>\n",
              "      <td>0</td>\n",
              "      <td>0</td>\n",
              "      <td>0</td>\n",
              "      <td>0</td>\n",
              "      <td>29239</td>\n",
              "      <td>14027</td>\n",
              "      <td>13559</td>\n",
              "      <td>14331</td>\n",
              "      <td>14948</td>\n",
              "      <td>15549</td>\n",
              "      <td>1518</td>\n",
              "      <td>1500</td>\n",
              "      <td>1000</td>\n",
              "      <td>1000</td>\n",
              "      <td>1000</td>\n",
              "      <td>5000</td>\n",
              "      <td>0</td>\n",
              "    </tr>\n",
              "    <tr>\n",
              "      <th>4</th>\n",
              "      <td>4</td>\n",
              "      <td>50000</td>\n",
              "      <td>2</td>\n",
              "      <td>2</td>\n",
              "      <td>1</td>\n",
              "      <td>37</td>\n",
              "      <td>0</td>\n",
              "      <td>0</td>\n",
              "      <td>0</td>\n",
              "      <td>0</td>\n",
              "      <td>0</td>\n",
              "      <td>0</td>\n",
              "      <td>46990</td>\n",
              "      <td>48233</td>\n",
              "      <td>49291</td>\n",
              "      <td>28314</td>\n",
              "      <td>28959</td>\n",
              "      <td>29547</td>\n",
              "      <td>2000</td>\n",
              "      <td>2019</td>\n",
              "      <td>1200</td>\n",
              "      <td>1100</td>\n",
              "      <td>1069</td>\n",
              "      <td>1000</td>\n",
              "      <td>0</td>\n",
              "    </tr>\n",
              "    <tr>\n",
              "      <th>5</th>\n",
              "      <td>5</td>\n",
              "      <td>50000</td>\n",
              "      <td>1</td>\n",
              "      <td>2</td>\n",
              "      <td>1</td>\n",
              "      <td>57</td>\n",
              "      <td>-1</td>\n",
              "      <td>0</td>\n",
              "      <td>-1</td>\n",
              "      <td>0</td>\n",
              "      <td>0</td>\n",
              "      <td>0</td>\n",
              "      <td>8617</td>\n",
              "      <td>5670</td>\n",
              "      <td>35835</td>\n",
              "      <td>20940</td>\n",
              "      <td>19146</td>\n",
              "      <td>19131</td>\n",
              "      <td>2000</td>\n",
              "      <td>36681</td>\n",
              "      <td>10000</td>\n",
              "      <td>9000</td>\n",
              "      <td>689</td>\n",
              "      <td>679</td>\n",
              "      <td>0</td>\n",
              "    </tr>\n",
              "  </tbody>\n",
              "</table>\n",
              "</div>"
            ],
            "text/plain": [
              "  ID Credit_given Gender  ... PAY_AMT_august PAY_AMT_sept Next_month_default\n",
              "1  1        20000      2  ...              0            0                  1\n",
              "2  2       120000      2  ...              0         2000                  1\n",
              "3  3        90000      2  ...           1000         5000                  0\n",
              "4  4        50000      2  ...           1069         1000                  0\n",
              "5  5        50000      1  ...            689          679                  0\n",
              "\n",
              "[5 rows x 25 columns]"
            ]
          },
          "metadata": {},
          "execution_count": 195
        }
      ]
    },
    {
      "cell_type": "markdown",
      "metadata": {
        "id": "2uzva6z863ZH"
      },
      "source": [
        "Overcoming Data Imbalancing "
      ]
    },
    {
      "cell_type": "markdown",
      "metadata": {
        "id": "bYhprRepjrNu"
      },
      "source": [
        "Depenedent Variable : Next_month_default seems to be imbalanced.\n",
        "To overcome this, two techniques of oversampling is used:\n",
        "1. Random Oversampling and undersampling\n",
        "2. SMOTE "
      ]
    },
    {
      "cell_type": "code",
      "metadata": {
        "colab": {
          "base_uri": "https://localhost:8080/"
        },
        "id": "UotIEPigh0zj",
        "outputId": "75b60fe0-8247-4c30-93e6-77de22f3c8e1"
      },
      "source": [
        "#1.random oversampling\n",
        "\n",
        "from imblearn.over_sampling import RandomOverSampler\n",
        "ros = RandomOverSampler()\n",
        "X_ros, y_ros = ros.fit_resample(df.iloc[:,0:-1], df['Next_month_default'])\n",
        "\n",
        "\n",
        "\n"
      ],
      "execution_count": null,
      "outputs": [
        {
          "output_type": "stream",
          "name": "stderr",
          "text": [
            "/usr/local/lib/python3.7/dist-packages/imblearn/utils/_validation.py:93: UserWarning: 'y' should be of types ('binary', 'multiclass', 'multilabel-indicator') only. Got unknown instead.\n",
            "  TARGET_KIND, type_of_target(y)))\n",
            "/usr/local/lib/python3.7/dist-packages/sklearn/utils/deprecation.py:87: FutureWarning: Function safe_indexing is deprecated; safe_indexing is deprecated in version 0.22 and will be removed in version 0.24.\n",
            "  warnings.warn(msg, category=FutureWarning)\n"
          ]
        }
      ]
    },
    {
      "cell_type": "code",
      "metadata": {
        "colab": {
          "base_uri": "https://localhost:8080/"
        },
        "id": "DUViE55_kl2C",
        "outputId": "31726a60-d322-47a7-f3c9-631765067758"
      },
      "source": [
        "print('Original dataset shape', len(df))\n",
        "print('Resampled dataset shape', len(y_ros))"
      ],
      "execution_count": null,
      "outputs": [
        {
          "output_type": "stream",
          "name": "stdout",
          "text": [
            "Original dataset shape 30000\n",
            "Resampled dataset shape 46728\n"
          ]
        }
      ]
    },
    {
      "cell_type": "code",
      "metadata": {
        "id": "eO1Kxg8-mDl7"
      },
      "source": [
        "columns = list(df.columns)"
      ],
      "execution_count": null,
      "outputs": []
    },
    {
      "cell_type": "code",
      "metadata": {
        "colab": {
          "base_uri": "https://localhost:8080/",
          "height": 35
        },
        "id": "KZZmxbrgmOqj",
        "outputId": "e4292366-159e-412a-a3e8-fb2dc35609a2"
      },
      "source": [
        "columns.pop()"
      ],
      "execution_count": null,
      "outputs": [
        {
          "output_type": "execute_result",
          "data": {
            "application/vnd.google.colaboratory.intrinsic+json": {
              "type": "string"
            },
            "text/plain": [
              "'Next_month_default'"
            ]
          },
          "metadata": {},
          "execution_count": 199
        }
      ]
    },
    {
      "cell_type": "code",
      "metadata": {
        "id": "c-svjoLvl4gU"
      },
      "source": [
        "oversampled_df = pd.DataFrame(X_ros, columns=columns)\n",
        "oversampled_df['Next_month_default'] = y_ros "
      ],
      "execution_count": null,
      "outputs": []
    },
    {
      "cell_type": "code",
      "metadata": {
        "colab": {
          "base_uri": "https://localhost:8080/",
          "height": 351
        },
        "id": "GZIAJvXxmi5r",
        "outputId": "86ce2d90-5b73-416a-cc4f-5466d363ecce"
      },
      "source": [
        "sns.countplot('Next_month_default', data = oversampled_df)"
      ],
      "execution_count": null,
      "outputs": [
        {
          "output_type": "stream",
          "name": "stderr",
          "text": [
            "/usr/local/lib/python3.7/dist-packages/seaborn/_decorators.py:43: FutureWarning: Pass the following variable as a keyword arg: x. From version 0.12, the only valid positional argument will be `data`, and passing other arguments without an explicit keyword will result in an error or misinterpretation.\n",
            "  FutureWarning\n"
          ]
        },
        {
          "output_type": "execute_result",
          "data": {
            "text/plain": [
              "<matplotlib.axes._subplots.AxesSubplot at 0x7ff2dc778d90>"
            ]
          },
          "metadata": {},
          "execution_count": 201
        },
        {
          "output_type": "display_data",
          "data": {
            "image/png": "[encoded data removed]",
            "text/plain": [
              "<Figure size 432x288 with 1 Axes>"
            ]
          },
          "metadata": {
            "needs_background": "light"
          }
        }
      ]
    },
    {
      "cell_type": "code",
      "metadata": {
        "colab": {
          "base_uri": "https://localhost:8080/"
        },
        "id": "TmPPR2Q3nVpy",
        "outputId": "c0ee92b6-7f0e-4caa-a493-02d46c3155e8"
      },
      "source": [
        "#random undersampling\n",
        "from imblearn.under_sampling import RandomUnderSampler\n",
        "rus = RandomUnderSampler()\n",
        "X_rus, y_rus = rus.fit_resample(df.iloc[:,0:-1], df['Next_month_default'])\n"
      ],
      "execution_count": null,
      "outputs": [
        {
          "output_type": "stream",
          "name": "stderr",
          "text": [
            "/usr/local/lib/python3.7/dist-packages/imblearn/utils/_validation.py:93: UserWarning: 'y' should be of types ('binary', 'multiclass', 'multilabel-indicator') only. Got unknown instead.\n",
            "  TARGET_KIND, type_of_target(y)))\n",
            "/usr/local/lib/python3.7/dist-packages/sklearn/utils/deprecation.py:87: FutureWarning: Function safe_indexing is deprecated; safe_indexing is deprecated in version 0.22 and will be removed in version 0.24.\n",
            "  warnings.warn(msg, category=FutureWarning)\n"
          ]
        }
      ]
    },
    {
      "cell_type": "code",
      "metadata": {
        "colab": {
          "base_uri": "https://localhost:8080/"
        },
        "id": "05lRdQ_SntqQ",
        "outputId": "b96c0ce4-1132-4df2-e6de-2d0dc8f18dcc"
      },
      "source": [
        "print('Original dataset shape', len(df))\n",
        "print('Resampled dataset shape', len(y_rus))"
      ],
      "execution_count": null,
      "outputs": [
        {
          "output_type": "stream",
          "name": "stdout",
          "text": [
            "Original dataset shape 30000\n",
            "Resampled dataset shape 13272\n"
          ]
        }
      ]
    },
    {
      "cell_type": "code",
      "metadata": {
        "id": "pIfe10CYwWOT"
      },
      "source": [
        "columns = list(df.columns)"
      ],
      "execution_count": null,
      "outputs": []
    },
    {
      "cell_type": "code",
      "metadata": {
        "colab": {
          "base_uri": "https://localhost:8080/",
          "height": 35
        },
        "id": "OyL5FaowmpHE",
        "outputId": "ab1a51aa-37db-4b10-f5b3-bc962f7ed9fe"
      },
      "source": [
        "columns.pop()"
      ],
      "execution_count": null,
      "outputs": [
        {
          "output_type": "execute_result",
          "data": {
            "application/vnd.google.colaboratory.intrinsic+json": {
              "type": "string"
            },
            "text/plain": [
              "'Next_month_default'"
            ]
          },
          "metadata": {},
          "execution_count": 205
        }
      ]
    },
    {
      "cell_type": "code",
      "metadata": {
        "id": "b7I87wySwbDr"
      },
      "source": [
        "undersampled_df = pd.DataFrame(X_rus, columns=columns)\n",
        "undersampled_df['Next_month_default'] = y_rus "
      ],
      "execution_count": null,
      "outputs": []
    },
    {
      "cell_type": "code",
      "metadata": {
        "colab": {
          "base_uri": "https://localhost:8080/",
          "height": 351
        },
        "id": "Ook4PYXRwje_",
        "outputId": "6a59394a-12d6-4345-d857-c4741d8a9ed7"
      },
      "source": [
        "sns.countplot('Next_month_default', data = undersampled_df)"
      ],
      "execution_count": null,
      "outputs": [
        {
          "output_type": "stream",
          "name": "stderr",
          "text": [
            "/usr/local/lib/python3.7/dist-packages/seaborn/_decorators.py:43: FutureWarning: Pass the following variable as a keyword arg: x. From version 0.12, the only valid positional argument will be `data`, and passing other arguments without an explicit keyword will result in an error or misinterpretation.\n",
            "  FutureWarning\n"
          ]
        },
        {
          "output_type": "execute_result",
          "data": {
            "text/plain": [
              "<matplotlib.axes._subplots.AxesSubplot at 0x7ff2dc7252d0>"
            ]
          },
          "metadata": {},
          "execution_count": 207
        },
        {
          "output_type": "display_data",
          "data": {
            "image/png": "[encoded data removed]",
            "text/plain": [
              "<Figure size 432x288 with 1 Axes>"
            ]
          },
          "metadata": {
            "needs_background": "light"
          }
        }
      ]
    },
    {
      "cell_type": "markdown",
      "metadata": {
        "id": "Ry-fACoZwoWc"
      },
      "source": [
        "Random Oversampling and Undersampling makes the model to overfit, this being the major drawback we are using SMOTE technique."
      ]
    },
    {
      "cell_type": "code",
      "metadata": {
        "colab": {
          "base_uri": "https://localhost:8080/"
        },
        "id": "xeXf20gaxHxB",
        "outputId": "aae22a63-7f92-4e09-f0d6-541ac0b12941"
      },
      "source": [
        "#SMOTE\n",
        "from imblearn.over_sampling import SMOTE\n",
        "\n",
        "smote = SMOTE()\n",
        "# fit predictor and target variable\n",
        "x_smote, y_smote = smote.fit_resample(df.iloc[:,0:-1], df['Next_month_default'])\n",
        "\n",
        "print('Original dataset shape', len(df))\n",
        "print('Resampled dataset shape', len(y_smote))"
      ],
      "execution_count": null,
      "outputs": [
        {
          "output_type": "stream",
          "name": "stderr",
          "text": [
            "/usr/local/lib/python3.7/dist-packages/imblearn/utils/_validation.py:93: UserWarning: 'y' should be of types ('binary', 'multiclass', 'multilabel-indicator') only. Got unknown instead.\n",
            "  TARGET_KIND, type_of_target(y)))\n",
            "/usr/local/lib/python3.7/dist-packages/sklearn/utils/deprecation.py:87: FutureWarning: Function safe_indexing is deprecated; safe_indexing is deprecated in version 0.22 and will be removed in version 0.24.\n",
            "  warnings.warn(msg, category=FutureWarning)\n"
          ]
        },
        {
          "output_type": "stream",
          "name": "stdout",
          "text": [
            "Original dataset shape 30000\n",
            "Resampled dataset shape 46728\n"
          ]
        }
      ]
    },
    {
      "cell_type": "code",
      "metadata": {
        "id": "Bt2XzkSXzb4i"
      },
      "source": [
        "columns = list(df.columns)"
      ],
      "execution_count": null,
      "outputs": []
    },
    {
      "cell_type": "code",
      "metadata": {
        "colab": {
          "base_uri": "https://localhost:8080/",
          "height": 35
        },
        "id": "ams4pKmkzd0D",
        "outputId": "fc20f2de-0654-4f49-deae-661561297d2c"
      },
      "source": [
        "columns.pop()"
      ],
      "execution_count": null,
      "outputs": [
        {
          "output_type": "execute_result",
          "data": {
            "application/vnd.google.colaboratory.intrinsic+json": {
              "type": "string"
            },
            "text/plain": [
              "'Next_month_default'"
            ]
          },
          "metadata": {},
          "execution_count": 210
        }
      ]
    },
    {
      "cell_type": "code",
      "metadata": {
        "id": "ZAfEN6LjzfF8"
      },
      "source": [
        "resampled_df = pd.DataFrame(x_smote, columns=columns)\n",
        "resampled_df['Next_month_default'] = y_smote "
      ],
      "execution_count": null,
      "outputs": []
    },
    {
      "cell_type": "code",
      "metadata": {
        "colab": {
          "base_uri": "https://localhost:8080/",
          "height": 351
        },
        "id": "2XfAblsdztAc",
        "outputId": "9c3971e7-17e9-49e3-e4b4-8573b230042d"
      },
      "source": [
        "sns.countplot('Next_month_default', data = resampled_df)"
      ],
      "execution_count": null,
      "outputs": [
        {
          "output_type": "stream",
          "name": "stderr",
          "text": [
            "/usr/local/lib/python3.7/dist-packages/seaborn/_decorators.py:43: FutureWarning: Pass the following variable as a keyword arg: x. From version 0.12, the only valid positional argument will be `data`, and passing other arguments without an explicit keyword will result in an error or misinterpretation.\n",
            "  FutureWarning\n"
          ]
        },
        {
          "output_type": "execute_result",
          "data": {
            "text/plain": [
              "<matplotlib.axes._subplots.AxesSubplot at 0x7ff2dc6c4e10>"
            ]
          },
          "metadata": {},
          "execution_count": 212
        },
        {
          "output_type": "display_data",
          "data": {
            "image/png": "[encoded data removed]",
            "text/plain": [
              "<Figure size 432x288 with 1 Axes>"
            ]
          },
          "metadata": {
            "needs_background": "light"
          }
        }
      ]
    },
    {
      "cell_type": "code",
      "metadata": {
        "colab": {
          "base_uri": "https://localhost:8080/",
          "height": 224
        },
        "id": "WwVrUF_Lz5gL",
        "outputId": "ac556d18-d18d-41f5-a3a1-5f5b9420254b"
      },
      "source": [
        "df.head()"
      ],
      "execution_count": null,
      "outputs": [
        {
          "output_type": "execute_result",
          "data": {
            "text/html": [
              "<div>\n",
              "<style scoped>\n",
              "    .dataframe tbody tr th:only-of-type {\n",
              "        vertical-align: middle;\n",
              "    }\n",
              "\n",
              "    .dataframe tbody tr th {\n",
              "        vertical-align: top;\n",
              "    }\n",
              "\n",
              "    .dataframe thead th {\n",
              "        text-align: right;\n",
              "    }\n",
              "</style>\n",
              "<table border=\"1\" class=\"dataframe\">\n",
              "  <thead>\n",
              "    <tr style=\"text-align: right;\">\n",
              "      <th></th>\n",
              "      <th>ID</th>\n",
              "      <th>Credit_given</th>\n",
              "      <th>Gender</th>\n",
              "      <th>Education</th>\n",
              "      <th>Marriage</th>\n",
              "      <th>Age</th>\n",
              "      <th>Paymment_his_april</th>\n",
              "      <th>Paymment_his_may</th>\n",
              "      <th>Paymment_his_june</th>\n",
              "      <th>Paymment_his_july</th>\n",
              "      <th>Paymment_his_august</th>\n",
              "      <th>Paymment_his_sept</th>\n",
              "      <th>BILL_AMT_april</th>\n",
              "      <th>BILL_AMT_may</th>\n",
              "      <th>BILL_AMT_june</th>\n",
              "      <th>BILL_AMT_july</th>\n",
              "      <th>BILL_AMT_august</th>\n",
              "      <th>BILL_AMT_sept</th>\n",
              "      <th>PAY_AMT_april</th>\n",
              "      <th>PAY_AMT_may</th>\n",
              "      <th>PAY_AMT_june</th>\n",
              "      <th>PAY_AMT_july</th>\n",
              "      <th>PAY_AMT_august</th>\n",
              "      <th>PAY_AMT_sept</th>\n",
              "      <th>Next_month_default</th>\n",
              "    </tr>\n",
              "  </thead>\n",
              "  <tbody>\n",
              "    <tr>\n",
              "      <th>1</th>\n",
              "      <td>1</td>\n",
              "      <td>20000</td>\n",
              "      <td>2</td>\n",
              "      <td>2</td>\n",
              "      <td>1</td>\n",
              "      <td>24</td>\n",
              "      <td>2</td>\n",
              "      <td>2</td>\n",
              "      <td>-1</td>\n",
              "      <td>-1</td>\n",
              "      <td>-2</td>\n",
              "      <td>-2</td>\n",
              "      <td>3913</td>\n",
              "      <td>3102</td>\n",
              "      <td>689</td>\n",
              "      <td>0</td>\n",
              "      <td>0</td>\n",
              "      <td>0</td>\n",
              "      <td>0</td>\n",
              "      <td>689</td>\n",
              "      <td>0</td>\n",
              "      <td>0</td>\n",
              "      <td>0</td>\n",
              "      <td>0</td>\n",
              "      <td>1</td>\n",
              "    </tr>\n",
              "    <tr>\n",
              "      <th>2</th>\n",
              "      <td>2</td>\n",
              "      <td>120000</td>\n",
              "      <td>2</td>\n",
              "      <td>2</td>\n",
              "      <td>2</td>\n",
              "      <td>26</td>\n",
              "      <td>-1</td>\n",
              "      <td>2</td>\n",
              "      <td>0</td>\n",
              "      <td>0</td>\n",
              "      <td>0</td>\n",
              "      <td>2</td>\n",
              "      <td>2682</td>\n",
              "      <td>1725</td>\n",
              "      <td>2682</td>\n",
              "      <td>3272</td>\n",
              "      <td>3455</td>\n",
              "      <td>3261</td>\n",
              "      <td>0</td>\n",
              "      <td>1000</td>\n",
              "      <td>1000</td>\n",
              "      <td>1000</td>\n",
              "      <td>0</td>\n",
              "      <td>2000</td>\n",
              "      <td>1</td>\n",
              "    </tr>\n",
              "    <tr>\n",
              "      <th>3</th>\n",
              "      <td>3</td>\n",
              "      <td>90000</td>\n",
              "      <td>2</td>\n",
              "      <td>2</td>\n",
              "      <td>2</td>\n",
              "      <td>34</td>\n",
              "      <td>0</td>\n",
              "      <td>0</td>\n",
              "      <td>0</td>\n",
              "      <td>0</td>\n",
              "      <td>0</td>\n",
              "      <td>0</td>\n",
              "      <td>29239</td>\n",
              "      <td>14027</td>\n",
              "      <td>13559</td>\n",
              "      <td>14331</td>\n",
              "      <td>14948</td>\n",
              "      <td>15549</td>\n",
              "      <td>1518</td>\n",
              "      <td>1500</td>\n",
              "      <td>1000</td>\n",
              "      <td>1000</td>\n",
              "      <td>1000</td>\n",
              "      <td>5000</td>\n",
              "      <td>0</td>\n",
              "    </tr>\n",
              "    <tr>\n",
              "      <th>4</th>\n",
              "      <td>4</td>\n",
              "      <td>50000</td>\n",
              "      <td>2</td>\n",
              "      <td>2</td>\n",
              "      <td>1</td>\n",
              "      <td>37</td>\n",
              "      <td>0</td>\n",
              "      <td>0</td>\n",
              "      <td>0</td>\n",
              "      <td>0</td>\n",
              "      <td>0</td>\n",
              "      <td>0</td>\n",
              "      <td>46990</td>\n",
              "      <td>48233</td>\n",
              "      <td>49291</td>\n",
              "      <td>28314</td>\n",
              "      <td>28959</td>\n",
              "      <td>29547</td>\n",
              "      <td>2000</td>\n",
              "      <td>2019</td>\n",
              "      <td>1200</td>\n",
              "      <td>1100</td>\n",
              "      <td>1069</td>\n",
              "      <td>1000</td>\n",
              "      <td>0</td>\n",
              "    </tr>\n",
              "    <tr>\n",
              "      <th>5</th>\n",
              "      <td>5</td>\n",
              "      <td>50000</td>\n",
              "      <td>1</td>\n",
              "      <td>2</td>\n",
              "      <td>1</td>\n",
              "      <td>57</td>\n",
              "      <td>-1</td>\n",
              "      <td>0</td>\n",
              "      <td>-1</td>\n",
              "      <td>0</td>\n",
              "      <td>0</td>\n",
              "      <td>0</td>\n",
              "      <td>8617</td>\n",
              "      <td>5670</td>\n",
              "      <td>35835</td>\n",
              "      <td>20940</td>\n",
              "      <td>19146</td>\n",
              "      <td>19131</td>\n",
              "      <td>2000</td>\n",
              "      <td>36681</td>\n",
              "      <td>10000</td>\n",
              "      <td>9000</td>\n",
              "      <td>689</td>\n",
              "      <td>679</td>\n",
              "      <td>0</td>\n",
              "    </tr>\n",
              "  </tbody>\n",
              "</table>\n",
              "</div>"
            ],
            "text/plain": [
              "  ID Credit_given Gender  ... PAY_AMT_august PAY_AMT_sept Next_month_default\n",
              "1  1        20000      2  ...              0            0                  1\n",
              "2  2       120000      2  ...              0         2000                  1\n",
              "3  3        90000      2  ...           1000         5000                  0\n",
              "4  4        50000      2  ...           1069         1000                  0\n",
              "5  5        50000      1  ...            689          679                  0\n",
              "\n",
              "[5 rows x 25 columns]"
            ]
          },
          "metadata": {},
          "execution_count": 213
        }
      ]
    },
    {
      "cell_type": "code",
      "metadata": {
        "colab": {
          "base_uri": "https://localhost:8080/",
          "height": 224
        },
        "id": "oPhWRVf1z_tM",
        "outputId": "6dacebff-3fd1-4f2f-c90f-c4a1a9837dee"
      },
      "source": [
        "resampled_df.head()"
      ],
      "execution_count": null,
      "outputs": [
        {
          "output_type": "execute_result",
          "data": {
            "text/html": [
              "<div>\n",
              "<style scoped>\n",
              "    .dataframe tbody tr th:only-of-type {\n",
              "        vertical-align: middle;\n",
              "    }\n",
              "\n",
              "    .dataframe tbody tr th {\n",
              "        vertical-align: top;\n",
              "    }\n",
              "\n",
              "    .dataframe thead th {\n",
              "        text-align: right;\n",
              "    }\n",
              "</style>\n",
              "<table border=\"1\" class=\"dataframe\">\n",
              "  <thead>\n",
              "    <tr style=\"text-align: right;\">\n",
              "      <th></th>\n",
              "      <th>ID</th>\n",
              "      <th>Credit_given</th>\n",
              "      <th>Gender</th>\n",
              "      <th>Education</th>\n",
              "      <th>Marriage</th>\n",
              "      <th>Age</th>\n",
              "      <th>Paymment_his_april</th>\n",
              "      <th>Paymment_his_may</th>\n",
              "      <th>Paymment_his_june</th>\n",
              "      <th>Paymment_his_july</th>\n",
              "      <th>Paymment_his_august</th>\n",
              "      <th>Paymment_his_sept</th>\n",
              "      <th>BILL_AMT_april</th>\n",
              "      <th>BILL_AMT_may</th>\n",
              "      <th>BILL_AMT_june</th>\n",
              "      <th>BILL_AMT_july</th>\n",
              "      <th>BILL_AMT_august</th>\n",
              "      <th>BILL_AMT_sept</th>\n",
              "      <th>PAY_AMT_april</th>\n",
              "      <th>PAY_AMT_may</th>\n",
              "      <th>PAY_AMT_june</th>\n",
              "      <th>PAY_AMT_july</th>\n",
              "      <th>PAY_AMT_august</th>\n",
              "      <th>PAY_AMT_sept</th>\n",
              "      <th>Next_month_default</th>\n",
              "    </tr>\n",
              "  </thead>\n",
              "  <tbody>\n",
              "    <tr>\n",
              "      <th>0</th>\n",
              "      <td>1.0</td>\n",
              "      <td>20000.0</td>\n",
              "      <td>2.0</td>\n",
              "      <td>2.0</td>\n",
              "      <td>1.0</td>\n",
              "      <td>24.0</td>\n",
              "      <td>2.0</td>\n",
              "      <td>2.0</td>\n",
              "      <td>-1.0</td>\n",
              "      <td>-1.0</td>\n",
              "      <td>-2.0</td>\n",
              "      <td>-2.0</td>\n",
              "      <td>3913.0</td>\n",
              "      <td>3102.0</td>\n",
              "      <td>689.0</td>\n",
              "      <td>0.0</td>\n",
              "      <td>0.0</td>\n",
              "      <td>0.0</td>\n",
              "      <td>0.0</td>\n",
              "      <td>689.0</td>\n",
              "      <td>0.0</td>\n",
              "      <td>0.0</td>\n",
              "      <td>0.0</td>\n",
              "      <td>0.0</td>\n",
              "      <td>1</td>\n",
              "    </tr>\n",
              "    <tr>\n",
              "      <th>1</th>\n",
              "      <td>2.0</td>\n",
              "      <td>120000.0</td>\n",
              "      <td>2.0</td>\n",
              "      <td>2.0</td>\n",
              "      <td>2.0</td>\n",
              "      <td>26.0</td>\n",
              "      <td>-1.0</td>\n",
              "      <td>2.0</td>\n",
              "      <td>0.0</td>\n",
              "      <td>0.0</td>\n",
              "      <td>0.0</td>\n",
              "      <td>2.0</td>\n",
              "      <td>2682.0</td>\n",
              "      <td>1725.0</td>\n",
              "      <td>2682.0</td>\n",
              "      <td>3272.0</td>\n",
              "      <td>3455.0</td>\n",
              "      <td>3261.0</td>\n",
              "      <td>0.0</td>\n",
              "      <td>1000.0</td>\n",
              "      <td>1000.0</td>\n",
              "      <td>1000.0</td>\n",
              "      <td>0.0</td>\n",
              "      <td>2000.0</td>\n",
              "      <td>1</td>\n",
              "    </tr>\n",
              "    <tr>\n",
              "      <th>2</th>\n",
              "      <td>3.0</td>\n",
              "      <td>90000.0</td>\n",
              "      <td>2.0</td>\n",
              "      <td>2.0</td>\n",
              "      <td>2.0</td>\n",
              "      <td>34.0</td>\n",
              "      <td>0.0</td>\n",
              "      <td>0.0</td>\n",
              "      <td>0.0</td>\n",
              "      <td>0.0</td>\n",
              "      <td>0.0</td>\n",
              "      <td>0.0</td>\n",
              "      <td>29239.0</td>\n",
              "      <td>14027.0</td>\n",
              "      <td>13559.0</td>\n",
              "      <td>14331.0</td>\n",
              "      <td>14948.0</td>\n",
              "      <td>15549.0</td>\n",
              "      <td>1518.0</td>\n",
              "      <td>1500.0</td>\n",
              "      <td>1000.0</td>\n",
              "      <td>1000.0</td>\n",
              "      <td>1000.0</td>\n",
              "      <td>5000.0</td>\n",
              "      <td>0</td>\n",
              "    </tr>\n",
              "    <tr>\n",
              "      <th>3</th>\n",
              "      <td>4.0</td>\n",
              "      <td>50000.0</td>\n",
              "      <td>2.0</td>\n",
              "      <td>2.0</td>\n",
              "      <td>1.0</td>\n",
              "      <td>37.0</td>\n",
              "      <td>0.0</td>\n",
              "      <td>0.0</td>\n",
              "      <td>0.0</td>\n",
              "      <td>0.0</td>\n",
              "      <td>0.0</td>\n",
              "      <td>0.0</td>\n",
              "      <td>46990.0</td>\n",
              "      <td>48233.0</td>\n",
              "      <td>49291.0</td>\n",
              "      <td>28314.0</td>\n",
              "      <td>28959.0</td>\n",
              "      <td>29547.0</td>\n",
              "      <td>2000.0</td>\n",
              "      <td>2019.0</td>\n",
              "      <td>1200.0</td>\n",
              "      <td>1100.0</td>\n",
              "      <td>1069.0</td>\n",
              "      <td>1000.0</td>\n",
              "      <td>0</td>\n",
              "    </tr>\n",
              "    <tr>\n",
              "      <th>4</th>\n",
              "      <td>5.0</td>\n",
              "      <td>50000.0</td>\n",
              "      <td>1.0</td>\n",
              "      <td>2.0</td>\n",
              "      <td>1.0</td>\n",
              "      <td>57.0</td>\n",
              "      <td>-1.0</td>\n",
              "      <td>0.0</td>\n",
              "      <td>-1.0</td>\n",
              "      <td>0.0</td>\n",
              "      <td>0.0</td>\n",
              "      <td>0.0</td>\n",
              "      <td>8617.0</td>\n",
              "      <td>5670.0</td>\n",
              "      <td>35835.0</td>\n",
              "      <td>20940.0</td>\n",
              "      <td>19146.0</td>\n",
              "      <td>19131.0</td>\n",
              "      <td>2000.0</td>\n",
              "      <td>36681.0</td>\n",
              "      <td>10000.0</td>\n",
              "      <td>9000.0</td>\n",
              "      <td>689.0</td>\n",
              "      <td>679.0</td>\n",
              "      <td>0</td>\n",
              "    </tr>\n",
              "  </tbody>\n",
              "</table>\n",
              "</div>"
            ],
            "text/plain": [
              "    ID  Credit_given  Gender  ...  PAY_AMT_august  PAY_AMT_sept  Next_month_default\n",
              "0  1.0       20000.0     2.0  ...             0.0           0.0                   1\n",
              "1  2.0      120000.0     2.0  ...             0.0        2000.0                   1\n",
              "2  3.0       90000.0     2.0  ...          1000.0        5000.0                   0\n",
              "3  4.0       50000.0     2.0  ...          1069.0        1000.0                   0\n",
              "4  5.0       50000.0     1.0  ...           689.0         679.0                   0\n",
              "\n",
              "[5 rows x 25 columns]"
            ]
          },
          "metadata": {},
          "execution_count": 214
        }
      ]
    },
    {
      "cell_type": "code",
      "metadata": {
        "colab": {
          "base_uri": "https://localhost:8080/"
        },
        "id": "bKqC14rd6koF",
        "outputId": "c521bd1c-d7f8-465b-de49-925f98d7b330"
      },
      "source": [
        "resampled_df['Next_month_default'].value_counts()"
      ],
      "execution_count": null,
      "outputs": [
        {
          "output_type": "execute_result",
          "data": {
            "text/plain": [
              "1    23364\n",
              "0    23364\n",
              "Name: Next_month_default, dtype: int64"
            ]
          },
          "metadata": {},
          "execution_count": 215
        }
      ]
    },
    {
      "cell_type": "code",
      "metadata": {
        "colab": {
          "base_uri": "https://localhost:8080/",
          "height": 351
        },
        "id": "sORJC2H86nQh",
        "outputId": "84a031c6-07bb-40eb-89a5-072e71b8c199"
      },
      "source": [
        "sns.countplot('Next_month_default', data = resampled_df)"
      ],
      "execution_count": null,
      "outputs": [
        {
          "output_type": "stream",
          "name": "stderr",
          "text": [
            "/usr/local/lib/python3.7/dist-packages/seaborn/_decorators.py:43: FutureWarning: Pass the following variable as a keyword arg: x. From version 0.12, the only valid positional argument will be `data`, and passing other arguments without an explicit keyword will result in an error or misinterpretation.\n",
            "  FutureWarning\n"
          ]
        },
        {
          "output_type": "execute_result",
          "data": {
            "text/plain": [
              "<matplotlib.axes._subplots.AxesSubplot at 0x7ff2dc6e1b50>"
            ]
          },
          "metadata": {},
          "execution_count": 216
        },
        {
          "output_type": "display_data",
          "data": {
            "image/png": "[encoded data removed]",
            "text/plain": [
              "<Figure size 432x288 with 1 Axes>"
            ]
          },
          "metadata": {
            "needs_background": "light"
          }
        }
      ]
    },
    {
      "cell_type": "markdown",
      "metadata": {
        "id": "FFB2_DgJHSZc"
      },
      "source": [
        "Perfectly Balanced..!"
      ]
    },
    {
      "cell_type": "markdown",
      "metadata": {
        "id": "2Alf5IUlLiph"
      },
      "source": [
        "# Identify the Independent and dependent variable"
      ]
    },
    {
      "cell_type": "code",
      "metadata": {
        "id": "BN53BmCwLnUJ"
      },
      "source": [
        "target_y = df['Next_month_default']"
      ],
      "execution_count": null,
      "outputs": []
    },
    {
      "cell_type": "code",
      "metadata": {
        "id": "7Rrf04FsZ9rk"
      },
      "source": [
        "target_y = target_y.astype('int')"
      ],
      "execution_count": null,
      "outputs": []
    },
    {
      "cell_type": "code",
      "metadata": {
        "colab": {
          "base_uri": "https://localhost:8080/",
          "height": 439
        },
        "id": "WsJZVs0_Ls_J",
        "outputId": "3d264d41-7900-4ff9-d3f4-fcf3707865a5"
      },
      "source": [
        "feature_x = df.drop('Next_month_default',axis=1,inplace = False)\n",
        "feature_x"
      ],
      "execution_count": null,
      "outputs": [
        {
          "output_type": "execute_result",
          "data": {
            "text/html": [
              "<div>\n",
              "<style scoped>\n",
              "    .dataframe tbody tr th:only-of-type {\n",
              "        vertical-align: middle;\n",
              "    }\n",
              "\n",
              "    .dataframe tbody tr th {\n",
              "        vertical-align: top;\n",
              "    }\n",
              "\n",
              "    .dataframe thead th {\n",
              "        text-align: right;\n",
              "    }\n",
              "</style>\n",
              "<table border=\"1\" class=\"dataframe\">\n",
              "  <thead>\n",
              "    <tr style=\"text-align: right;\">\n",
              "      <th></th>\n",
              "      <th>ID</th>\n",
              "      <th>Credit_given</th>\n",
              "      <th>Gender</th>\n",
              "      <th>Education</th>\n",
              "      <th>Marriage</th>\n",
              "      <th>Age</th>\n",
              "      <th>Paymment_his_april</th>\n",
              "      <th>Paymment_his_may</th>\n",
              "      <th>Paymment_his_june</th>\n",
              "      <th>Paymment_his_july</th>\n",
              "      <th>Paymment_his_august</th>\n",
              "      <th>Paymment_his_sept</th>\n",
              "      <th>BILL_AMT_april</th>\n",
              "      <th>BILL_AMT_may</th>\n",
              "      <th>BILL_AMT_june</th>\n",
              "      <th>BILL_AMT_july</th>\n",
              "      <th>BILL_AMT_august</th>\n",
              "      <th>BILL_AMT_sept</th>\n",
              "      <th>PAY_AMT_april</th>\n",
              "      <th>PAY_AMT_may</th>\n",
              "      <th>PAY_AMT_june</th>\n",
              "      <th>PAY_AMT_july</th>\n",
              "      <th>PAY_AMT_august</th>\n",
              "      <th>PAY_AMT_sept</th>\n",
              "    </tr>\n",
              "  </thead>\n",
              "  <tbody>\n",
              "    <tr>\n",
              "      <th>1</th>\n",
              "      <td>1</td>\n",
              "      <td>20000</td>\n",
              "      <td>2</td>\n",
              "      <td>2</td>\n",
              "      <td>1</td>\n",
              "      <td>24</td>\n",
              "      <td>2</td>\n",
              "      <td>2</td>\n",
              "      <td>-1</td>\n",
              "      <td>-1</td>\n",
              "      <td>-2</td>\n",
              "      <td>-2</td>\n",
              "      <td>3913</td>\n",
              "      <td>3102</td>\n",
              "      <td>689</td>\n",
              "      <td>0</td>\n",
              "      <td>0</td>\n",
              "      <td>0</td>\n",
              "      <td>0</td>\n",
              "      <td>689</td>\n",
              "      <td>0</td>\n",
              "      <td>0</td>\n",
              "      <td>0</td>\n",
              "      <td>0</td>\n",
              "    </tr>\n",
              "    <tr>\n",
              "      <th>2</th>\n",
              "      <td>2</td>\n",
              "      <td>120000</td>\n",
              "      <td>2</td>\n",
              "      <td>2</td>\n",
              "      <td>2</td>\n",
              "      <td>26</td>\n",
              "      <td>-1</td>\n",
              "      <td>2</td>\n",
              "      <td>0</td>\n",
              "      <td>0</td>\n",
              "      <td>0</td>\n",
              "      <td>2</td>\n",
              "      <td>2682</td>\n",
              "      <td>1725</td>\n",
              "      <td>2682</td>\n",
              "      <td>3272</td>\n",
              "      <td>3455</td>\n",
              "      <td>3261</td>\n",
              "      <td>0</td>\n",
              "      <td>1000</td>\n",
              "      <td>1000</td>\n",
              "      <td>1000</td>\n",
              "      <td>0</td>\n",
              "      <td>2000</td>\n",
              "    </tr>\n",
              "    <tr>\n",
              "      <th>3</th>\n",
              "      <td>3</td>\n",
              "      <td>90000</td>\n",
              "      <td>2</td>\n",
              "      <td>2</td>\n",
              "      <td>2</td>\n",
              "      <td>34</td>\n",
              "      <td>0</td>\n",
              "      <td>0</td>\n",
              "      <td>0</td>\n",
              "      <td>0</td>\n",
              "      <td>0</td>\n",
              "      <td>0</td>\n",
              "      <td>29239</td>\n",
              "      <td>14027</td>\n",
              "      <td>13559</td>\n",
              "      <td>14331</td>\n",
              "      <td>14948</td>\n",
              "      <td>15549</td>\n",
              "      <td>1518</td>\n",
              "      <td>1500</td>\n",
              "      <td>1000</td>\n",
              "      <td>1000</td>\n",
              "      <td>1000</td>\n",
              "      <td>5000</td>\n",
              "    </tr>\n",
              "    <tr>\n",
              "      <th>4</th>\n",
              "      <td>4</td>\n",
              "      <td>50000</td>\n",
              "      <td>2</td>\n",
              "      <td>2</td>\n",
              "      <td>1</td>\n",
              "      <td>37</td>\n",
              "      <td>0</td>\n",
              "      <td>0</td>\n",
              "      <td>0</td>\n",
              "      <td>0</td>\n",
              "      <td>0</td>\n",
              "      <td>0</td>\n",
              "      <td>46990</td>\n",
              "      <td>48233</td>\n",
              "      <td>49291</td>\n",
              "      <td>28314</td>\n",
              "      <td>28959</td>\n",
              "      <td>29547</td>\n",
              "      <td>2000</td>\n",
              "      <td>2019</td>\n",
              "      <td>1200</td>\n",
              "      <td>1100</td>\n",
              "      <td>1069</td>\n",
              "      <td>1000</td>\n",
              "    </tr>\n",
              "    <tr>\n",
              "      <th>5</th>\n",
              "      <td>5</td>\n",
              "      <td>50000</td>\n",
              "      <td>1</td>\n",
              "      <td>2</td>\n",
              "      <td>1</td>\n",
              "      <td>57</td>\n",
              "      <td>-1</td>\n",
              "      <td>0</td>\n",
              "      <td>-1</td>\n",
              "      <td>0</td>\n",
              "      <td>0</td>\n",
              "      <td>0</td>\n",
              "      <td>8617</td>\n",
              "      <td>5670</td>\n",
              "      <td>35835</td>\n",
              "      <td>20940</td>\n",
              "      <td>19146</td>\n",
              "      <td>19131</td>\n",
              "      <td>2000</td>\n",
              "      <td>36681</td>\n",
              "      <td>10000</td>\n",
              "      <td>9000</td>\n",
              "      <td>689</td>\n",
              "      <td>679</td>\n",
              "    </tr>\n",
              "    <tr>\n",
              "      <th>...</th>\n",
              "      <td>...</td>\n",
              "      <td>...</td>\n",
              "      <td>...</td>\n",
              "      <td>...</td>\n",
              "      <td>...</td>\n",
              "      <td>...</td>\n",
              "      <td>...</td>\n",
              "      <td>...</td>\n",
              "      <td>...</td>\n",
              "      <td>...</td>\n",
              "      <td>...</td>\n",
              "      <td>...</td>\n",
              "      <td>...</td>\n",
              "      <td>...</td>\n",
              "      <td>...</td>\n",
              "      <td>...</td>\n",
              "      <td>...</td>\n",
              "      <td>...</td>\n",
              "      <td>...</td>\n",
              "      <td>...</td>\n",
              "      <td>...</td>\n",
              "      <td>...</td>\n",
              "      <td>...</td>\n",
              "      <td>...</td>\n",
              "    </tr>\n",
              "    <tr>\n",
              "      <th>29996</th>\n",
              "      <td>29996</td>\n",
              "      <td>220000</td>\n",
              "      <td>1</td>\n",
              "      <td>3</td>\n",
              "      <td>1</td>\n",
              "      <td>39</td>\n",
              "      <td>0</td>\n",
              "      <td>0</td>\n",
              "      <td>0</td>\n",
              "      <td>0</td>\n",
              "      <td>0</td>\n",
              "      <td>0</td>\n",
              "      <td>188948</td>\n",
              "      <td>192815</td>\n",
              "      <td>208365</td>\n",
              "      <td>88004</td>\n",
              "      <td>31237</td>\n",
              "      <td>15980</td>\n",
              "      <td>8500</td>\n",
              "      <td>20000</td>\n",
              "      <td>5003</td>\n",
              "      <td>3047</td>\n",
              "      <td>5000</td>\n",
              "      <td>1000</td>\n",
              "    </tr>\n",
              "    <tr>\n",
              "      <th>29997</th>\n",
              "      <td>29997</td>\n",
              "      <td>150000</td>\n",
              "      <td>1</td>\n",
              "      <td>3</td>\n",
              "      <td>2</td>\n",
              "      <td>43</td>\n",
              "      <td>-1</td>\n",
              "      <td>-1</td>\n",
              "      <td>-1</td>\n",
              "      <td>-1</td>\n",
              "      <td>0</td>\n",
              "      <td>0</td>\n",
              "      <td>1683</td>\n",
              "      <td>1828</td>\n",
              "      <td>3502</td>\n",
              "      <td>8979</td>\n",
              "      <td>5190</td>\n",
              "      <td>0</td>\n",
              "      <td>1837</td>\n",
              "      <td>3526</td>\n",
              "      <td>8998</td>\n",
              "      <td>129</td>\n",
              "      <td>0</td>\n",
              "      <td>0</td>\n",
              "    </tr>\n",
              "    <tr>\n",
              "      <th>29998</th>\n",
              "      <td>29998</td>\n",
              "      <td>30000</td>\n",
              "      <td>1</td>\n",
              "      <td>2</td>\n",
              "      <td>2</td>\n",
              "      <td>37</td>\n",
              "      <td>4</td>\n",
              "      <td>3</td>\n",
              "      <td>2</td>\n",
              "      <td>-1</td>\n",
              "      <td>0</td>\n",
              "      <td>0</td>\n",
              "      <td>3565</td>\n",
              "      <td>3356</td>\n",
              "      <td>2758</td>\n",
              "      <td>20878</td>\n",
              "      <td>20582</td>\n",
              "      <td>19357</td>\n",
              "      <td>0</td>\n",
              "      <td>0</td>\n",
              "      <td>22000</td>\n",
              "      <td>4200</td>\n",
              "      <td>2000</td>\n",
              "      <td>3100</td>\n",
              "    </tr>\n",
              "    <tr>\n",
              "      <th>29999</th>\n",
              "      <td>29999</td>\n",
              "      <td>80000</td>\n",
              "      <td>1</td>\n",
              "      <td>3</td>\n",
              "      <td>1</td>\n",
              "      <td>41</td>\n",
              "      <td>1</td>\n",
              "      <td>-1</td>\n",
              "      <td>0</td>\n",
              "      <td>0</td>\n",
              "      <td>0</td>\n",
              "      <td>-1</td>\n",
              "      <td>-1645</td>\n",
              "      <td>78379</td>\n",
              "      <td>76304</td>\n",
              "      <td>52774</td>\n",
              "      <td>11855</td>\n",
              "      <td>48944</td>\n",
              "      <td>85900</td>\n",
              "      <td>3409</td>\n",
              "      <td>1178</td>\n",
              "      <td>1926</td>\n",
              "      <td>52964</td>\n",
              "      <td>1804</td>\n",
              "    </tr>\n",
              "    <tr>\n",
              "      <th>30000</th>\n",
              "      <td>30000</td>\n",
              "      <td>50000</td>\n",
              "      <td>1</td>\n",
              "      <td>2</td>\n",
              "      <td>1</td>\n",
              "      <td>46</td>\n",
              "      <td>0</td>\n",
              "      <td>0</td>\n",
              "      <td>0</td>\n",
              "      <td>0</td>\n",
              "      <td>0</td>\n",
              "      <td>0</td>\n",
              "      <td>47929</td>\n",
              "      <td>48905</td>\n",
              "      <td>49764</td>\n",
              "      <td>36535</td>\n",
              "      <td>32428</td>\n",
              "      <td>15313</td>\n",
              "      <td>2078</td>\n",
              "      <td>1800</td>\n",
              "      <td>1430</td>\n",
              "      <td>1000</td>\n",
              "      <td>1000</td>\n",
              "      <td>1000</td>\n",
              "    </tr>\n",
              "  </tbody>\n",
              "</table>\n",
              "<p>30000 rows × 24 columns</p>\n",
              "</div>"
            ],
            "text/plain": [
              "          ID Credit_given Gender  ... PAY_AMT_july PAY_AMT_august PAY_AMT_sept\n",
              "1          1        20000      2  ...            0              0            0\n",
              "2          2       120000      2  ...         1000              0         2000\n",
              "3          3        90000      2  ...         1000           1000         5000\n",
              "4          4        50000      2  ...         1100           1069         1000\n",
              "5          5        50000      1  ...         9000            689          679\n",
              "...      ...          ...    ...  ...          ...            ...          ...\n",
              "29996  29996       220000      1  ...         3047           5000         1000\n",
              "29997  29997       150000      1  ...          129              0            0\n",
              "29998  29998        30000      1  ...         4200           2000         3100\n",
              "29999  29999        80000      1  ...         1926          52964         1804\n",
              "30000  30000        50000      1  ...         1000           1000         1000\n",
              "\n",
              "[30000 rows x 24 columns]"
            ]
          },
          "metadata": {},
          "execution_count": 219
        }
      ]
    },
    {
      "cell_type": "markdown",
      "metadata": {
        "id": "Hecke_lkIJmt"
      },
      "source": [
        "# Feature selection"
      ]
    },
    {
      "cell_type": "markdown",
      "metadata": {
        "id": "AG6nUL9Daf07"
      },
      "source": [
        "1.Information Gain\n",
        "2. Correlation\n",
        "3. Chi-square test\n",
        "4. Select Kbest\n"
      ]
    },
    {
      "cell_type": "code",
      "metadata": {
        "colab": {
          "base_uri": "https://localhost:8080/",
          "height": 282
        },
        "id": "q9ziZiewTfIz",
        "outputId": "5823d5db-d426-4803-cad7-93e8499fee07"
      },
      "source": [
        "from sklearn.feature_selection import mutual_info_classif\n",
        "impt = mutual_info_classif(feature_x,target_y)\n",
        "feat_impt = pd.Series(impt, df.columns[0:len(df.columns)-1])\n",
        "feat_impt.plot(kind = 'barh')\n",
        "plt.show\n"
      ],
      "execution_count": null,
      "outputs": [
        {
          "output_type": "execute_result",
          "data": {
            "text/plain": [
              "<function matplotlib.pyplot.show>"
            ]
          },
          "metadata": {},
          "execution_count": 220
        },
        {
          "output_type": "display_data",
          "data": {
            "image/png": "[encoded data removed]",
            "text/plain": [
              "<Figure size 432x288 with 1 Axes>"
            ]
          },
          "metadata": {
            "needs_background": "light"
          }
        }
      ]
    },
    {
      "cell_type": "code",
      "metadata": {
        "colab": {
          "base_uri": "https://localhost:8080/"
        },
        "id": "NVqSCK5ha1IM",
        "outputId": "4f318a3f-7cb9-45c9-bed9-6876c80c8298"
      },
      "source": [
        "from sklearn.feature_selection import SelectKBest,mutual_info_classif\n",
        "bestfeatures = SelectKBest(score_func=mutual_info_classif, k=15)\n",
        "fit = bestfeatures.fit(feature_x,target_y)\n",
        "dfscores = pd.DataFrame(fit.scores_)\n",
        "dfcolumns = pd.DataFrame(feature_x.columns) \n",
        "featureScores = pd.concat([dfcolumns,dfscores],axis=1)\n",
        "featureScores.columns = ['Feature','Score'] \n",
        "print(featureScores.nlargest(15,'Score')) "
      ],
      "execution_count": null,
      "outputs": [
        {
          "output_type": "stream",
          "name": "stdout",
          "text": [
            "                Feature     Score\n",
            "6    Paymment_his_april  0.073723\n",
            "7      Paymment_his_may  0.050523\n",
            "8     Paymment_his_june  0.037313\n",
            "10  Paymment_his_august  0.034425\n",
            "9     Paymment_his_july  0.033068\n",
            "11    Paymment_his_sept  0.029598\n",
            "18        PAY_AMT_april  0.022693\n",
            "20         PAY_AMT_june  0.017575\n",
            "21         PAY_AMT_july  0.015232\n",
            "19          PAY_AMT_may  0.015139\n",
            "22       PAY_AMT_august  0.014097\n",
            "1          Credit_given  0.012509\n",
            "12       BILL_AMT_april  0.010464\n",
            "23         PAY_AMT_sept  0.010322\n",
            "13         BILL_AMT_may  0.006582\n"
          ]
        }
      ]
    },
    {
      "cell_type": "code",
      "metadata": {
        "colab": {
          "base_uri": "https://localhost:8080/",
          "height": 346
        },
        "id": "GqCUIuvQbzWL",
        "outputId": "4ed97b5e-e828-4c85-f3e5-a5cb0983db41"
      },
      "source": [
        "#correlation heatmap\n",
        "data = resampled_df.copy()\n",
        "corr = data.corr()\n",
        "\n",
        "ax = sns.heatmap(\n",
        "    corr, \n",
        "    vmin=-1, vmax=1, center=0,\n",
        "    cmap=sns.diverging_palette(20, 220, n=200),\n",
        "    square=True\n",
        ")\n",
        "ax.set_xticklabels(\n",
        "    ax.get_xticklabels(),\n",
        "    rotation=45,\n",
        "    horizontalalignment='right'\n",
        ");"
      ],
      "execution_count": null,
      "outputs": [
        {
          "output_type": "display_data",
          "data": {
            "image/png": "[encoded data removed]",
            "text/plain": [
              "<Figure size 432x288 with 2 Axes>"
            ]
          },
          "metadata": {
            "needs_background": "light"
          }
        }
      ]
    },
    {
      "cell_type": "markdown",
      "metadata": {
        "id": "Rtx1Fa4ucV2I"
      },
      "source": [
        "From all of the above, it seems to be clear that ID, gender, Marriage,Education and age doesn't seem to have much importance.\n"
      ]
    },
    {
      "cell_type": "code",
      "metadata": {
        "colab": {
          "base_uri": "https://localhost:8080/",
          "height": 439
        },
        "id": "AxoE5US-cVfZ",
        "outputId": "d41f7e53-eca6-4f7f-f911-39ee34d94901"
      },
      "source": [
        "df.drop(['ID', 'Gender','Marriage','Education','Age'], axis = 1)\n"
      ],
      "execution_count": null,
      "outputs": [
        {
          "output_type": "execute_result",
          "data": {
            "text/html": [
              "<div>\n",
              "<style scoped>\n",
              "    .dataframe tbody tr th:only-of-type {\n",
              "        vertical-align: middle;\n",
              "    }\n",
              "\n",
              "    .dataframe tbody tr th {\n",
              "        vertical-align: top;\n",
              "    }\n",
              "\n",
              "    .dataframe thead th {\n",
              "        text-align: right;\n",
              "    }\n",
              "</style>\n",
              "<table border=\"1\" class=\"dataframe\">\n",
              "  <thead>\n",
              "    <tr style=\"text-align: right;\">\n",
              "      <th></th>\n",
              "      <th>Credit_given</th>\n",
              "      <th>Paymment_his_april</th>\n",
              "      <th>Paymment_his_may</th>\n",
              "      <th>Paymment_his_june</th>\n",
              "      <th>Paymment_his_july</th>\n",
              "      <th>Paymment_his_august</th>\n",
              "      <th>Paymment_his_sept</th>\n",
              "      <th>BILL_AMT_april</th>\n",
              "      <th>BILL_AMT_may</th>\n",
              "      <th>BILL_AMT_june</th>\n",
              "      <th>BILL_AMT_july</th>\n",
              "      <th>BILL_AMT_august</th>\n",
              "      <th>BILL_AMT_sept</th>\n",
              "      <th>PAY_AMT_april</th>\n",
              "      <th>PAY_AMT_may</th>\n",
              "      <th>PAY_AMT_june</th>\n",
              "      <th>PAY_AMT_july</th>\n",
              "      <th>PAY_AMT_august</th>\n",
              "      <th>PAY_AMT_sept</th>\n",
              "      <th>Next_month_default</th>\n",
              "    </tr>\n",
              "  </thead>\n",
              "  <tbody>\n",
              "    <tr>\n",
              "      <th>1</th>\n",
              "      <td>20000</td>\n",
              "      <td>2</td>\n",
              "      <td>2</td>\n",
              "      <td>-1</td>\n",
              "      <td>-1</td>\n",
              "      <td>-2</td>\n",
              "      <td>-2</td>\n",
              "      <td>3913</td>\n",
              "      <td>3102</td>\n",
              "      <td>689</td>\n",
              "      <td>0</td>\n",
              "      <td>0</td>\n",
              "      <td>0</td>\n",
              "      <td>0</td>\n",
              "      <td>689</td>\n",
              "      <td>0</td>\n",
              "      <td>0</td>\n",
              "      <td>0</td>\n",
              "      <td>0</td>\n",
              "      <td>1</td>\n",
              "    </tr>\n",
              "    <tr>\n",
              "      <th>2</th>\n",
              "      <td>120000</td>\n",
              "      <td>-1</td>\n",
              "      <td>2</td>\n",
              "      <td>0</td>\n",
              "      <td>0</td>\n",
              "      <td>0</td>\n",
              "      <td>2</td>\n",
              "      <td>2682</td>\n",
              "      <td>1725</td>\n",
              "      <td>2682</td>\n",
              "      <td>3272</td>\n",
              "      <td>3455</td>\n",
              "      <td>3261</td>\n",
              "      <td>0</td>\n",
              "      <td>1000</td>\n",
              "      <td>1000</td>\n",
              "      <td>1000</td>\n",
              "      <td>0</td>\n",
              "      <td>2000</td>\n",
              "      <td>1</td>\n",
              "    </tr>\n",
              "    <tr>\n",
              "      <th>3</th>\n",
              "      <td>90000</td>\n",
              "      <td>0</td>\n",
              "      <td>0</td>\n",
              "      <td>0</td>\n",
              "      <td>0</td>\n",
              "      <td>0</td>\n",
              "      <td>0</td>\n",
              "      <td>29239</td>\n",
              "      <td>14027</td>\n",
              "      <td>13559</td>\n",
              "      <td>14331</td>\n",
              "      <td>14948</td>\n",
              "      <td>15549</td>\n",
              "      <td>1518</td>\n",
              "      <td>1500</td>\n",
              "      <td>1000</td>\n",
              "      <td>1000</td>\n",
              "      <td>1000</td>\n",
              "      <td>5000</td>\n",
              "      <td>0</td>\n",
              "    </tr>\n",
              "    <tr>\n",
              "      <th>4</th>\n",
              "      <td>50000</td>\n",
              "      <td>0</td>\n",
              "      <td>0</td>\n",
              "      <td>0</td>\n",
              "      <td>0</td>\n",
              "      <td>0</td>\n",
              "      <td>0</td>\n",
              "      <td>46990</td>\n",
              "      <td>48233</td>\n",
              "      <td>49291</td>\n",
              "      <td>28314</td>\n",
              "      <td>28959</td>\n",
              "      <td>29547</td>\n",
              "      <td>2000</td>\n",
              "      <td>2019</td>\n",
              "      <td>1200</td>\n",
              "      <td>1100</td>\n",
              "      <td>1069</td>\n",
              "      <td>1000</td>\n",
              "      <td>0</td>\n",
              "    </tr>\n",
              "    <tr>\n",
              "      <th>5</th>\n",
              "      <td>50000</td>\n",
              "      <td>-1</td>\n",
              "      <td>0</td>\n",
              "      <td>-1</td>\n",
              "      <td>0</td>\n",
              "      <td>0</td>\n",
              "      <td>0</td>\n",
              "      <td>8617</td>\n",
              "      <td>5670</td>\n",
              "      <td>35835</td>\n",
              "      <td>20940</td>\n",
              "      <td>19146</td>\n",
              "      <td>19131</td>\n",
              "      <td>2000</td>\n",
              "      <td>36681</td>\n",
              "      <td>10000</td>\n",
              "      <td>9000</td>\n",
              "      <td>689</td>\n",
              "      <td>679</td>\n",
              "      <td>0</td>\n",
              "    </tr>\n",
              "    <tr>\n",
              "      <th>...</th>\n",
              "      <td>...</td>\n",
              "      <td>...</td>\n",
              "      <td>...</td>\n",
              "      <td>...</td>\n",
              "      <td>...</td>\n",
              "      <td>...</td>\n",
              "      <td>...</td>\n",
              "      <td>...</td>\n",
              "      <td>...</td>\n",
              "      <td>...</td>\n",
              "      <td>...</td>\n",
              "      <td>...</td>\n",
              "      <td>...</td>\n",
              "      <td>...</td>\n",
              "      <td>...</td>\n",
              "      <td>...</td>\n",
              "      <td>...</td>\n",
              "      <td>...</td>\n",
              "      <td>...</td>\n",
              "      <td>...</td>\n",
              "    </tr>\n",
              "    <tr>\n",
              "      <th>29996</th>\n",
              "      <td>220000</td>\n",
              "      <td>0</td>\n",
              "      <td>0</td>\n",
              "      <td>0</td>\n",
              "      <td>0</td>\n",
              "      <td>0</td>\n",
              "      <td>0</td>\n",
              "      <td>188948</td>\n",
              "      <td>192815</td>\n",
              "      <td>208365</td>\n",
              "      <td>88004</td>\n",
              "      <td>31237</td>\n",
              "      <td>15980</td>\n",
              "      <td>8500</td>\n",
              "      <td>20000</td>\n",
              "      <td>5003</td>\n",
              "      <td>3047</td>\n",
              "      <td>5000</td>\n",
              "      <td>1000</td>\n",
              "      <td>0</td>\n",
              "    </tr>\n",
              "    <tr>\n",
              "      <th>29997</th>\n",
              "      <td>150000</td>\n",
              "      <td>-1</td>\n",
              "      <td>-1</td>\n",
              "      <td>-1</td>\n",
              "      <td>-1</td>\n",
              "      <td>0</td>\n",
              "      <td>0</td>\n",
              "      <td>1683</td>\n",
              "      <td>1828</td>\n",
              "      <td>3502</td>\n",
              "      <td>8979</td>\n",
              "      <td>5190</td>\n",
              "      <td>0</td>\n",
              "      <td>1837</td>\n",
              "      <td>3526</td>\n",
              "      <td>8998</td>\n",
              "      <td>129</td>\n",
              "      <td>0</td>\n",
              "      <td>0</td>\n",
              "      <td>0</td>\n",
              "    </tr>\n",
              "    <tr>\n",
              "      <th>29998</th>\n",
              "      <td>30000</td>\n",
              "      <td>4</td>\n",
              "      <td>3</td>\n",
              "      <td>2</td>\n",
              "      <td>-1</td>\n",
              "      <td>0</td>\n",
              "      <td>0</td>\n",
              "      <td>3565</td>\n",
              "      <td>3356</td>\n",
              "      <td>2758</td>\n",
              "      <td>20878</td>\n",
              "      <td>20582</td>\n",
              "      <td>19357</td>\n",
              "      <td>0</td>\n",
              "      <td>0</td>\n",
              "      <td>22000</td>\n",
              "      <td>4200</td>\n",
              "      <td>2000</td>\n",
              "      <td>3100</td>\n",
              "      <td>1</td>\n",
              "    </tr>\n",
              "    <tr>\n",
              "      <th>29999</th>\n",
              "      <td>80000</td>\n",
              "      <td>1</td>\n",
              "      <td>-1</td>\n",
              "      <td>0</td>\n",
              "      <td>0</td>\n",
              "      <td>0</td>\n",
              "      <td>-1</td>\n",
              "      <td>-1645</td>\n",
              "      <td>78379</td>\n",
              "      <td>76304</td>\n",
              "      <td>52774</td>\n",
              "      <td>11855</td>\n",
              "      <td>48944</td>\n",
              "      <td>85900</td>\n",
              "      <td>3409</td>\n",
              "      <td>1178</td>\n",
              "      <td>1926</td>\n",
              "      <td>52964</td>\n",
              "      <td>1804</td>\n",
              "      <td>1</td>\n",
              "    </tr>\n",
              "    <tr>\n",
              "      <th>30000</th>\n",
              "      <td>50000</td>\n",
              "      <td>0</td>\n",
              "      <td>0</td>\n",
              "      <td>0</td>\n",
              "      <td>0</td>\n",
              "      <td>0</td>\n",
              "      <td>0</td>\n",
              "      <td>47929</td>\n",
              "      <td>48905</td>\n",
              "      <td>49764</td>\n",
              "      <td>36535</td>\n",
              "      <td>32428</td>\n",
              "      <td>15313</td>\n",
              "      <td>2078</td>\n",
              "      <td>1800</td>\n",
              "      <td>1430</td>\n",
              "      <td>1000</td>\n",
              "      <td>1000</td>\n",
              "      <td>1000</td>\n",
              "      <td>1</td>\n",
              "    </tr>\n",
              "  </tbody>\n",
              "</table>\n",
              "<p>30000 rows × 20 columns</p>\n",
              "</div>"
            ],
            "text/plain": [
              "      Credit_given Paymment_his_april  ... PAY_AMT_sept Next_month_default\n",
              "1            20000                  2  ...            0                  1\n",
              "2           120000                 -1  ...         2000                  1\n",
              "3            90000                  0  ...         5000                  0\n",
              "4            50000                  0  ...         1000                  0\n",
              "5            50000                 -1  ...          679                  0\n",
              "...            ...                ...  ...          ...                ...\n",
              "29996       220000                  0  ...         1000                  0\n",
              "29997       150000                 -1  ...            0                  0\n",
              "29998        30000                  4  ...         3100                  1\n",
              "29999        80000                  1  ...         1804                  1\n",
              "30000        50000                  0  ...         1000                  1\n",
              "\n",
              "[30000 rows x 20 columns]"
            ]
          },
          "metadata": {},
          "execution_count": 223
        }
      ]
    },
    {
      "cell_type": "code",
      "metadata": {
        "colab": {
          "base_uri": "https://localhost:8080/",
          "height": 439
        },
        "id": "H0rj4jeodB84",
        "outputId": "a4e24bb0-b4d3-478a-c7a7-2cd97ec3873e"
      },
      "source": [
        "resampled_df.drop(['ID', 'Gender','Marriage','Education','Age'],axis =1)"
      ],
      "execution_count": null,
      "outputs": [
        {
          "output_type": "execute_result",
          "data": {
            "text/html": [
              "<div>\n",
              "<style scoped>\n",
              "    .dataframe tbody tr th:only-of-type {\n",
              "        vertical-align: middle;\n",
              "    }\n",
              "\n",
              "    .dataframe tbody tr th {\n",
              "        vertical-align: top;\n",
              "    }\n",
              "\n",
              "    .dataframe thead th {\n",
              "        text-align: right;\n",
              "    }\n",
              "</style>\n",
              "<table border=\"1\" class=\"dataframe\">\n",
              "  <thead>\n",
              "    <tr style=\"text-align: right;\">\n",
              "      <th></th>\n",
              "      <th>Credit_given</th>\n",
              "      <th>Paymment_his_april</th>\n",
              "      <th>Paymment_his_may</th>\n",
              "      <th>Paymment_his_june</th>\n",
              "      <th>Paymment_his_july</th>\n",
              "      <th>Paymment_his_august</th>\n",
              "      <th>Paymment_his_sept</th>\n",
              "      <th>BILL_AMT_april</th>\n",
              "      <th>BILL_AMT_may</th>\n",
              "      <th>BILL_AMT_june</th>\n",
              "      <th>BILL_AMT_july</th>\n",
              "      <th>BILL_AMT_august</th>\n",
              "      <th>BILL_AMT_sept</th>\n",
              "      <th>PAY_AMT_april</th>\n",
              "      <th>PAY_AMT_may</th>\n",
              "      <th>PAY_AMT_june</th>\n",
              "      <th>PAY_AMT_july</th>\n",
              "      <th>PAY_AMT_august</th>\n",
              "      <th>PAY_AMT_sept</th>\n",
              "      <th>Next_month_default</th>\n",
              "    </tr>\n",
              "  </thead>\n",
              "  <tbody>\n",
              "    <tr>\n",
              "      <th>0</th>\n",
              "      <td>20000.0</td>\n",
              "      <td>2.000000</td>\n",
              "      <td>2.000000</td>\n",
              "      <td>-1.000000</td>\n",
              "      <td>-1.000000</td>\n",
              "      <td>-2.0</td>\n",
              "      <td>-2.000000</td>\n",
              "      <td>3913.000000</td>\n",
              "      <td>3102.000000</td>\n",
              "      <td>689.000000</td>\n",
              "      <td>0.000000</td>\n",
              "      <td>0.000000</td>\n",
              "      <td>0.000000</td>\n",
              "      <td>0.000000</td>\n",
              "      <td>689.000000</td>\n",
              "      <td>0.000000</td>\n",
              "      <td>0.000000</td>\n",
              "      <td>0.000000</td>\n",
              "      <td>0.000000</td>\n",
              "      <td>1</td>\n",
              "    </tr>\n",
              "    <tr>\n",
              "      <th>1</th>\n",
              "      <td>120000.0</td>\n",
              "      <td>-1.000000</td>\n",
              "      <td>2.000000</td>\n",
              "      <td>0.000000</td>\n",
              "      <td>0.000000</td>\n",
              "      <td>0.0</td>\n",
              "      <td>2.000000</td>\n",
              "      <td>2682.000000</td>\n",
              "      <td>1725.000000</td>\n",
              "      <td>2682.000000</td>\n",
              "      <td>3272.000000</td>\n",
              "      <td>3455.000000</td>\n",
              "      <td>3261.000000</td>\n",
              "      <td>0.000000</td>\n",
              "      <td>1000.000000</td>\n",
              "      <td>1000.000000</td>\n",
              "      <td>1000.000000</td>\n",
              "      <td>0.000000</td>\n",
              "      <td>2000.000000</td>\n",
              "      <td>1</td>\n",
              "    </tr>\n",
              "    <tr>\n",
              "      <th>2</th>\n",
              "      <td>90000.0</td>\n",
              "      <td>0.000000</td>\n",
              "      <td>0.000000</td>\n",
              "      <td>0.000000</td>\n",
              "      <td>0.000000</td>\n",
              "      <td>0.0</td>\n",
              "      <td>0.000000</td>\n",
              "      <td>29239.000000</td>\n",
              "      <td>14027.000000</td>\n",
              "      <td>13559.000000</td>\n",
              "      <td>14331.000000</td>\n",
              "      <td>14948.000000</td>\n",
              "      <td>15549.000000</td>\n",
              "      <td>1518.000000</td>\n",
              "      <td>1500.000000</td>\n",
              "      <td>1000.000000</td>\n",
              "      <td>1000.000000</td>\n",
              "      <td>1000.000000</td>\n",
              "      <td>5000.000000</td>\n",
              "      <td>0</td>\n",
              "    </tr>\n",
              "    <tr>\n",
              "      <th>3</th>\n",
              "      <td>50000.0</td>\n",
              "      <td>0.000000</td>\n",
              "      <td>0.000000</td>\n",
              "      <td>0.000000</td>\n",
              "      <td>0.000000</td>\n",
              "      <td>0.0</td>\n",
              "      <td>0.000000</td>\n",
              "      <td>46990.000000</td>\n",
              "      <td>48233.000000</td>\n",
              "      <td>49291.000000</td>\n",
              "      <td>28314.000000</td>\n",
              "      <td>28959.000000</td>\n",
              "      <td>29547.000000</td>\n",
              "      <td>2000.000000</td>\n",
              "      <td>2019.000000</td>\n",
              "      <td>1200.000000</td>\n",
              "      <td>1100.000000</td>\n",
              "      <td>1069.000000</td>\n",
              "      <td>1000.000000</td>\n",
              "      <td>0</td>\n",
              "    </tr>\n",
              "    <tr>\n",
              "      <th>4</th>\n",
              "      <td>50000.0</td>\n",
              "      <td>-1.000000</td>\n",
              "      <td>0.000000</td>\n",
              "      <td>-1.000000</td>\n",
              "      <td>0.000000</td>\n",
              "      <td>0.0</td>\n",
              "      <td>0.000000</td>\n",
              "      <td>8617.000000</td>\n",
              "      <td>5670.000000</td>\n",
              "      <td>35835.000000</td>\n",
              "      <td>20940.000000</td>\n",
              "      <td>19146.000000</td>\n",
              "      <td>19131.000000</td>\n",
              "      <td>2000.000000</td>\n",
              "      <td>36681.000000</td>\n",
              "      <td>10000.000000</td>\n",
              "      <td>9000.000000</td>\n",
              "      <td>689.000000</td>\n",
              "      <td>679.000000</td>\n",
              "      <td>0</td>\n",
              "    </tr>\n",
              "    <tr>\n",
              "      <th>...</th>\n",
              "      <td>...</td>\n",
              "      <td>...</td>\n",
              "      <td>...</td>\n",
              "      <td>...</td>\n",
              "      <td>...</td>\n",
              "      <td>...</td>\n",
              "      <td>...</td>\n",
              "      <td>...</td>\n",
              "      <td>...</td>\n",
              "      <td>...</td>\n",
              "      <td>...</td>\n",
              "      <td>...</td>\n",
              "      <td>...</td>\n",
              "      <td>...</td>\n",
              "      <td>...</td>\n",
              "      <td>...</td>\n",
              "      <td>...</td>\n",
              "      <td>...</td>\n",
              "      <td>...</td>\n",
              "      <td>...</td>\n",
              "    </tr>\n",
              "    <tr>\n",
              "      <th>46723</th>\n",
              "      <td>500000.0</td>\n",
              "      <td>-1.000000</td>\n",
              "      <td>-1.000000</td>\n",
              "      <td>-1.097463</td>\n",
              "      <td>-0.097463</td>\n",
              "      <td>0.0</td>\n",
              "      <td>-0.902537</td>\n",
              "      <td>299.197723</td>\n",
              "      <td>566.013642</td>\n",
              "      <td>5676.179116</td>\n",
              "      <td>11482.951169</td>\n",
              "      <td>24408.638118</td>\n",
              "      <td>10111.252116</td>\n",
              "      <td>566.793345</td>\n",
              "      <td>5676.958819</td>\n",
              "      <td>6425.912554</td>\n",
              "      <td>14097.462827</td>\n",
              "      <td>8774.354519</td>\n",
              "      <td>714.389365</td>\n",
              "      <td>1</td>\n",
              "    </tr>\n",
              "    <tr>\n",
              "      <th>46724</th>\n",
              "      <td>30000.0</td>\n",
              "      <td>1.629738</td>\n",
              "      <td>1.086492</td>\n",
              "      <td>1.086492</td>\n",
              "      <td>0.000000</td>\n",
              "      <td>0.0</td>\n",
              "      <td>0.000000</td>\n",
              "      <td>30100.122404</td>\n",
              "      <td>30844.045669</td>\n",
              "      <td>29793.337142</td>\n",
              "      <td>30340.096120</td>\n",
              "      <td>29326.481049</td>\n",
              "      <td>29031.294329</td>\n",
              "      <td>1708.649186</td>\n",
              "      <td>685.131102</td>\n",
              "      <td>1154.324593</td>\n",
              "      <td>1024.207966</td>\n",
              "      <td>1171.150615</td>\n",
              "      <td>932.775506</td>\n",
              "      <td>1</td>\n",
              "    </tr>\n",
              "    <tr>\n",
              "      <th>46725</th>\n",
              "      <td>10000.0</td>\n",
              "      <td>1.922023</td>\n",
              "      <td>0.000000</td>\n",
              "      <td>0.000000</td>\n",
              "      <td>-1.000000</td>\n",
              "      <td>-1.0</td>\n",
              "      <td>-2.000000</td>\n",
              "      <td>8632.130663</td>\n",
              "      <td>9223.599563</td>\n",
              "      <td>9919.831442</td>\n",
              "      <td>537.825072</td>\n",
              "      <td>0.000000</td>\n",
              "      <td>0.000000</td>\n",
              "      <td>1259.911470</td>\n",
              "      <td>1275.974710</td>\n",
              "      <td>538.604839</td>\n",
              "      <td>0.000000</td>\n",
              "      <td>74.077923</td>\n",
              "      <td>0.000000</td>\n",
              "      <td>1</td>\n",
              "    </tr>\n",
              "    <tr>\n",
              "      <th>46726</th>\n",
              "      <td>130000.0</td>\n",
              "      <td>2.000000</td>\n",
              "      <td>2.707569</td>\n",
              "      <td>2.000000</td>\n",
              "      <td>2.000000</td>\n",
              "      <td>2.0</td>\n",
              "      <td>2.000000</td>\n",
              "      <td>19328.554787</td>\n",
              "      <td>19680.390335</td>\n",
              "      <td>19073.815785</td>\n",
              "      <td>21036.947576</td>\n",
              "      <td>20447.718247</td>\n",
              "      <td>22067.448712</td>\n",
              "      <td>870.275853</td>\n",
              "      <td>0.000000</td>\n",
              "      <td>2283.027439</td>\n",
              "      <td>0.000000</td>\n",
              "      <td>2000.000000</td>\n",
              "      <td>0.000000</td>\n",
              "      <td>1</td>\n",
              "    </tr>\n",
              "    <tr>\n",
              "      <th>46727</th>\n",
              "      <td>100000.0</td>\n",
              "      <td>0.814023</td>\n",
              "      <td>-1.000000</td>\n",
              "      <td>-1.000000</td>\n",
              "      <td>-0.092988</td>\n",
              "      <td>-1.0</td>\n",
              "      <td>-1.000000</td>\n",
              "      <td>112.980959</td>\n",
              "      <td>391.672714</td>\n",
              "      <td>686.451470</td>\n",
              "      <td>388.139153</td>\n",
              "      <td>736.733848</td>\n",
              "      <td>7047.269866</td>\n",
              "      <td>686.451470</td>\n",
              "      <td>686.451470</td>\n",
              "      <td>93.360397</td>\n",
              "      <td>740.267409</td>\n",
              "      <td>7047.269866</td>\n",
              "      <td>1580.711215</td>\n",
              "      <td>1</td>\n",
              "    </tr>\n",
              "  </tbody>\n",
              "</table>\n",
              "<p>46728 rows × 20 columns</p>\n",
              "</div>"
            ],
            "text/plain": [
              "       Credit_given  Paymment_his_april  ...  PAY_AMT_sept  Next_month_default\n",
              "0           20000.0            2.000000  ...      0.000000                   1\n",
              "1          120000.0           -1.000000  ...   2000.000000                   1\n",
              "2           90000.0            0.000000  ...   5000.000000                   0\n",
              "3           50000.0            0.000000  ...   1000.000000                   0\n",
              "4           50000.0           -1.000000  ...    679.000000                   0\n",
              "...             ...                 ...  ...           ...                 ...\n",
              "46723      500000.0           -1.000000  ...    714.389365                   1\n",
              "46724       30000.0            1.629738  ...    932.775506                   1\n",
              "46725       10000.0            1.922023  ...      0.000000                   1\n",
              "46726      130000.0            2.000000  ...      0.000000                   1\n",
              "46727      100000.0            0.814023  ...   1580.711215                   1\n",
              "\n",
              "[46728 rows x 20 columns]"
            ]
          },
          "metadata": {},
          "execution_count": 224
        }
      ]
    },
    {
      "cell_type": "code",
      "metadata": {
        "colab": {
          "base_uri": "https://localhost:8080/",
          "height": 439
        },
        "id": "DmNeddtdGLnJ",
        "outputId": "b09a5c78-7874-47bf-9f05-9f46d3a0b725"
      },
      "source": [
        "feature_x = df.drop(['ID', 'Gender','Marriage','Education','Age','Next_month_default'], axis = 1)\n",
        "feature_x"
      ],
      "execution_count": null,
      "outputs": [
        {
          "output_type": "execute_result",
          "data": {
            "text/html": [
              "<div>\n",
              "<style scoped>\n",
              "    .dataframe tbody tr th:only-of-type {\n",
              "        vertical-align: middle;\n",
              "    }\n",
              "\n",
              "    .dataframe tbody tr th {\n",
              "        vertical-align: top;\n",
              "    }\n",
              "\n",
              "    .dataframe thead th {\n",
              "        text-align: right;\n",
              "    }\n",
              "</style>\n",
              "<table border=\"1\" class=\"dataframe\">\n",
              "  <thead>\n",
              "    <tr style=\"text-align: right;\">\n",
              "      <th></th>\n",
              "      <th>Credit_given</th>\n",
              "      <th>Paymment_his_april</th>\n",
              "      <th>Paymment_his_may</th>\n",
              "      <th>Paymment_his_june</th>\n",
              "      <th>Paymment_his_july</th>\n",
              "      <th>Paymment_his_august</th>\n",
              "      <th>Paymment_his_sept</th>\n",
              "      <th>BILL_AMT_april</th>\n",
              "      <th>BILL_AMT_may</th>\n",
              "      <th>BILL_AMT_june</th>\n",
              "      <th>BILL_AMT_july</th>\n",
              "      <th>BILL_AMT_august</th>\n",
              "      <th>BILL_AMT_sept</th>\n",
              "      <th>PAY_AMT_april</th>\n",
              "      <th>PAY_AMT_may</th>\n",
              "      <th>PAY_AMT_june</th>\n",
              "      <th>PAY_AMT_july</th>\n",
              "      <th>PAY_AMT_august</th>\n",
              "      <th>PAY_AMT_sept</th>\n",
              "    </tr>\n",
              "  </thead>\n",
              "  <tbody>\n",
              "    <tr>\n",
              "      <th>1</th>\n",
              "      <td>20000</td>\n",
              "      <td>2</td>\n",
              "      <td>2</td>\n",
              "      <td>-1</td>\n",
              "      <td>-1</td>\n",
              "      <td>-2</td>\n",
              "      <td>-2</td>\n",
              "      <td>3913</td>\n",
              "      <td>3102</td>\n",
              "      <td>689</td>\n",
              "      <td>0</td>\n",
              "      <td>0</td>\n",
              "      <td>0</td>\n",
              "      <td>0</td>\n",
              "      <td>689</td>\n",
              "      <td>0</td>\n",
              "      <td>0</td>\n",
              "      <td>0</td>\n",
              "      <td>0</td>\n",
              "    </tr>\n",
              "    <tr>\n",
              "      <th>2</th>\n",
              "      <td>120000</td>\n",
              "      <td>-1</td>\n",
              "      <td>2</td>\n",
              "      <td>0</td>\n",
              "      <td>0</td>\n",
              "      <td>0</td>\n",
              "      <td>2</td>\n",
              "      <td>2682</td>\n",
              "      <td>1725</td>\n",
              "      <td>2682</td>\n",
              "      <td>3272</td>\n",
              "      <td>3455</td>\n",
              "      <td>3261</td>\n",
              "      <td>0</td>\n",
              "      <td>1000</td>\n",
              "      <td>1000</td>\n",
              "      <td>1000</td>\n",
              "      <td>0</td>\n",
              "      <td>2000</td>\n",
              "    </tr>\n",
              "    <tr>\n",
              "      <th>3</th>\n",
              "      <td>90000</td>\n",
              "      <td>0</td>\n",
              "      <td>0</td>\n",
              "      <td>0</td>\n",
              "      <td>0</td>\n",
              "      <td>0</td>\n",
              "      <td>0</td>\n",
              "      <td>29239</td>\n",
              "      <td>14027</td>\n",
              "      <td>13559</td>\n",
              "      <td>14331</td>\n",
              "      <td>14948</td>\n",
              "      <td>15549</td>\n",
              "      <td>1518</td>\n",
              "      <td>1500</td>\n",
              "      <td>1000</td>\n",
              "      <td>1000</td>\n",
              "      <td>1000</td>\n",
              "      <td>5000</td>\n",
              "    </tr>\n",
              "    <tr>\n",
              "      <th>4</th>\n",
              "      <td>50000</td>\n",
              "      <td>0</td>\n",
              "      <td>0</td>\n",
              "      <td>0</td>\n",
              "      <td>0</td>\n",
              "      <td>0</td>\n",
              "      <td>0</td>\n",
              "      <td>46990</td>\n",
              "      <td>48233</td>\n",
              "      <td>49291</td>\n",
              "      <td>28314</td>\n",
              "      <td>28959</td>\n",
              "      <td>29547</td>\n",
              "      <td>2000</td>\n",
              "      <td>2019</td>\n",
              "      <td>1200</td>\n",
              "      <td>1100</td>\n",
              "      <td>1069</td>\n",
              "      <td>1000</td>\n",
              "    </tr>\n",
              "    <tr>\n",
              "      <th>5</th>\n",
              "      <td>50000</td>\n",
              "      <td>-1</td>\n",
              "      <td>0</td>\n",
              "      <td>-1</td>\n",
              "      <td>0</td>\n",
              "      <td>0</td>\n",
              "      <td>0</td>\n",
              "      <td>8617</td>\n",
              "      <td>5670</td>\n",
              "      <td>35835</td>\n",
              "      <td>20940</td>\n",
              "      <td>19146</td>\n",
              "      <td>19131</td>\n",
              "      <td>2000</td>\n",
              "      <td>36681</td>\n",
              "      <td>10000</td>\n",
              "      <td>9000</td>\n",
              "      <td>689</td>\n",
              "      <td>679</td>\n",
              "    </tr>\n",
              "    <tr>\n",
              "      <th>...</th>\n",
              "      <td>...</td>\n",
              "      <td>...</td>\n",
              "      <td>...</td>\n",
              "      <td>...</td>\n",
              "      <td>...</td>\n",
              "      <td>...</td>\n",
              "      <td>...</td>\n",
              "      <td>...</td>\n",
              "      <td>...</td>\n",
              "      <td>...</td>\n",
              "      <td>...</td>\n",
              "      <td>...</td>\n",
              "      <td>...</td>\n",
              "      <td>...</td>\n",
              "      <td>...</td>\n",
              "      <td>...</td>\n",
              "      <td>...</td>\n",
              "      <td>...</td>\n",
              "      <td>...</td>\n",
              "    </tr>\n",
              "    <tr>\n",
              "      <th>29996</th>\n",
              "      <td>220000</td>\n",
              "      <td>0</td>\n",
              "      <td>0</td>\n",
              "      <td>0</td>\n",
              "      <td>0</td>\n",
              "      <td>0</td>\n",
              "      <td>0</td>\n",
              "      <td>188948</td>\n",
              "      <td>192815</td>\n",
              "      <td>208365</td>\n",
              "      <td>88004</td>\n",
              "      <td>31237</td>\n",
              "      <td>15980</td>\n",
              "      <td>8500</td>\n",
              "      <td>20000</td>\n",
              "      <td>5003</td>\n",
              "      <td>3047</td>\n",
              "      <td>5000</td>\n",
              "      <td>1000</td>\n",
              "    </tr>\n",
              "    <tr>\n",
              "      <th>29997</th>\n",
              "      <td>150000</td>\n",
              "      <td>-1</td>\n",
              "      <td>-1</td>\n",
              "      <td>-1</td>\n",
              "      <td>-1</td>\n",
              "      <td>0</td>\n",
              "      <td>0</td>\n",
              "      <td>1683</td>\n",
              "      <td>1828</td>\n",
              "      <td>3502</td>\n",
              "      <td>8979</td>\n",
              "      <td>5190</td>\n",
              "      <td>0</td>\n",
              "      <td>1837</td>\n",
              "      <td>3526</td>\n",
              "      <td>8998</td>\n",
              "      <td>129</td>\n",
              "      <td>0</td>\n",
              "      <td>0</td>\n",
              "    </tr>\n",
              "    <tr>\n",
              "      <th>29998</th>\n",
              "      <td>30000</td>\n",
              "      <td>4</td>\n",
              "      <td>3</td>\n",
              "      <td>2</td>\n",
              "      <td>-1</td>\n",
              "      <td>0</td>\n",
              "      <td>0</td>\n",
              "      <td>3565</td>\n",
              "      <td>3356</td>\n",
              "      <td>2758</td>\n",
              "      <td>20878</td>\n",
              "      <td>20582</td>\n",
              "      <td>19357</td>\n",
              "      <td>0</td>\n",
              "      <td>0</td>\n",
              "      <td>22000</td>\n",
              "      <td>4200</td>\n",
              "      <td>2000</td>\n",
              "      <td>3100</td>\n",
              "    </tr>\n",
              "    <tr>\n",
              "      <th>29999</th>\n",
              "      <td>80000</td>\n",
              "      <td>1</td>\n",
              "      <td>-1</td>\n",
              "      <td>0</td>\n",
              "      <td>0</td>\n",
              "      <td>0</td>\n",
              "      <td>-1</td>\n",
              "      <td>-1645</td>\n",
              "      <td>78379</td>\n",
              "      <td>76304</td>\n",
              "      <td>52774</td>\n",
              "      <td>11855</td>\n",
              "      <td>48944</td>\n",
              "      <td>85900</td>\n",
              "      <td>3409</td>\n",
              "      <td>1178</td>\n",
              "      <td>1926</td>\n",
              "      <td>52964</td>\n",
              "      <td>1804</td>\n",
              "    </tr>\n",
              "    <tr>\n",
              "      <th>30000</th>\n",
              "      <td>50000</td>\n",
              "      <td>0</td>\n",
              "      <td>0</td>\n",
              "      <td>0</td>\n",
              "      <td>0</td>\n",
              "      <td>0</td>\n",
              "      <td>0</td>\n",
              "      <td>47929</td>\n",
              "      <td>48905</td>\n",
              "      <td>49764</td>\n",
              "      <td>36535</td>\n",
              "      <td>32428</td>\n",
              "      <td>15313</td>\n",
              "      <td>2078</td>\n",
              "      <td>1800</td>\n",
              "      <td>1430</td>\n",
              "      <td>1000</td>\n",
              "      <td>1000</td>\n",
              "      <td>1000</td>\n",
              "    </tr>\n",
              "  </tbody>\n",
              "</table>\n",
              "<p>30000 rows × 19 columns</p>\n",
              "</div>"
            ],
            "text/plain": [
              "      Credit_given Paymment_his_april  ... PAY_AMT_august PAY_AMT_sept\n",
              "1            20000                  2  ...              0            0\n",
              "2           120000                 -1  ...              0         2000\n",
              "3            90000                  0  ...           1000         5000\n",
              "4            50000                  0  ...           1069         1000\n",
              "5            50000                 -1  ...            689          679\n",
              "...            ...                ...  ...            ...          ...\n",
              "29996       220000                  0  ...           5000         1000\n",
              "29997       150000                 -1  ...              0            0\n",
              "29998        30000                  4  ...           2000         3100\n",
              "29999        80000                  1  ...          52964         1804\n",
              "30000        50000                  0  ...           1000         1000\n",
              "\n",
              "[30000 rows x 19 columns]"
            ]
          },
          "metadata": {},
          "execution_count": 225
        }
      ]
    },
    {
      "cell_type": "markdown",
      "metadata": {
        "id": "xQzsc9tVHdAN"
      },
      "source": [
        "# Machine Learning"
      ]
    },
    {
      "cell_type": "markdown",
      "metadata": {
        "id": "tYYYusIMHgru"
      },
      "source": [
        "1.Logistic Regression.\n",
        "\n",
        "2.Logistic Regression with SMOTE.\n",
        "\n",
        "3.Random Forest.\n",
        "\n",
        "4.Random Forest with SMOTE.\n"
      ]
    },
    {
      "cell_type": "markdown",
      "metadata": {
        "id": "yn4rgSVvqqIY"
      },
      "source": [
        "Train Test split"
      ]
    },
    {
      "cell_type": "code",
      "metadata": {
        "id": "Vl09VfbDqpJc"
      },
      "source": [
        "from sklearn.model_selection import train_test_split\n",
        "X_train, X_test, y_train, y_test = train_test_split(feature_x, target_y, test_size=0.2, random_state=10)\n"
      ],
      "execution_count": null,
      "outputs": []
    },
    {
      "cell_type": "code",
      "metadata": {
        "id": "eTp_ZCrUEeCt"
      },
      "source": [
        "#applying standarscaler\n",
        "from sklearn.preprocessing import StandardScaler\n",
        "sc = StandardScaler()\n",
        "X_train = sc.fit_transform(X_train)\n",
        "X_test = sc.transform(X_test)"
      ],
      "execution_count": null,
      "outputs": []
    },
    {
      "cell_type": "markdown",
      "metadata": {
        "id": "YhLKkhw1HvVg"
      },
      "source": [
        "1.Logistic Regression"
      ]
    },
    {
      "cell_type": "code",
      "metadata": {
        "id": "CMB1xjKmoxjS",
        "colab": {
          "base_uri": "https://localhost:8080/"
        },
        "outputId": "dedbda52-678a-4f7f-938a-873bde5ffa22"
      },
      "source": [
        "from sklearn.linear_model import LogisticRegression\n",
        "model_logistic = LogisticRegression()\n",
        "model_logistic.fit(X_train,y_train)"
      ],
      "execution_count": null,
      "outputs": [
        {
          "output_type": "execute_result",
          "data": {
            "text/plain": [
              "LogisticRegression(C=1.0, class_weight=None, dual=False, fit_intercept=True,\n",
              "                   intercept_scaling=1, l1_ratio=None, max_iter=100,\n",
              "                   multi_class='auto', n_jobs=None, penalty='l2',\n",
              "                   random_state=None, solver='lbfgs', tol=0.0001, verbose=0,\n",
              "                   warm_start=False)"
            ]
          },
          "metadata": {},
          "execution_count": 228
        }
      ]
    },
    {
      "cell_type": "code",
      "metadata": {
        "id": "tUoi3gfuE6x6"
      },
      "source": [
        "y_pred_logistic = model_logistic.predict(X_test)"
      ],
      "execution_count": null,
      "outputs": []
    },
    {
      "cell_type": "code",
      "metadata": {
        "colab": {
          "base_uri": "https://localhost:8080/",
          "height": 241
        },
        "id": "PYwKYuwcFDdo",
        "outputId": "8faa1300-4d03-4154-cdef-501c7cc4c70e"
      },
      "source": [
        "#confusion matrix for logistic regression\n",
        "from sklearn.metrics import confusion_matrix\n",
        "from sklearn.metrics import accuracy_score\n",
        "# print(confusion_matrix(y_pred_logistic, y_test))\n",
        "\n",
        "plt.figure(figsize=(4,3))\n",
        "ConfMatrix = confusion_matrix(y_pred_logistic,y_test)\n",
        "sns.heatmap(ConfMatrix,annot=True, cmap=\"Blues\", fmt=\"d\", \n",
        "            xticklabels = ['Non-default', 'Default'], \n",
        "            yticklabels = ['Non-default', 'Default'])\n",
        "plt.ylabel('True label')\n",
        "plt.xlabel('Predicted label')\n",
        "plt.title(\"Confusion Matrix - Logistic Regression\");"
      ],
      "execution_count": null,
      "outputs": [
        {
          "output_type": "display_data",
          "data": {
            "image/png": "[encoded data removed]",
            "text/plain": [
              "<Figure size 288x216 with 2 Axes>"
            ]
          },
          "metadata": {
            "needs_background": "light"
          }
        }
      ]
    },
    {
      "cell_type": "code",
      "metadata": {
        "colab": {
          "base_uri": "https://localhost:8080/"
        },
        "id": "H7adTAmgFJuJ",
        "outputId": "aa6cd158-b0a4-4567-9be9-0a1f5bc3c0f6"
      },
      "source": [
        "from sklearn.metrics import classification_report\n",
        "print(classification_report(y_pred_logistic, y_test))"
      ],
      "execution_count": null,
      "outputs": [
        {
          "output_type": "stream",
          "name": "stdout",
          "text": [
            "              precision    recall  f1-score   support\n",
            "\n",
            "           0       0.98      0.82      0.89      5581\n",
            "           1       0.23      0.74      0.35       419\n",
            "\n",
            "    accuracy                           0.81      6000\n",
            "   macro avg       0.61      0.78      0.62      6000\n",
            "weighted avg       0.92      0.81      0.85      6000\n",
            "\n"
          ]
        }
      ]
    },
    {
      "cell_type": "code",
      "metadata": {
        "colab": {
          "base_uri": "https://localhost:8080/"
        },
        "id": "gDP1f_66F4Hu",
        "outputId": "173521df-7342-4b86-d15e-3906d87340ba"
      },
      "source": [
        "accuracy_score(y_pred_logistic, y_test)"
      ],
      "execution_count": null,
      "outputs": [
        {
          "output_type": "execute_result",
          "data": {
            "text/plain": [
              "0.8133333333333334"
            ]
          },
          "metadata": {},
          "execution_count": 232
        }
      ]
    },
    {
      "cell_type": "code",
      "metadata": {
        "colab": {
          "base_uri": "https://localhost:8080/"
        },
        "id": "jvdQqvdIF8uI",
        "outputId": "067e02e2-f422-4127-941f-f1b797f0f7e9"
      },
      "source": [
        "print(\"Accuracy of Logistic Model is\",(accuracy_score(y_pred_logistic, y_test)*100),\"%\")"
      ],
      "execution_count": null,
      "outputs": [
        {
          "output_type": "stream",
          "name": "stdout",
          "text": [
            "Accuracy of Logistic Model is 81.33333333333333 %\n"
          ]
        }
      ]
    },
    {
      "cell_type": "markdown",
      "metadata": {
        "id": "DiCvzlvGIuiH"
      },
      "source": [
        "Conclusion : Running a model on imbalanced dataset will yield a 80%accuracy so there is no sense of doing as this result we would get from a random guess itself."
      ]
    },
    {
      "cell_type": "markdown",
      "metadata": {
        "id": "LMzBeqJoGyJP"
      },
      "source": [
        "2.Logistic Regression with SMOTE"
      ]
    },
    {
      "cell_type": "code",
      "metadata": {
        "colab": {
          "base_uri": "https://localhost:8080/",
          "height": 439
        },
        "id": "chaQhyD7GEAY",
        "outputId": "410eeaf2-6a57-4a9a-92c4-ff4e938bc37c"
      },
      "source": [
        "feature_x = resampled_df.drop(['ID', 'Gender','Marriage','Education','Age','Next_month_default'], axis = 1)\n",
        "feature_x"
      ],
      "execution_count": null,
      "outputs": [
        {
          "output_type": "execute_result",
          "data": {
            "text/html": [
              "<div>\n",
              "<style scoped>\n",
              "    .dataframe tbody tr th:only-of-type {\n",
              "        vertical-align: middle;\n",
              "    }\n",
              "\n",
              "    .dataframe tbody tr th {\n",
              "        vertical-align: top;\n",
              "    }\n",
              "\n",
              "    .dataframe thead th {\n",
              "        text-align: right;\n",
              "    }\n",
              "</style>\n",
              "<table border=\"1\" class=\"dataframe\">\n",
              "  <thead>\n",
              "    <tr style=\"text-align: right;\">\n",
              "      <th></th>\n",
              "      <th>Credit_given</th>\n",
              "      <th>Paymment_his_april</th>\n",
              "      <th>Paymment_his_may</th>\n",
              "      <th>Paymment_his_june</th>\n",
              "      <th>Paymment_his_july</th>\n",
              "      <th>Paymment_his_august</th>\n",
              "      <th>Paymment_his_sept</th>\n",
              "      <th>BILL_AMT_april</th>\n",
              "      <th>BILL_AMT_may</th>\n",
              "      <th>BILL_AMT_june</th>\n",
              "      <th>BILL_AMT_july</th>\n",
              "      <th>BILL_AMT_august</th>\n",
              "      <th>BILL_AMT_sept</th>\n",
              "      <th>PAY_AMT_april</th>\n",
              "      <th>PAY_AMT_may</th>\n",
              "      <th>PAY_AMT_june</th>\n",
              "      <th>PAY_AMT_july</th>\n",
              "      <th>PAY_AMT_august</th>\n",
              "      <th>PAY_AMT_sept</th>\n",
              "    </tr>\n",
              "  </thead>\n",
              "  <tbody>\n",
              "    <tr>\n",
              "      <th>0</th>\n",
              "      <td>20000.0</td>\n",
              "      <td>2.000000</td>\n",
              "      <td>2.000000</td>\n",
              "      <td>-1.000000</td>\n",
              "      <td>-1.000000</td>\n",
              "      <td>-2.0</td>\n",
              "      <td>-2.000000</td>\n",
              "      <td>3913.000000</td>\n",
              "      <td>3102.000000</td>\n",
              "      <td>689.000000</td>\n",
              "      <td>0.000000</td>\n",
              "      <td>0.000000</td>\n",
              "      <td>0.000000</td>\n",
              "      <td>0.000000</td>\n",
              "      <td>689.000000</td>\n",
              "      <td>0.000000</td>\n",
              "      <td>0.000000</td>\n",
              "      <td>0.000000</td>\n",
              "      <td>0.000000</td>\n",
              "    </tr>\n",
              "    <tr>\n",
              "      <th>1</th>\n",
              "      <td>120000.0</td>\n",
              "      <td>-1.000000</td>\n",
              "      <td>2.000000</td>\n",
              "      <td>0.000000</td>\n",
              "      <td>0.000000</td>\n",
              "      <td>0.0</td>\n",
              "      <td>2.000000</td>\n",
              "      <td>2682.000000</td>\n",
              "      <td>1725.000000</td>\n",
              "      <td>2682.000000</td>\n",
              "      <td>3272.000000</td>\n",
              "      <td>3455.000000</td>\n",
              "      <td>3261.000000</td>\n",
              "      <td>0.000000</td>\n",
              "      <td>1000.000000</td>\n",
              "      <td>1000.000000</td>\n",
              "      <td>1000.000000</td>\n",
              "      <td>0.000000</td>\n",
              "      <td>2000.000000</td>\n",
              "    </tr>\n",
              "    <tr>\n",
              "      <th>2</th>\n",
              "      <td>90000.0</td>\n",
              "      <td>0.000000</td>\n",
              "      <td>0.000000</td>\n",
              "      <td>0.000000</td>\n",
              "      <td>0.000000</td>\n",
              "      <td>0.0</td>\n",
              "      <td>0.000000</td>\n",
              "      <td>29239.000000</td>\n",
              "      <td>14027.000000</td>\n",
              "      <td>13559.000000</td>\n",
              "      <td>14331.000000</td>\n",
              "      <td>14948.000000</td>\n",
              "      <td>15549.000000</td>\n",
              "      <td>1518.000000</td>\n",
              "      <td>1500.000000</td>\n",
              "      <td>1000.000000</td>\n",
              "      <td>1000.000000</td>\n",
              "      <td>1000.000000</td>\n",
              "      <td>5000.000000</td>\n",
              "    </tr>\n",
              "    <tr>\n",
              "      <th>3</th>\n",
              "      <td>50000.0</td>\n",
              "      <td>0.000000</td>\n",
              "      <td>0.000000</td>\n",
              "      <td>0.000000</td>\n",
              "      <td>0.000000</td>\n",
              "      <td>0.0</td>\n",
              "      <td>0.000000</td>\n",
              "      <td>46990.000000</td>\n",
              "      <td>48233.000000</td>\n",
              "      <td>49291.000000</td>\n",
              "      <td>28314.000000</td>\n",
              "      <td>28959.000000</td>\n",
              "      <td>29547.000000</td>\n",
              "      <td>2000.000000</td>\n",
              "      <td>2019.000000</td>\n",
              "      <td>1200.000000</td>\n",
              "      <td>1100.000000</td>\n",
              "      <td>1069.000000</td>\n",
              "      <td>1000.000000</td>\n",
              "    </tr>\n",
              "    <tr>\n",
              "      <th>4</th>\n",
              "      <td>50000.0</td>\n",
              "      <td>-1.000000</td>\n",
              "      <td>0.000000</td>\n",
              "      <td>-1.000000</td>\n",
              "      <td>0.000000</td>\n",
              "      <td>0.0</td>\n",
              "      <td>0.000000</td>\n",
              "      <td>8617.000000</td>\n",
              "      <td>5670.000000</td>\n",
              "      <td>35835.000000</td>\n",
              "      <td>20940.000000</td>\n",
              "      <td>19146.000000</td>\n",
              "      <td>19131.000000</td>\n",
              "      <td>2000.000000</td>\n",
              "      <td>36681.000000</td>\n",
              "      <td>10000.000000</td>\n",
              "      <td>9000.000000</td>\n",
              "      <td>689.000000</td>\n",
              "      <td>679.000000</td>\n",
              "    </tr>\n",
              "    <tr>\n",
              "      <th>...</th>\n",
              "      <td>...</td>\n",
              "      <td>...</td>\n",
              "      <td>...</td>\n",
              "      <td>...</td>\n",
              "      <td>...</td>\n",
              "      <td>...</td>\n",
              "      <td>...</td>\n",
              "      <td>...</td>\n",
              "      <td>...</td>\n",
              "      <td>...</td>\n",
              "      <td>...</td>\n",
              "      <td>...</td>\n",
              "      <td>...</td>\n",
              "      <td>...</td>\n",
              "      <td>...</td>\n",
              "      <td>...</td>\n",
              "      <td>...</td>\n",
              "      <td>...</td>\n",
              "      <td>...</td>\n",
              "    </tr>\n",
              "    <tr>\n",
              "      <th>46723</th>\n",
              "      <td>500000.0</td>\n",
              "      <td>-1.000000</td>\n",
              "      <td>-1.000000</td>\n",
              "      <td>-1.097463</td>\n",
              "      <td>-0.097463</td>\n",
              "      <td>0.0</td>\n",
              "      <td>-0.902537</td>\n",
              "      <td>299.197723</td>\n",
              "      <td>566.013642</td>\n",
              "      <td>5676.179116</td>\n",
              "      <td>11482.951169</td>\n",
              "      <td>24408.638118</td>\n",
              "      <td>10111.252116</td>\n",
              "      <td>566.793345</td>\n",
              "      <td>5676.958819</td>\n",
              "      <td>6425.912554</td>\n",
              "      <td>14097.462827</td>\n",
              "      <td>8774.354519</td>\n",
              "      <td>714.389365</td>\n",
              "    </tr>\n",
              "    <tr>\n",
              "      <th>46724</th>\n",
              "      <td>30000.0</td>\n",
              "      <td>1.629738</td>\n",
              "      <td>1.086492</td>\n",
              "      <td>1.086492</td>\n",
              "      <td>0.000000</td>\n",
              "      <td>0.0</td>\n",
              "      <td>0.000000</td>\n",
              "      <td>30100.122404</td>\n",
              "      <td>30844.045669</td>\n",
              "      <td>29793.337142</td>\n",
              "      <td>30340.096120</td>\n",
              "      <td>29326.481049</td>\n",
              "      <td>29031.294329</td>\n",
              "      <td>1708.649186</td>\n",
              "      <td>685.131102</td>\n",
              "      <td>1154.324593</td>\n",
              "      <td>1024.207966</td>\n",
              "      <td>1171.150615</td>\n",
              "      <td>932.775506</td>\n",
              "    </tr>\n",
              "    <tr>\n",
              "      <th>46725</th>\n",
              "      <td>10000.0</td>\n",
              "      <td>1.922023</td>\n",
              "      <td>0.000000</td>\n",
              "      <td>0.000000</td>\n",
              "      <td>-1.000000</td>\n",
              "      <td>-1.0</td>\n",
              "      <td>-2.000000</td>\n",
              "      <td>8632.130663</td>\n",
              "      <td>9223.599563</td>\n",
              "      <td>9919.831442</td>\n",
              "      <td>537.825072</td>\n",
              "      <td>0.000000</td>\n",
              "      <td>0.000000</td>\n",
              "      <td>1259.911470</td>\n",
              "      <td>1275.974710</td>\n",
              "      <td>538.604839</td>\n",
              "      <td>0.000000</td>\n",
              "      <td>74.077923</td>\n",
              "      <td>0.000000</td>\n",
              "    </tr>\n",
              "    <tr>\n",
              "      <th>46726</th>\n",
              "      <td>130000.0</td>\n",
              "      <td>2.000000</td>\n",
              "      <td>2.707569</td>\n",
              "      <td>2.000000</td>\n",
              "      <td>2.000000</td>\n",
              "      <td>2.0</td>\n",
              "      <td>2.000000</td>\n",
              "      <td>19328.554787</td>\n",
              "      <td>19680.390335</td>\n",
              "      <td>19073.815785</td>\n",
              "      <td>21036.947576</td>\n",
              "      <td>20447.718247</td>\n",
              "      <td>22067.448712</td>\n",
              "      <td>870.275853</td>\n",
              "      <td>0.000000</td>\n",
              "      <td>2283.027439</td>\n",
              "      <td>0.000000</td>\n",
              "      <td>2000.000000</td>\n",
              "      <td>0.000000</td>\n",
              "    </tr>\n",
              "    <tr>\n",
              "      <th>46727</th>\n",
              "      <td>100000.0</td>\n",
              "      <td>0.814023</td>\n",
              "      <td>-1.000000</td>\n",
              "      <td>-1.000000</td>\n",
              "      <td>-0.092988</td>\n",
              "      <td>-1.0</td>\n",
              "      <td>-1.000000</td>\n",
              "      <td>112.980959</td>\n",
              "      <td>391.672714</td>\n",
              "      <td>686.451470</td>\n",
              "      <td>388.139153</td>\n",
              "      <td>736.733848</td>\n",
              "      <td>7047.269866</td>\n",
              "      <td>686.451470</td>\n",
              "      <td>686.451470</td>\n",
              "      <td>93.360397</td>\n",
              "      <td>740.267409</td>\n",
              "      <td>7047.269866</td>\n",
              "      <td>1580.711215</td>\n",
              "    </tr>\n",
              "  </tbody>\n",
              "</table>\n",
              "<p>46728 rows × 19 columns</p>\n",
              "</div>"
            ],
            "text/plain": [
              "       Credit_given  Paymment_his_april  ...  PAY_AMT_august  PAY_AMT_sept\n",
              "0           20000.0            2.000000  ...        0.000000      0.000000\n",
              "1          120000.0           -1.000000  ...        0.000000   2000.000000\n",
              "2           90000.0            0.000000  ...     1000.000000   5000.000000\n",
              "3           50000.0            0.000000  ...     1069.000000   1000.000000\n",
              "4           50000.0           -1.000000  ...      689.000000    679.000000\n",
              "...             ...                 ...  ...             ...           ...\n",
              "46723      500000.0           -1.000000  ...     8774.354519    714.389365\n",
              "46724       30000.0            1.629738  ...     1171.150615    932.775506\n",
              "46725       10000.0            1.922023  ...       74.077923      0.000000\n",
              "46726      130000.0            2.000000  ...     2000.000000      0.000000\n",
              "46727      100000.0            0.814023  ...     7047.269866   1580.711215\n",
              "\n",
              "[46728 rows x 19 columns]"
            ]
          },
          "metadata": {},
          "execution_count": 234
        }
      ]
    },
    {
      "cell_type": "code",
      "metadata": {
        "id": "ipBk_rabJVUF"
      },
      "source": [
        "target_y= resampled_df['Next_month_default']"
      ],
      "execution_count": null,
      "outputs": []
    },
    {
      "cell_type": "code",
      "metadata": {
        "id": "4hhd---wJty9"
      },
      "source": [
        "target_y = target_y.astype('int')"
      ],
      "execution_count": null,
      "outputs": []
    },
    {
      "cell_type": "code",
      "metadata": {
        "id": "NMiiBZkaHBc2"
      },
      "source": [
        "#train-test split\n",
        "from sklearn.model_selection import train_test_split\n",
        "X_train, X_test, y_train, y_test = train_test_split(feature_x, target_y, test_size=0.2, random_state=10)\n"
      ],
      "execution_count": null,
      "outputs": []
    },
    {
      "cell_type": "code",
      "metadata": {
        "id": "_IsJbdByHLrm"
      },
      "source": [
        "#applying standarscaler\n",
        "from sklearn.preprocessing import StandardScaler\n",
        "sc = StandardScaler()\n",
        "X_train = sc.fit_transform(X_train)\n",
        "X_test = sc.transform(X_test)"
      ],
      "execution_count": null,
      "outputs": []
    },
    {
      "cell_type": "code",
      "metadata": {
        "colab": {
          "base_uri": "https://localhost:8080/"
        },
        "id": "pHHF0Mn4Jjqz",
        "outputId": "166b714c-b70c-4989-aca0-a3d2b17c65e7"
      },
      "source": [
        "from sklearn.linear_model import LogisticRegression\n",
        "model_logistic = LogisticRegression()\n",
        "model_logistic.fit(X_train,y_train)"
      ],
      "execution_count": null,
      "outputs": [
        {
          "output_type": "execute_result",
          "data": {
            "text/plain": [
              "LogisticRegression(C=1.0, class_weight=None, dual=False, fit_intercept=True,\n",
              "                   intercept_scaling=1, l1_ratio=None, max_iter=100,\n",
              "                   multi_class='auto', n_jobs=None, penalty='l2',\n",
              "                   random_state=None, solver='lbfgs', tol=0.0001, verbose=0,\n",
              "                   warm_start=False)"
            ]
          },
          "metadata": {},
          "execution_count": 239
        }
      ]
    },
    {
      "cell_type": "code",
      "metadata": {
        "id": "0eB_giD7JpeU"
      },
      "source": [
        "y_pred_logistic_test = model_logistic.predict(X_test)"
      ],
      "execution_count": null,
      "outputs": []
    },
    {
      "cell_type": "code",
      "metadata": {
        "id": "p2BTTLJ2bXAj"
      },
      "source": [
        "y_pred_logistic_train = model_logistic.predict(X_train)"
      ],
      "execution_count": null,
      "outputs": []
    },
    {
      "cell_type": "code",
      "metadata": {
        "colab": {
          "base_uri": "https://localhost:8080/",
          "height": 241
        },
        "id": "GKklhuoEJ2a0",
        "outputId": "6d6412cd-cf5d-4be1-ec21-70f205948ce6"
      },
      "source": [
        "#confusion matrix for logistic regression\n",
        "from sklearn.metrics import confusion_matrix\n",
        "from sklearn.metrics import accuracy_score\n",
        "# print(confusion_matrix(y_pred_logistic, y_test))\n",
        "\n",
        "plt.figure(figsize=(4,3))\n",
        "ConfMatrix = confusion_matrix(y_pred_logistic_test,y_test)\n",
        "sns.heatmap(ConfMatrix,annot=True, cmap=\"Blues\", fmt=\"d\", \n",
        "            xticklabels = ['Non-default', 'Default'], \n",
        "            yticklabels = ['Non-default', 'Default'])\n",
        "plt.ylabel('True label')\n",
        "plt.xlabel('Predicted label')\n",
        "plt.title(\"Confusion Matrix - Logistic Regression\");"
      ],
      "execution_count": null,
      "outputs": [
        {
          "output_type": "display_data",
          "data": {
            "image/png": "[encoded data removed]",
            "text/plain": [
              "<Figure size 288x216 with 2 Axes>"
            ]
          },
          "metadata": {
            "needs_background": "light"
          }
        }
      ]
    },
    {
      "cell_type": "code",
      "metadata": {
        "colab": {
          "base_uri": "https://localhost:8080/"
        },
        "id": "GSD1crGNJ7DD",
        "outputId": "9a245be6-e9c6-46f8-b6f9-cd02de8e0931"
      },
      "source": [
        "from sklearn.metrics import classification_report\n",
        "print(classification_report(y_pred_logistic_test, y_test))"
      ],
      "execution_count": null,
      "outputs": [
        {
          "output_type": "stream",
          "name": "stdout",
          "text": [
            "              precision    recall  f1-score   support\n",
            "\n",
            "           0       0.71      0.67      0.69      4946\n",
            "           1       0.66      0.70      0.68      4400\n",
            "\n",
            "    accuracy                           0.68      9346\n",
            "   macro avg       0.68      0.69      0.68      9346\n",
            "weighted avg       0.69      0.68      0.69      9346\n",
            "\n"
          ]
        }
      ]
    },
    {
      "cell_type": "code",
      "metadata": {
        "id": "4IV9H8FvJ-zj"
      },
      "source": [
        "test_accuracy_lr = accuracy_score(y_pred_logistic_test, y_test)"
      ],
      "execution_count": null,
      "outputs": []
    },
    {
      "cell_type": "code",
      "metadata": {
        "id": "Adx63pQtbTo5"
      },
      "source": [
        "train_accuracy_lr= accuracy_score(y_pred_logistic_train, y_train)"
      ],
      "execution_count": null,
      "outputs": []
    },
    {
      "cell_type": "code",
      "metadata": {
        "colab": {
          "base_uri": "https://localhost:8080/"
        },
        "id": "R22SEWGOKBwz",
        "outputId": "dbd912d4-863f-407a-858e-1577984ab1b5"
      },
      "source": [
        "print(\"Accuracy of Logistic Model for test dataset is\",(accuracy_score(y_pred_logistic_test, y_test)*100),\"%\")\n",
        "print(\"Accuracy of Logistic Model for train dataset is\",(accuracy_score(y_pred_logistic_train, y_train)*100),\"%\")"
      ],
      "execution_count": null,
      "outputs": [
        {
          "output_type": "stream",
          "name": "stdout",
          "text": [
            "Accuracy of Logistic Model for test dataset is 68.48919323774876 %\n",
            "Accuracy of Logistic Model for train dataset is 69.53614038842224 %\n"
          ]
        }
      ]
    },
    {
      "cell_type": "code",
      "metadata": {
        "id": "eexAb5RMh7lk"
      },
      "source": [
        "from sklearn.metrics import accuracy_score, f1_score, precision_score, recall_score, classification_report, confusion_matrix"
      ],
      "execution_count": null,
      "outputs": []
    },
    {
      "cell_type": "code",
      "metadata": {
        "id": "00VYt5K5tYMM"
      },
      "source": [
        "precison_score_lr = precision_score(y_pred_logistic_test, y_test)\n",
        "recall_score_lr = recall_score(y_pred_logistic_test, y_test)\n",
        "f1_score_lr = f1_score(y_pred_logistic_test,y_test)"
      ],
      "execution_count": null,
      "outputs": []
    },
    {
      "cell_type": "code",
      "metadata": {
        "id": "bNdKdySuivQP"
      },
      "source": [
        ""
      ],
      "execution_count": null,
      "outputs": []
    },
    {
      "cell_type": "markdown",
      "metadata": {
        "id": "Q4Wd_l1bQLKY"
      },
      "source": [
        "Random Forest Classifier Using SMOTE"
      ]
    },
    {
      "cell_type": "code",
      "metadata": {
        "colab": {
          "base_uri": "https://localhost:8080/",
          "height": 439
        },
        "id": "6i_DiwuxQQTe",
        "outputId": "a7b01a7d-3ab9-481d-c54f-dc59936fd42e"
      },
      "source": [
        "feature_x = resampled_df.drop(['ID', 'Gender','Marriage','Education','Age','Next_month_default'], axis = 1)\n",
        "feature_x\n"
      ],
      "execution_count": null,
      "outputs": [
        {
          "output_type": "execute_result",
          "data": {
            "text/html": [
              "<div>\n",
              "<style scoped>\n",
              "    .dataframe tbody tr th:only-of-type {\n",
              "        vertical-align: middle;\n",
              "    }\n",
              "\n",
              "    .dataframe tbody tr th {\n",
              "        vertical-align: top;\n",
              "    }\n",
              "\n",
              "    .dataframe thead th {\n",
              "        text-align: right;\n",
              "    }\n",
              "</style>\n",
              "<table border=\"1\" class=\"dataframe\">\n",
              "  <thead>\n",
              "    <tr style=\"text-align: right;\">\n",
              "      <th></th>\n",
              "      <th>Credit_given</th>\n",
              "      <th>Paymment_his_april</th>\n",
              "      <th>Paymment_his_may</th>\n",
              "      <th>Paymment_his_june</th>\n",
              "      <th>Paymment_his_july</th>\n",
              "      <th>Paymment_his_august</th>\n",
              "      <th>Paymment_his_sept</th>\n",
              "      <th>BILL_AMT_april</th>\n",
              "      <th>BILL_AMT_may</th>\n",
              "      <th>BILL_AMT_june</th>\n",
              "      <th>BILL_AMT_july</th>\n",
              "      <th>BILL_AMT_august</th>\n",
              "      <th>BILL_AMT_sept</th>\n",
              "      <th>PAY_AMT_april</th>\n",
              "      <th>PAY_AMT_may</th>\n",
              "      <th>PAY_AMT_june</th>\n",
              "      <th>PAY_AMT_july</th>\n",
              "      <th>PAY_AMT_august</th>\n",
              "      <th>PAY_AMT_sept</th>\n",
              "    </tr>\n",
              "  </thead>\n",
              "  <tbody>\n",
              "    <tr>\n",
              "      <th>0</th>\n",
              "      <td>20000.0</td>\n",
              "      <td>2.000000</td>\n",
              "      <td>2.000000</td>\n",
              "      <td>-1.000000</td>\n",
              "      <td>-1.000000</td>\n",
              "      <td>-2.0</td>\n",
              "      <td>-2.000000</td>\n",
              "      <td>3913.000000</td>\n",
              "      <td>3102.000000</td>\n",
              "      <td>689.000000</td>\n",
              "      <td>0.000000</td>\n",
              "      <td>0.000000</td>\n",
              "      <td>0.000000</td>\n",
              "      <td>0.000000</td>\n",
              "      <td>689.000000</td>\n",
              "      <td>0.000000</td>\n",
              "      <td>0.000000</td>\n",
              "      <td>0.000000</td>\n",
              "      <td>0.000000</td>\n",
              "    </tr>\n",
              "    <tr>\n",
              "      <th>1</th>\n",
              "      <td>120000.0</td>\n",
              "      <td>-1.000000</td>\n",
              "      <td>2.000000</td>\n",
              "      <td>0.000000</td>\n",
              "      <td>0.000000</td>\n",
              "      <td>0.0</td>\n",
              "      <td>2.000000</td>\n",
              "      <td>2682.000000</td>\n",
              "      <td>1725.000000</td>\n",
              "      <td>2682.000000</td>\n",
              "      <td>3272.000000</td>\n",
              "      <td>3455.000000</td>\n",
              "      <td>3261.000000</td>\n",
              "      <td>0.000000</td>\n",
              "      <td>1000.000000</td>\n",
              "      <td>1000.000000</td>\n",
              "      <td>1000.000000</td>\n",
              "      <td>0.000000</td>\n",
              "      <td>2000.000000</td>\n",
              "    </tr>\n",
              "    <tr>\n",
              "      <th>2</th>\n",
              "      <td>90000.0</td>\n",
              "      <td>0.000000</td>\n",
              "      <td>0.000000</td>\n",
              "      <td>0.000000</td>\n",
              "      <td>0.000000</td>\n",
              "      <td>0.0</td>\n",
              "      <td>0.000000</td>\n",
              "      <td>29239.000000</td>\n",
              "      <td>14027.000000</td>\n",
              "      <td>13559.000000</td>\n",
              "      <td>14331.000000</td>\n",
              "      <td>14948.000000</td>\n",
              "      <td>15549.000000</td>\n",
              "      <td>1518.000000</td>\n",
              "      <td>1500.000000</td>\n",
              "      <td>1000.000000</td>\n",
              "      <td>1000.000000</td>\n",
              "      <td>1000.000000</td>\n",
              "      <td>5000.000000</td>\n",
              "    </tr>\n",
              "    <tr>\n",
              "      <th>3</th>\n",
              "      <td>50000.0</td>\n",
              "      <td>0.000000</td>\n",
              "      <td>0.000000</td>\n",
              "      <td>0.000000</td>\n",
              "      <td>0.000000</td>\n",
              "      <td>0.0</td>\n",
              "      <td>0.000000</td>\n",
              "      <td>46990.000000</td>\n",
              "      <td>48233.000000</td>\n",
              "      <td>49291.000000</td>\n",
              "      <td>28314.000000</td>\n",
              "      <td>28959.000000</td>\n",
              "      <td>29547.000000</td>\n",
              "      <td>2000.000000</td>\n",
              "      <td>2019.000000</td>\n",
              "      <td>1200.000000</td>\n",
              "      <td>1100.000000</td>\n",
              "      <td>1069.000000</td>\n",
              "      <td>1000.000000</td>\n",
              "    </tr>\n",
              "    <tr>\n",
              "      <th>4</th>\n",
              "      <td>50000.0</td>\n",
              "      <td>-1.000000</td>\n",
              "      <td>0.000000</td>\n",
              "      <td>-1.000000</td>\n",
              "      <td>0.000000</td>\n",
              "      <td>0.0</td>\n",
              "      <td>0.000000</td>\n",
              "      <td>8617.000000</td>\n",
              "      <td>5670.000000</td>\n",
              "      <td>35835.000000</td>\n",
              "      <td>20940.000000</td>\n",
              "      <td>19146.000000</td>\n",
              "      <td>19131.000000</td>\n",
              "      <td>2000.000000</td>\n",
              "      <td>36681.000000</td>\n",
              "      <td>10000.000000</td>\n",
              "      <td>9000.000000</td>\n",
              "      <td>689.000000</td>\n",
              "      <td>679.000000</td>\n",
              "    </tr>\n",
              "    <tr>\n",
              "      <th>...</th>\n",
              "      <td>...</td>\n",
              "      <td>...</td>\n",
              "      <td>...</td>\n",
              "      <td>...</td>\n",
              "      <td>...</td>\n",
              "      <td>...</td>\n",
              "      <td>...</td>\n",
              "      <td>...</td>\n",
              "      <td>...</td>\n",
              "      <td>...</td>\n",
              "      <td>...</td>\n",
              "      <td>...</td>\n",
              "      <td>...</td>\n",
              "      <td>...</td>\n",
              "      <td>...</td>\n",
              "      <td>...</td>\n",
              "      <td>...</td>\n",
              "      <td>...</td>\n",
              "      <td>...</td>\n",
              "    </tr>\n",
              "    <tr>\n",
              "      <th>46723</th>\n",
              "      <td>500000.0</td>\n",
              "      <td>-1.000000</td>\n",
              "      <td>-1.000000</td>\n",
              "      <td>-1.097463</td>\n",
              "      <td>-0.097463</td>\n",
              "      <td>0.0</td>\n",
              "      <td>-0.902537</td>\n",
              "      <td>299.197723</td>\n",
              "      <td>566.013642</td>\n",
              "      <td>5676.179116</td>\n",
              "      <td>11482.951169</td>\n",
              "      <td>24408.638118</td>\n",
              "      <td>10111.252116</td>\n",
              "      <td>566.793345</td>\n",
              "      <td>5676.958819</td>\n",
              "      <td>6425.912554</td>\n",
              "      <td>14097.462827</td>\n",
              "      <td>8774.354519</td>\n",
              "      <td>714.389365</td>\n",
              "    </tr>\n",
              "    <tr>\n",
              "      <th>46724</th>\n",
              "      <td>30000.0</td>\n",
              "      <td>1.629738</td>\n",
              "      <td>1.086492</td>\n",
              "      <td>1.086492</td>\n",
              "      <td>0.000000</td>\n",
              "      <td>0.0</td>\n",
              "      <td>0.000000</td>\n",
              "      <td>30100.122404</td>\n",
              "      <td>30844.045669</td>\n",
              "      <td>29793.337142</td>\n",
              "      <td>30340.096120</td>\n",
              "      <td>29326.481049</td>\n",
              "      <td>29031.294329</td>\n",
              "      <td>1708.649186</td>\n",
              "      <td>685.131102</td>\n",
              "      <td>1154.324593</td>\n",
              "      <td>1024.207966</td>\n",
              "      <td>1171.150615</td>\n",
              "      <td>932.775506</td>\n",
              "    </tr>\n",
              "    <tr>\n",
              "      <th>46725</th>\n",
              "      <td>10000.0</td>\n",
              "      <td>1.922023</td>\n",
              "      <td>0.000000</td>\n",
              "      <td>0.000000</td>\n",
              "      <td>-1.000000</td>\n",
              "      <td>-1.0</td>\n",
              "      <td>-2.000000</td>\n",
              "      <td>8632.130663</td>\n",
              "      <td>9223.599563</td>\n",
              "      <td>9919.831442</td>\n",
              "      <td>537.825072</td>\n",
              "      <td>0.000000</td>\n",
              "      <td>0.000000</td>\n",
              "      <td>1259.911470</td>\n",
              "      <td>1275.974710</td>\n",
              "      <td>538.604839</td>\n",
              "      <td>0.000000</td>\n",
              "      <td>74.077923</td>\n",
              "      <td>0.000000</td>\n",
              "    </tr>\n",
              "    <tr>\n",
              "      <th>46726</th>\n",
              "      <td>130000.0</td>\n",
              "      <td>2.000000</td>\n",
              "      <td>2.707569</td>\n",
              "      <td>2.000000</td>\n",
              "      <td>2.000000</td>\n",
              "      <td>2.0</td>\n",
              "      <td>2.000000</td>\n",
              "      <td>19328.554787</td>\n",
              "      <td>19680.390335</td>\n",
              "      <td>19073.815785</td>\n",
              "      <td>21036.947576</td>\n",
              "      <td>20447.718247</td>\n",
              "      <td>22067.448712</td>\n",
              "      <td>870.275853</td>\n",
              "      <td>0.000000</td>\n",
              "      <td>2283.027439</td>\n",
              "      <td>0.000000</td>\n",
              "      <td>2000.000000</td>\n",
              "      <td>0.000000</td>\n",
              "    </tr>\n",
              "    <tr>\n",
              "      <th>46727</th>\n",
              "      <td>100000.0</td>\n",
              "      <td>0.814023</td>\n",
              "      <td>-1.000000</td>\n",
              "      <td>-1.000000</td>\n",
              "      <td>-0.092988</td>\n",
              "      <td>-1.0</td>\n",
              "      <td>-1.000000</td>\n",
              "      <td>112.980959</td>\n",
              "      <td>391.672714</td>\n",
              "      <td>686.451470</td>\n",
              "      <td>388.139153</td>\n",
              "      <td>736.733848</td>\n",
              "      <td>7047.269866</td>\n",
              "      <td>686.451470</td>\n",
              "      <td>686.451470</td>\n",
              "      <td>93.360397</td>\n",
              "      <td>740.267409</td>\n",
              "      <td>7047.269866</td>\n",
              "      <td>1580.711215</td>\n",
              "    </tr>\n",
              "  </tbody>\n",
              "</table>\n",
              "<p>46728 rows × 19 columns</p>\n",
              "</div>"
            ],
            "text/plain": [
              "       Credit_given  Paymment_his_april  ...  PAY_AMT_august  PAY_AMT_sept\n",
              "0           20000.0            2.000000  ...        0.000000      0.000000\n",
              "1          120000.0           -1.000000  ...        0.000000   2000.000000\n",
              "2           90000.0            0.000000  ...     1000.000000   5000.000000\n",
              "3           50000.0            0.000000  ...     1069.000000   1000.000000\n",
              "4           50000.0           -1.000000  ...      689.000000    679.000000\n",
              "...             ...                 ...  ...             ...           ...\n",
              "46723      500000.0           -1.000000  ...     8774.354519    714.389365\n",
              "46724       30000.0            1.629738  ...     1171.150615    932.775506\n",
              "46725       10000.0            1.922023  ...       74.077923      0.000000\n",
              "46726      130000.0            2.000000  ...     2000.000000      0.000000\n",
              "46727      100000.0            0.814023  ...     7047.269866   1580.711215\n",
              "\n",
              "[46728 rows x 19 columns]"
            ]
          },
          "metadata": {},
          "execution_count": 249
        }
      ]
    },
    {
      "cell_type": "code",
      "metadata": {
        "id": "UUjv-95tQVY3"
      },
      "source": [
        "target_y=resampled_df['Next_month_default'].astype('int')"
      ],
      "execution_count": null,
      "outputs": []
    },
    {
      "cell_type": "code",
      "metadata": {
        "id": "5l07vPS3QcAT"
      },
      "source": [
        "#train-test split\n",
        "from sklearn.model_selection import train_test_split\n",
        "X_train, X_test, y_train, y_test = train_test_split(feature_x, target_y, test_size=0.2, random_state=10)"
      ],
      "execution_count": null,
      "outputs": []
    },
    {
      "cell_type": "code",
      "metadata": {
        "colab": {
          "base_uri": "https://localhost:8080/"
        },
        "id": "isMwtw7-KFiE",
        "outputId": "0092786c-3e8a-48cd-a3cc-e61b72e10ff0"
      },
      "source": [
        "from sklearn.ensemble import RandomForestClassifier\n",
        "from sklearn.metrics import classification_report, accuracy_score, precision_score, recall_score, f1_score\n",
        "rand_frst=RandomForestClassifier(random_state=10)\n",
        "rand_frst.fit(X_train,y_train)\n",
        "\n",
        "test_accuracy_RF = rand_frst.predict(X_test)\n",
        "accuracy_score_rf=accuracy_score(y_test, test_accuracy_RF)\n",
        "precision_score_rf=precision_score(y_test, test_accuracy_RF,average='weighted')\n",
        "recall_score_rf=recall_score(y_test, test_accuracy_RF,average='weighted')\n",
        "f1_rf=f1_score(y_test,test_accuracy_RF,average='weighted')\n",
        "print(\"accuracy:\", accuracy_score_rf)\n",
        "print(\"Precision:\", precision_score_rf)\n",
        "print(\"Recall:\", recall_score_rf)\n",
        "print('f1_score:',f1_rf)"
      ],
      "execution_count": null,
      "outputs": [
        {
          "output_type": "stream",
          "name": "stdout",
          "text": [
            "accuracy: 0.8613310507168842\n",
            "Precision: 0.8648890078332792\n",
            "Recall: 0.8613310507168842\n",
            "f1_score: 0.8610060758721777\n"
          ]
        }
      ]
    },
    {
      "cell_type": "code",
      "metadata": {
        "colab": {
          "base_uri": "https://localhost:8080/"
        },
        "id": "7mfAjdJrgES_",
        "outputId": "3c55a982-b6ed-491a-92ec-9acf1d01e01c"
      },
      "source": [
        "\n",
        "train_accuracy_RF = rand_frst.predict(X_train)\n",
        "accuracy_score_rf=accuracy_score(y_train, train_accuracy_RF)\n",
        "precision_score_rf=precision_score(y_train, train_accuracy_RF,average='weighted')\n",
        "recall_score_rf=recall_score(y_train, train_accuracy_RF,average='weighted')\n",
        "f1_rf=f1_score(y_train,train_accuracy_RF,average='weighted')\n",
        "print(\"accuracy:\", accuracy_score_rf)\n",
        "print(\"Precision:\", precision_score_rf)\n",
        "print(\"Recall:\", recall_score_rf)\n",
        "print('f1_score:',f1_rf)"
      ],
      "execution_count": null,
      "outputs": [
        {
          "output_type": "stream",
          "name": "stdout",
          "text": [
            "accuracy: 0.9925097640575679\n",
            "Precision: 0.9925097693536246\n",
            "Recall: 0.9925097640575679\n",
            "f1_score: 0.9925097638646052\n"
          ]
        }
      ]
    },
    {
      "cell_type": "code",
      "metadata": {
        "colab": {
          "base_uri": "https://localhost:8080/"
        },
        "id": "oMUhApuPQ0QN",
        "outputId": "7d743373-b8c5-4a9d-a173-31c68f345105"
      },
      "source": [
        "print(\"Accuracy of Random Forest classifier for test dataset is\",(accuracy_score(test_accuracy_RF, y_test)*100),\"%\")\n",
        "print(\"Accuracy of Random Forest classifier for train dataset is\",(accuracy_score(train_accuracy_RF, y_train)*100),\"%\")"
      ],
      "execution_count": null,
      "outputs": [
        {
          "output_type": "stream",
          "name": "stdout",
          "text": [
            "Accuracy of Random Forest classifier for test dataset is 86.13310507168842 %\n",
            "Accuracy of Random Forest classifier for train dataset is 99.25097640575679 %\n"
          ]
        }
      ]
    },
    {
      "cell_type": "code",
      "metadata": {
        "id": "QVYfzCu_sNVM"
      },
      "source": [
        "precison_score_RF = precision_score(test_accuracy_RF,y_test)\n",
        "recall_score_RF = recall_score(test_accuracy_RF,y_test)\n",
        "f1_score_RF= f1_score(test_accuracy_RF,y_test)"
      ],
      "execution_count": null,
      "outputs": []
    },
    {
      "cell_type": "markdown",
      "metadata": {
        "id": "wkhiD1fGRbLV"
      },
      "source": [
        "random Forest Using GRIDSEARCH CV"
      ]
    },
    {
      "cell_type": "code",
      "metadata": {
        "colab": {
          "base_uri": "https://localhost:8080/"
        },
        "id": "y-AmHeeTRS3z",
        "outputId": "9ca26789-3bf3-482d-f7aa-0957e03d7a0f"
      },
      "source": [
        "from sklearn.ensemble import RandomForestClassifier\n",
        "from sklearn.model_selection import learning_curve, GridSearchCV\n",
        "#Random Forest classifier\n",
        "forest = RandomForestClassifier()           \n",
        "# n_estimators = number of trees in the foreset\n",
        "n_estimators = [500]    \n",
        "\n",
        "# max_features = max number of features considered for splitting a node:\n",
        "# If “auto”, then max_features=sqrt(n_features).\n",
        "# If “sqrt”, then max_features=sqrt(n_features) (same as “auto”).\n",
        "# # If “log2”, then max_features=log2(n_features).\n",
        "max_features = [\"auto\",'sqrt','log2']\n",
        "\n",
        "#applying grisd search on forest:\n",
        "# Specify the grid serach params\n",
        "grid_search_forest = {'n_estimators' : n_estimators, 'max_features' : max_features}\n",
        "#grid search\n",
        "rand_search_forest = GridSearchCV(forest, grid_search_forest, cv = 4, \n",
        "                                         refit = True, n_jobs = -1, verbose=2)\n",
        "\n",
        "rand_search_forest.fit(X_train, y_train)\n"
      ],
      "execution_count": null,
      "outputs": [
        {
          "output_type": "stream",
          "name": "stdout",
          "text": [
            "Fitting 4 folds for each of 3 candidates, totalling 12 fits\n"
          ]
        },
        {
          "output_type": "stream",
          "name": "stderr",
          "text": [
            "[Parallel(n_jobs=-1)]: Using backend LokyBackend with 2 concurrent workers.\n",
            "[Parallel(n_jobs=-1)]: Done  12 out of  12 | elapsed:  6.4min finished\n"
          ]
        },
        {
          "output_type": "execute_result",
          "data": {
            "text/plain": [
              "GridSearchCV(cv=4, error_score=nan,\n",
              "             estimator=RandomForestClassifier(bootstrap=True, ccp_alpha=0.0,\n",
              "                                              class_weight=None,\n",
              "                                              criterion='gini', max_depth=None,\n",
              "                                              max_features='auto',\n",
              "                                              max_leaf_nodes=None,\n",
              "                                              max_samples=None,\n",
              "                                              min_impurity_decrease=0.0,\n",
              "                                              min_impurity_split=None,\n",
              "                                              min_samples_leaf=1,\n",
              "                                              min_samples_split=2,\n",
              "                                              min_weight_fraction_leaf=0.0,\n",
              "                                              n_estimators=100, n_jobs=None,\n",
              "                                              oob_score=False,\n",
              "                                              random_state=None, verbose=0,\n",
              "                                              warm_start=False),\n",
              "             iid='deprecated', n_jobs=-1,\n",
              "             param_grid={'max_features': ['auto', 'sqrt', 'log2'],\n",
              "                         'n_estimators': [500]},\n",
              "             pre_dispatch='2*n_jobs', refit=True, return_train_score=False,\n",
              "             scoring=None, verbose=2)"
            ]
          },
          "metadata": {},
          "execution_count": 256
        }
      ]
    },
    {
      "cell_type": "code",
      "metadata": {
        "id": "KbvXp1HmUX7y"
      },
      "source": [
        "random_estimator = rand_search_forest.best_estimator_\n",
        "\n",
        "y_pred_train= random_estimator.predict(X_train)"
      ],
      "execution_count": null,
      "outputs": []
    },
    {
      "cell_type": "code",
      "metadata": {
        "colab": {
          "base_uri": "https://localhost:8080/"
        },
        "id": "tEvfwKuIUpUZ",
        "outputId": "baac321f-aa46-48c7-d860-e1fdbf334586"
      },
      "source": [
        "test_accuracy_RF_GS = rand_search_forest.predict(X_test)\n",
        "accuracy_rf=accuracy_score(y_test, test_accuracy_RF_GS)\n",
        "precision_rf=precision_score(y_test, test_accuracy_RF_GS,average='weighted')\n",
        "recall_rf=recall_score(y_test, test_accuracy_RF_GS,average='weighted')\n",
        "f1_rf=f1_score(y_test,test_accuracy_RF_GS,average='weighted')\n",
        "print(\"accuracy:\", accuracy_rf)\n",
        "print(\"Precision:\", precision_rf)\n",
        "print(\"Recall:\", recall_rf)\n",
        "print('f1_score:',f1_rf)\n"
      ],
      "execution_count": null,
      "outputs": [
        {
          "output_type": "stream",
          "name": "stdout",
          "text": [
            "accuracy: 0.8637919965760753\n",
            "Precision: 0.8674841722064514\n",
            "Recall: 0.8637919965760753\n",
            "f1_score: 0.863462798727\n"
          ]
        }
      ]
    },
    {
      "cell_type": "code",
      "metadata": {
        "colab": {
          "base_uri": "https://localhost:8080/"
        },
        "id": "Pj5WTIbohXpH",
        "outputId": "eea1b1bf-797b-406b-b2b1-278ea7951723"
      },
      "source": [
        "train_accuracy_RF_GS = rand_search_forest.predict(X_train)\n",
        "accuracy_rf=accuracy_score(y_train, train_accuracy_RF_GS)\n",
        "precision_rf=precision_score(y_train, train_accuracy_RF_GS,average='weighted')\n",
        "recall_rf=recall_score(y_train, train_accuracy_RF_GS,average='weighted')\n",
        "f1_rf=f1_score(y_train,train_accuracy_RF_GS,average='weighted')\n",
        "print(\"accuracy:\", accuracy_rf)\n",
        "print(\"Precision:\", precision_rf)\n",
        "print(\"Recall:\", recall_rf)\n",
        "print('f1_score:',f1_rf)"
      ],
      "execution_count": null,
      "outputs": [
        {
          "output_type": "stream",
          "name": "stdout",
          "text": [
            "accuracy: 0.9925097640575679\n",
            "Precision: 0.9925112021849267\n",
            "Recall: 0.9925097640575679\n",
            "f1_score: 0.9925097558244872\n"
          ]
        }
      ]
    },
    {
      "cell_type": "code",
      "metadata": {
        "colab": {
          "base_uri": "https://localhost:8080/"
        },
        "id": "a3SmI3oIU2fp",
        "outputId": "8e1d2a05-5d7b-4032-d111-50b32ec884da"
      },
      "source": [
        "print(\"Accuracy of Random Forest classifier with GRIDSEARCH CV for test dataset is\",(accuracy_score(test_accuracy_RF_GS, y_test)*100),\"%\")\n",
        "print(\"Accuracy of Random Forest classifier with GRIDSEARCH CV for train dataset is\",(accuracy_score(train_accuracy_RF_GS, y_train)*100),\"%\")"
      ],
      "execution_count": null,
      "outputs": [
        {
          "output_type": "stream",
          "name": "stdout",
          "text": [
            "Accuracy of Random Forest classifier with GRIDSEARCH CV for test dataset is 86.37919965760753 %\n",
            "Accuracy of Random Forest classifier with GRIDSEARCH CV for train dataset is 99.25097640575679 %\n"
          ]
        }
      ]
    },
    {
      "cell_type": "code",
      "metadata": {
        "id": "ctDAmnt0r23s"
      },
      "source": [
        "precison_score_RF_GS = precision_score(test_accuracy_RF_GS,y_test)\n",
        "recall_score_RF_GS = recall_score(test_accuracy_RF_GS,y_test)\n",
        "f1_score_RF_GS = f1_score(test_accuracy_RF_GS,y_test)"
      ],
      "execution_count": null,
      "outputs": []
    },
    {
      "cell_type": "markdown",
      "metadata": {
        "id": "fbI40YexVf_C"
      },
      "source": [
        "Gradient Boosting"
      ]
    },
    {
      "cell_type": "code",
      "metadata": {
        "id": "GGJmga_FVP33",
        "colab": {
          "base_uri": "https://localhost:8080/"
        },
        "outputId": "b965e478-00d9-407a-cfcf-88bc800f699a"
      },
      "source": [
        "from sklearn.ensemble import GradientBoostingClassifier\n",
        "GB=GradientBoostingClassifier(random_state=10)\n",
        "GB.fit(X_train,y_train)\n",
        "\n",
        "test_accuracy_GB = GB.predict(X_test)\n",
        "accuracy_gb=accuracy_score(y_test, \n",
        "test_accuracy_GB)\n",
        "precision_gb=precision_score(y_test, \n",
        "test_accuracy_GB,average='weighted')\n",
        "recall_gb=recall_score(y_test, \n",
        "test_accuracy_GB,average='weighted')\n",
        "f1_gb=f1_score(y_test,\n",
        "test_accuracy_GB,average='weighted')\n",
        "print(\"accuracy:\", accuracy_gb)\n",
        "print(\"Precision:\", precision_gb)\n",
        "print(\"Recall:\", recall_gb)\n",
        "print('f1_score:',f1_gb)"
      ],
      "execution_count": null,
      "outputs": [
        {
          "output_type": "stream",
          "name": "stdout",
          "text": [
            "accuracy: 0.8413224909052001\n",
            "Precision: 0.8514320238035639\n",
            "Recall: 0.8413224909052001\n",
            "f1_score: 0.840201147481559\n"
          ]
        }
      ]
    },
    {
      "cell_type": "code",
      "metadata": {
        "id": "4P1Za3vth9te",
        "colab": {
          "base_uri": "https://localhost:8080/"
        },
        "outputId": "68bdcad6-e0bc-4b09-cba9-843afb8cf82a"
      },
      "source": [
        "train_accuracy_GB = GB.predict(X_train)\n",
        "accuracy_gb=accuracy_score(y_train, \n",
        "train_accuracy_GB)\n",
        "precision_gb=precision_score(y_train, \n",
        "train_accuracy_GB,average='weighted')\n",
        "recall_gb=recall_score(y_train, \n",
        "train_accuracy_GB,average='weighted')\n",
        "f1_gb=f1_score(y_train,\n",
        "train_accuracy_GB,average='weighted')\n",
        "print(\"accuracy:\", accuracy_gb)\n",
        "print(\"Precision:\", precision_gb)\n",
        "print(\"Recall:\", recall_gb)\n",
        "print('f1_score:',f1_gb)"
      ],
      "execution_count": null,
      "outputs": [
        {
          "output_type": "stream",
          "name": "stdout",
          "text": [
            "accuracy: 0.8468514258199134\n",
            "Precision: 0.8566592425255941\n",
            "Recall: 0.8468514258199134\n",
            "f1_score: 0.8457846909531389\n"
          ]
        }
      ]
    },
    {
      "cell_type": "code",
      "metadata": {
        "id": "mvXCqvisiBdF",
        "colab": {
          "base_uri": "https://localhost:8080/"
        },
        "outputId": "9d4a41fd-cd6c-4966-891f-78aea360e0a2"
      },
      "source": [
        "print(\"Accuracy of Gradient Boost  for test dataset is\",(accuracy_score(test_accuracy_GB, y_test)*100),\"%\")\n",
        "print(\"Accuracy of Gradient Boost  for train dataset is\",(accuracy_score(train_accuracy_GB, y_train)*100),\"%\")"
      ],
      "execution_count": null,
      "outputs": [
        {
          "output_type": "stream",
          "name": "stdout",
          "text": [
            "Accuracy of Gradient Boost  for test dataset is 84.13224909052 %\n",
            "Accuracy of Gradient Boost  for train dataset is 84.68514258199133 %\n"
          ]
        }
      ]
    },
    {
      "cell_type": "code",
      "metadata": {
        "id": "Wb0VlU-Gjqa8"
      },
      "source": [
        "from sklearn.metrics import classification_report, accuracy_score, precision_score, recall_score, f1_score\n",
        "train_accuracy_GB = accuracy_score(train_accuracy_GB,y_train)\n",
        "test_accuracy_GB = accuracy_score(test_accuracy_GB,y_test)"
      ],
      "execution_count": null,
      "outputs": []
    },
    {
      "cell_type": "code",
      "metadata": {
        "id": "eQ9-Gj6BroZ0",
        "colab": {
          "base_uri": "https://localhost:8080/",
          "height": 340
        },
        "outputId": "251dc653-0a73-4736-e4ac-d54965a00187"
      },
      "source": [
        "precison_score_GB = precision_score(test_accuracy_GB,y_test)\n",
        "recall_score_GB = recall_score(test_accuracy_GB,y_test)\n",
        "f1_score_GB = f1_score(test_accuracy_GB,y_test)"
      ],
      "execution_count": null,
      "outputs": [
        {
          "output_type": "error",
          "ename": "TypeError",
          "evalue": "ignored",
          "traceback": [
            "\u001b[0;31m---------------------------------------------------------------------------\u001b[0m",
            "\u001b[0;31mTypeError\u001b[0m                                 Traceback (most recent call last)",
            "\u001b[0;32m<ipython-input-266-7ccb3e384266>\u001b[0m in \u001b[0;36m<module>\u001b[0;34m()\u001b[0m\n\u001b[0;32m----> 1\u001b[0;31m \u001b[0mprecison_score_GB\u001b[0m \u001b[0;34m=\u001b[0m \u001b[0mprecision_score\u001b[0m\u001b[0;34m(\u001b[0m\u001b[0mtest_accuracy_GB\u001b[0m\u001b[0;34m,\u001b[0m\u001b[0my_test\u001b[0m\u001b[0;34m)\u001b[0m\u001b[0;34m\u001b[0m\u001b[0;34m\u001b[0m\u001b[0m\n\u001b[0m\u001b[1;32m      2\u001b[0m \u001b[0mrecall_score_GB\u001b[0m \u001b[0;34m=\u001b[0m \u001b[0mrecall_score\u001b[0m\u001b[0;34m(\u001b[0m\u001b[0mtest_accuracy_GB\u001b[0m\u001b[0;34m,\u001b[0m\u001b[0my_test\u001b[0m\u001b[0;34m)\u001b[0m\u001b[0;34m\u001b[0m\u001b[0;34m\u001b[0m\u001b[0m\n\u001b[1;32m      3\u001b[0m \u001b[0mf1_score_GB\u001b[0m \u001b[0;34m=\u001b[0m \u001b[0mf1_score\u001b[0m\u001b[0;34m(\u001b[0m\u001b[0mtest_accuracy_GB\u001b[0m\u001b[0;34m,\u001b[0m\u001b[0my_test\u001b[0m\u001b[0;34m)\u001b[0m\u001b[0;34m\u001b[0m\u001b[0;34m\u001b[0m\u001b[0m\n",
            "\u001b[0;32m/usr/local/lib/python3.7/dist-packages/sklearn/metrics/_classification.py\u001b[0m in \u001b[0;36mprecision_score\u001b[0;34m(y_true, y_pred, labels, pos_label, average, sample_weight, zero_division)\u001b[0m\n\u001b[1;32m   1670\u001b[0m                                                  \u001b[0mwarn_for\u001b[0m\u001b[0;34m=\u001b[0m\u001b[0;34m(\u001b[0m\u001b[0;34m'precision'\u001b[0m\u001b[0;34m,\u001b[0m\u001b[0;34m)\u001b[0m\u001b[0;34m,\u001b[0m\u001b[0;34m\u001b[0m\u001b[0;34m\u001b[0m\u001b[0m\n\u001b[1;32m   1671\u001b[0m                                                  \u001b[0msample_weight\u001b[0m\u001b[0;34m=\u001b[0m\u001b[0msample_weight\u001b[0m\u001b[0;34m,\u001b[0m\u001b[0;34m\u001b[0m\u001b[0;34m\u001b[0m\u001b[0m\n\u001b[0;32m-> 1672\u001b[0;31m                                                  zero_division=zero_division)\n\u001b[0m\u001b[1;32m   1673\u001b[0m     \u001b[0;32mreturn\u001b[0m \u001b[0mp\u001b[0m\u001b[0;34m\u001b[0m\u001b[0;34m\u001b[0m\u001b[0m\n\u001b[1;32m   1674\u001b[0m \u001b[0;34m\u001b[0m\u001b[0m\n",
            "\u001b[0;32m/usr/local/lib/python3.7/dist-packages/sklearn/metrics/_classification.py\u001b[0m in \u001b[0;36mprecision_recall_fscore_support\u001b[0;34m(y_true, y_pred, beta, labels, pos_label, average, warn_for, sample_weight, zero_division)\u001b[0m\n\u001b[1;32m   1482\u001b[0m         \u001b[0;32mraise\u001b[0m \u001b[0mValueError\u001b[0m\u001b[0;34m(\u001b[0m\u001b[0;34m\"beta should be >=0 in the F-beta score\"\u001b[0m\u001b[0;34m)\u001b[0m\u001b[0;34m\u001b[0m\u001b[0;34m\u001b[0m\u001b[0m\n\u001b[1;32m   1483\u001b[0m     labels = _check_set_wise_labels(y_true, y_pred, average, labels,\n\u001b[0;32m-> 1484\u001b[0;31m                                     pos_label)\n\u001b[0m\u001b[1;32m   1485\u001b[0m \u001b[0;34m\u001b[0m\u001b[0m\n\u001b[1;32m   1486\u001b[0m     \u001b[0;31m# Calculate tp_sum, pred_sum, true_sum ###\u001b[0m\u001b[0;34m\u001b[0m\u001b[0;34m\u001b[0m\u001b[0;34m\u001b[0m\u001b[0m\n",
            "\u001b[0;32m/usr/local/lib/python3.7/dist-packages/sklearn/metrics/_classification.py\u001b[0m in \u001b[0;36m_check_set_wise_labels\u001b[0;34m(y_true, y_pred, average, labels, pos_label)\u001b[0m\n\u001b[1;32m   1299\u001b[0m                          str(average_options))\n\u001b[1;32m   1300\u001b[0m \u001b[0;34m\u001b[0m\u001b[0m\n\u001b[0;32m-> 1301\u001b[0;31m     \u001b[0my_type\u001b[0m\u001b[0;34m,\u001b[0m \u001b[0my_true\u001b[0m\u001b[0;34m,\u001b[0m \u001b[0my_pred\u001b[0m \u001b[0;34m=\u001b[0m \u001b[0m_check_targets\u001b[0m\u001b[0;34m(\u001b[0m\u001b[0my_true\u001b[0m\u001b[0;34m,\u001b[0m \u001b[0my_pred\u001b[0m\u001b[0;34m)\u001b[0m\u001b[0;34m\u001b[0m\u001b[0;34m\u001b[0m\u001b[0m\n\u001b[0m\u001b[1;32m   1302\u001b[0m     \u001b[0mpresent_labels\u001b[0m \u001b[0;34m=\u001b[0m \u001b[0munique_labels\u001b[0m\u001b[0;34m(\u001b[0m\u001b[0my_true\u001b[0m\u001b[0;34m,\u001b[0m \u001b[0my_pred\u001b[0m\u001b[0;34m)\u001b[0m\u001b[0;34m\u001b[0m\u001b[0;34m\u001b[0m\u001b[0m\n\u001b[1;32m   1303\u001b[0m     \u001b[0;32mif\u001b[0m \u001b[0maverage\u001b[0m \u001b[0;34m==\u001b[0m \u001b[0;34m'binary'\u001b[0m\u001b[0;34m:\u001b[0m\u001b[0;34m\u001b[0m\u001b[0;34m\u001b[0m\u001b[0m\n",
            "\u001b[0;32m/usr/local/lib/python3.7/dist-packages/sklearn/metrics/_classification.py\u001b[0m in \u001b[0;36m_check_targets\u001b[0;34m(y_true, y_pred)\u001b[0m\n\u001b[1;32m     78\u001b[0m     \u001b[0my_pred\u001b[0m \u001b[0;34m:\u001b[0m \u001b[0marray\u001b[0m \u001b[0;32mor\u001b[0m \u001b[0mindicator\u001b[0m \u001b[0mmatrix\u001b[0m\u001b[0;34m\u001b[0m\u001b[0;34m\u001b[0m\u001b[0m\n\u001b[1;32m     79\u001b[0m     \"\"\"\n\u001b[0;32m---> 80\u001b[0;31m     \u001b[0mcheck_consistent_length\u001b[0m\u001b[0;34m(\u001b[0m\u001b[0my_true\u001b[0m\u001b[0;34m,\u001b[0m \u001b[0my_pred\u001b[0m\u001b[0;34m)\u001b[0m\u001b[0;34m\u001b[0m\u001b[0;34m\u001b[0m\u001b[0m\n\u001b[0m\u001b[1;32m     81\u001b[0m     \u001b[0mtype_true\u001b[0m \u001b[0;34m=\u001b[0m \u001b[0mtype_of_target\u001b[0m\u001b[0;34m(\u001b[0m\u001b[0my_true\u001b[0m\u001b[0;34m)\u001b[0m\u001b[0;34m\u001b[0m\u001b[0;34m\u001b[0m\u001b[0m\n\u001b[1;32m     82\u001b[0m     \u001b[0mtype_pred\u001b[0m \u001b[0;34m=\u001b[0m \u001b[0mtype_of_target\u001b[0m\u001b[0;34m(\u001b[0m\u001b[0my_pred\u001b[0m\u001b[0;34m)\u001b[0m\u001b[0;34m\u001b[0m\u001b[0;34m\u001b[0m\u001b[0m\n",
            "\u001b[0;32m/usr/local/lib/python3.7/dist-packages/sklearn/utils/validation.py\u001b[0m in \u001b[0;36mcheck_consistent_length\u001b[0;34m(*arrays)\u001b[0m\n\u001b[1;32m    206\u001b[0m     \"\"\"\n\u001b[1;32m    207\u001b[0m \u001b[0;34m\u001b[0m\u001b[0m\n\u001b[0;32m--> 208\u001b[0;31m     \u001b[0mlengths\u001b[0m \u001b[0;34m=\u001b[0m \u001b[0;34m[\u001b[0m\u001b[0m_num_samples\u001b[0m\u001b[0;34m(\u001b[0m\u001b[0mX\u001b[0m\u001b[0;34m)\u001b[0m \u001b[0;32mfor\u001b[0m \u001b[0mX\u001b[0m \u001b[0;32min\u001b[0m \u001b[0marrays\u001b[0m \u001b[0;32mif\u001b[0m \u001b[0mX\u001b[0m \u001b[0;32mis\u001b[0m \u001b[0;32mnot\u001b[0m \u001b[0;32mNone\u001b[0m\u001b[0;34m]\u001b[0m\u001b[0;34m\u001b[0m\u001b[0;34m\u001b[0m\u001b[0m\n\u001b[0m\u001b[1;32m    209\u001b[0m     \u001b[0muniques\u001b[0m \u001b[0;34m=\u001b[0m \u001b[0mnp\u001b[0m\u001b[0;34m.\u001b[0m\u001b[0munique\u001b[0m\u001b[0;34m(\u001b[0m\u001b[0mlengths\u001b[0m\u001b[0;34m)\u001b[0m\u001b[0;34m\u001b[0m\u001b[0;34m\u001b[0m\u001b[0m\n\u001b[1;32m    210\u001b[0m     \u001b[0;32mif\u001b[0m \u001b[0mlen\u001b[0m\u001b[0;34m(\u001b[0m\u001b[0muniques\u001b[0m\u001b[0;34m)\u001b[0m \u001b[0;34m>\u001b[0m \u001b[0;36m1\u001b[0m\u001b[0;34m:\u001b[0m\u001b[0;34m\u001b[0m\u001b[0;34m\u001b[0m\u001b[0m\n",
            "\u001b[0;32m/usr/local/lib/python3.7/dist-packages/sklearn/utils/validation.py\u001b[0m in \u001b[0;36m<listcomp>\u001b[0;34m(.0)\u001b[0m\n\u001b[1;32m    206\u001b[0m     \"\"\"\n\u001b[1;32m    207\u001b[0m \u001b[0;34m\u001b[0m\u001b[0m\n\u001b[0;32m--> 208\u001b[0;31m     \u001b[0mlengths\u001b[0m \u001b[0;34m=\u001b[0m \u001b[0;34m[\u001b[0m\u001b[0m_num_samples\u001b[0m\u001b[0;34m(\u001b[0m\u001b[0mX\u001b[0m\u001b[0;34m)\u001b[0m \u001b[0;32mfor\u001b[0m \u001b[0mX\u001b[0m \u001b[0;32min\u001b[0m \u001b[0marrays\u001b[0m \u001b[0;32mif\u001b[0m \u001b[0mX\u001b[0m \u001b[0;32mis\u001b[0m \u001b[0;32mnot\u001b[0m \u001b[0;32mNone\u001b[0m\u001b[0;34m]\u001b[0m\u001b[0;34m\u001b[0m\u001b[0;34m\u001b[0m\u001b[0m\n\u001b[0m\u001b[1;32m    209\u001b[0m     \u001b[0muniques\u001b[0m \u001b[0;34m=\u001b[0m \u001b[0mnp\u001b[0m\u001b[0;34m.\u001b[0m\u001b[0munique\u001b[0m\u001b[0;34m(\u001b[0m\u001b[0mlengths\u001b[0m\u001b[0;34m)\u001b[0m\u001b[0;34m\u001b[0m\u001b[0;34m\u001b[0m\u001b[0m\n\u001b[1;32m    210\u001b[0m     \u001b[0;32mif\u001b[0m \u001b[0mlen\u001b[0m\u001b[0;34m(\u001b[0m\u001b[0muniques\u001b[0m\u001b[0;34m)\u001b[0m \u001b[0;34m>\u001b[0m \u001b[0;36m1\u001b[0m\u001b[0;34m:\u001b[0m\u001b[0;34m\u001b[0m\u001b[0;34m\u001b[0m\u001b[0m\n",
            "\u001b[0;32m/usr/local/lib/python3.7/dist-packages/sklearn/utils/validation.py\u001b[0m in \u001b[0;36m_num_samples\u001b[0;34m(x)\u001b[0m\n\u001b[1;32m    150\u001b[0m         \u001b[0;32mif\u001b[0m \u001b[0mlen\u001b[0m\u001b[0;34m(\u001b[0m\u001b[0mx\u001b[0m\u001b[0;34m.\u001b[0m\u001b[0mshape\u001b[0m\u001b[0;34m)\u001b[0m \u001b[0;34m==\u001b[0m \u001b[0;36m0\u001b[0m\u001b[0;34m:\u001b[0m\u001b[0;34m\u001b[0m\u001b[0;34m\u001b[0m\u001b[0m\n\u001b[1;32m    151\u001b[0m             raise TypeError(\"Singleton array %r cannot be considered\"\n\u001b[0;32m--> 152\u001b[0;31m                             \" a valid collection.\" % x)\n\u001b[0m\u001b[1;32m    153\u001b[0m         \u001b[0;31m# Check that shape is returning an integer or default to len\u001b[0m\u001b[0;34m\u001b[0m\u001b[0;34m\u001b[0m\u001b[0;34m\u001b[0m\u001b[0m\n\u001b[1;32m    154\u001b[0m         \u001b[0;31m# Dask dataframes may not return numeric shape[0] value\u001b[0m\u001b[0;34m\u001b[0m\u001b[0;34m\u001b[0m\u001b[0;34m\u001b[0m\u001b[0m\n",
            "\u001b[0;31mTypeError\u001b[0m: Singleton array 0.8413224909052001 cannot be considered a valid collection."
          ]
        }
      ]
    },
    {
      "cell_type": "markdown",
      "metadata": {
        "id": "YeLDHOUIVuvW"
      },
      "source": [
        "Gradient Boosting with GridSearch CV"
      ]
    },
    {
      "cell_type": "code",
      "metadata": {
        "id": "4M78bD32Vs_K",
        "colab": {
          "base_uri": "https://localhost:8080/"
        },
        "outputId": "961a10b7-8852-4c48-80aa-5a474b86b49c"
      },
      "source": [
        "parameters_boost ={'n_estimators' :[15,25,50],\n",
        "             'min_samples_split' :[3,10,15]\n",
        "}\n",
        "\n",
        "Gradient_Boost = GridSearchCV(GradientBoostingClassifier(random_state=10), cv=10, param_grid=parameters_boost, scoring='accuracy')\n",
        "Gradient_Boost.fit(X_train,y_train)"
      ],
      "execution_count": null,
      "outputs": [
        {
          "output_type": "execute_result",
          "data": {
            "text/plain": [
              "GridSearchCV(cv=10, error_score=nan,\n",
              "             estimator=GradientBoostingClassifier(ccp_alpha=0.0,\n",
              "                                                  criterion='friedman_mse',\n",
              "                                                  init=None, learning_rate=0.1,\n",
              "                                                  loss='deviance', max_depth=3,\n",
              "                                                  max_features=None,\n",
              "                                                  max_leaf_nodes=None,\n",
              "                                                  min_impurity_decrease=0.0,\n",
              "                                                  min_impurity_split=None,\n",
              "                                                  min_samples_leaf=1,\n",
              "                                                  min_samples_split=2,\n",
              "                                                  min_weight_fraction_leaf=0.0,\n",
              "                                                  n_estimators=100,\n",
              "                                                  n_iter_no_change=None,\n",
              "                                                  presort='deprecated',\n",
              "                                                  random_state=10,\n",
              "                                                  subsample=1.0, tol=0.0001,\n",
              "                                                  validation_fraction=0.1,\n",
              "                                                  verbose=0, warm_start=False),\n",
              "             iid='deprecated', n_jobs=None,\n",
              "             param_grid={'min_samples_split': [3, 10, 15],\n",
              "                         'n_estimators': [15, 25, 50]},\n",
              "             pre_dispatch='2*n_jobs', refit=True, return_train_score=False,\n",
              "             scoring='accuracy', verbose=0)"
            ]
          },
          "metadata": {},
          "execution_count": 267
        }
      ]
    },
    {
      "cell_type": "code",
      "metadata": {
        "id": "fBdjxF0fiwlQ",
        "colab": {
          "base_uri": "https://localhost:8080/"
        },
        "outputId": "359eedb4-c1a8-4aaa-ad2d-8bbe82a79dda"
      },
      "source": [
        "train_accuracy_GB_GS = Gradient_Boost.predict(X_train)\n",
        "accuracy_gb=accuracy_score(y_train, train_accuracy_GB_GS)\n",
        "precision_gb=precision_score(y_train, train_accuracy_GB_GS,average='weighted')\n",
        "recall_gb=recall_score(y_train, train_accuracy_GB_GS,average='weighted')\n",
        "f1_gb=f1_score(y_train,train_accuracy_GB_GS,average='weighted')\n",
        "print(\"accuracy:\", accuracy_gb)\n",
        "print(\"Precision:\", precision_gb)\n",
        "print(\"Recall:\", recall_gb)\n",
        "print('f1_score:',f1_gb)"
      ],
      "execution_count": null,
      "outputs": [
        {
          "output_type": "stream",
          "name": "stdout",
          "text": [
            "accuracy: 0.8295168797817132\n",
            "Precision: 0.8390191927217793\n",
            "Recall: 0.8295168797817132\n",
            "f1_score: 0.8283062120270215\n"
          ]
        }
      ]
    },
    {
      "cell_type": "code",
      "metadata": {
        "id": "mgqglQBwgGGy",
        "colab": {
          "base_uri": "https://localhost:8080/"
        },
        "outputId": "b2a5fee2-5b36-443a-c623-7db6edce0aa3"
      },
      "source": [
        "\n",
        "test_accuracy_GB_GS = Gradient_Boost.predict(X_test)\n",
        "accuracy_gb=accuracy_score(y_test, test_accuracy_GB_GS)\n",
        "precision_gb=precision_score(y_test, test_accuracy_GB_GS,average='weighted')\n",
        "recall_gb=recall_score(y_test, test_accuracy_GB_GS,average='weighted')\n",
        "f1_gb=f1_score(y_test,test_accuracy_GB_GS,average='weighted')\n",
        "test_accuracy_GB_GS = print(\"accuracy:\", accuracy_gb)\n",
        "precison_score_GB_GS = print(\"Precision:\", precision_gb)\n",
        "recall_score_GB_GS = print(\"Recall:\", recall_gb)\n",
        "f1_score_GB_GS  = print('f1_score:',f1_gb)"
      ],
      "execution_count": null,
      "outputs": [
        {
          "output_type": "stream",
          "name": "stdout",
          "text": [
            "accuracy: 0.8260218275197946\n",
            "Precision: 0.8355598993791805\n",
            "Recall: 0.8260218275197946\n",
            "f1_score: 0.8248081188820116\n"
          ]
        }
      ]
    },
    {
      "cell_type": "code",
      "metadata": {
        "id": "bvkiP25tVtT5"
      },
      "source": [
        "from sklearn.metrics import classification_report, accuracy_score, precision_score, recall_score, f1_score\n",
        "train_accuracy_GB_GS = accuracy_score(train_accuracy_GB_GS,y_train)\n",
        "test_accuracy_GB_GS = accuracy_score(test_accuracy_GB_GS,y_test)"
      ],
      "execution_count": null,
      "outputs": []
    },
    {
      "cell_type": "code",
      "metadata": {
        "id": "vdnst8_Fk1p1"
      },
      "source": [
        "print(test_accuracy_GB_GS)"
      ],
      "execution_count": null,
      "outputs": []
    },
    {
      "cell_type": "markdown",
      "metadata": {
        "id": "f8PP8VfnGFqL"
      },
      "source": [
        "Decision Tree Classifier with GridSearchCV\n"
      ]
    },
    {
      "cell_type": "code",
      "metadata": {
        "id": "aFhDUbkNGJcW"
      },
      "source": [
        "from sklearn.tree import DecisionTreeClassifier  \n",
        "# defining parameter range \n",
        "param_grid = {'max_depth': [20,30,50,100], 'min_samples_split':[0.1,0.2,0.4]}\n"
      ],
      "execution_count": null,
      "outputs": []
    },
    {
      "cell_type": "code",
      "metadata": {
        "id": "CArztbOpGLk2"
      },
      "source": [
        "feature_x = resampled_df.drop(['ID', 'Gender','Marriage','Education','Age','Next_month_default'], axis = 1)"
      ],
      "execution_count": null,
      "outputs": []
    },
    {
      "cell_type": "code",
      "metadata": {
        "id": "0_aqW05aGaiT"
      },
      "source": [
        "target_y = resampled_df['Next_month_default'].astype('int')"
      ],
      "execution_count": null,
      "outputs": []
    },
    {
      "cell_type": "code",
      "metadata": {
        "id": "Xfcw7n0EGewl"
      },
      "source": [
        "scaler = StandardScaler()\n",
        "feature_x = scaler.fit_transform(feature_x)"
      ],
      "execution_count": null,
      "outputs": []
    },
    {
      "cell_type": "code",
      "metadata": {
        "id": "CRZb5AFkGgmz"
      },
      "source": [
        "X_train, X_test, y_train, y_test = train_test_split(feature_x, target_y, test_size=0.20, random_state=42, stratify = target_y)"
      ],
      "execution_count": null,
      "outputs": []
    },
    {
      "cell_type": "code",
      "metadata": {
        "id": "p-DHyTF6GorU"
      },
      "source": [
        "from sklearn.model_selection import learning_curve, GridSearchCV\n",
        "DT_clf = GridSearchCV(DecisionTreeClassifier(), param_grid, scoring = 'accuracy', n_jobs = -1, verbose = 3, cv = 3)\n",
        "DT_clf.fit(X_train, y_train)"
      ],
      "execution_count": null,
      "outputs": []
    },
    {
      "cell_type": "code",
      "metadata": {
        "id": "pf7-daL2HFfk"
      },
      "source": [
        "DT_clf.best_score_"
      ],
      "execution_count": null,
      "outputs": []
    },
    {
      "cell_type": "code",
      "metadata": {
        "id": "uBsZd8_ZSN3p"
      },
      "source": [
        "best_estimator = DT_clf.best_estimator_"
      ],
      "execution_count": null,
      "outputs": []
    },
    {
      "cell_type": "code",
      "metadata": {
        "id": "zZLEUBV9TZq8"
      },
      "source": [
        "# Get the predicted classes\n",
        "train_class_preds = best_estimator.predict(X_train)\n",
        "test_class_preds = best_estimator.predict(X_test)"
      ],
      "execution_count": null,
      "outputs": []
    },
    {
      "cell_type": "code",
      "metadata": {
        "id": "nIA5IbNBSTSY"
      },
      "source": [
        "# Get the accuracy scores\n",
        "from sklearn.metrics import classification_report, accuracy_score, precision_score, recall_score, f1_score\n",
        "train_accuracy_DT_GS = accuracy_score(train_class_preds,y_train)\n",
        "test_accuracy_DT_GS = accuracy_score(test_class_preds,y_test)\n",
        "\n",
        "\n",
        "print(\"Accuracy of Decision Tree classifier with GRIDSEARCH CV on train dataset is\",(train_accuracy_DT_GS)*100,\"%\")\n",
        "print(\"Accuracy of Decision Tree classifier with GRIDSEARCH CV on test dataset is\",(test_accuracy_DT_GS)*100,\"%\")"
      ],
      "execution_count": null,
      "outputs": []
    },
    {
      "cell_type": "code",
      "metadata": {
        "id": "Fll6W4B8qyiF"
      },
      "source": [
        "precison_score_DT_GS = precision_score(test_class_preds,y_test)\n",
        "recall_score_DT_GS = recall_score(test_class_preds,y_test)\n",
        "f1_score_DT_GS = f1_score(test_class_preds,y_test)"
      ],
      "execution_count": null,
      "outputs": []
    },
    {
      "cell_type": "markdown",
      "metadata": {
        "id": "OBsUKu6pafc6"
      },
      "source": [
        "Evaluating the models\n"
      ]
    },
    {
      "cell_type": "code",
      "metadata": {
        "id": "1eMnIh9YS3D-"
      },
      "source": [
        "classifiers = ['Logistic Regression', 'Random Forest', 'Random Forest with Hyperparam tuning', 'Gradient Boost','Gradient Boost with Hyperparam tuning','Decision Tree']"
      ],
      "execution_count": null,
      "outputs": []
    },
    {
      "cell_type": "code",
      "metadata": {
        "id": "M63uxHMfa2iF"
      },
      "source": [
        "train_accuracy = [train_accuracy_lr, train_accuracy_RF, train_accuracy_RF_GS,train_accuracy_GB ,train_accuracy_GB_GS,train_accuracy_DT_GS]"
      ],
      "execution_count": null,
      "outputs": []
    },
    {
      "cell_type": "code",
      "metadata": {
        "id": "Styiby_3f9c3"
      },
      "source": [
        "test_accuracy = [test_accuracy_lr, test_accuracy_RF, test_accuracy_RF_GS, test_accuracy_GB,test_accuracy_GB_GS,test_accuracy_DT_GS]"
      ],
      "execution_count": null,
      "outputs": []
    },
    {
      "cell_type": "code",
      "metadata": {
        "id": "9mAiRpMIqr7t"
      },
      "source": [
        "precision_score = [precison_score_lr,precison_score_RF,precison_score_RF_GS, precison_score_GB, precison_score_GB_GS, precison_score_DT_GS]\n",
        "recall_score = [recall_score_lr,recall_score_RF,recall_score_RF_GS, recall_score_GB, recall_score_GB_GS, recall_score_DT_GS]\n",
        "f1_score = [f1_score_lr,f1_score_RF,f1_score_RF_GS, recall_score_GB, f1_score_GB_GS, f1_score_DT_GS]"
      ],
      "execution_count": null,
      "outputs": []
    },
    {
      "cell_type": "code",
      "metadata": {
        "id": "Uz16ojaMg_v5"
      },
      "source": [
        "model_evaluation = {'Classifiers' : classifiers , 'Train accuracy' : train_accuracy , 'Test accuracy' : test_accuracy , 'Precision score' : precision_score, 'Recall Score' : recall_score , 'F1 Score' : f1_score}"
      ],
      "execution_count": null,
      "outputs": []
    },
    {
      "cell_type": "code",
      "metadata": {
        "id": "zsykQEwKiXSz"
      },
      "source": [
        "new_df = pd.DataFrame(model_evaluation)"
      ],
      "execution_count": null,
      "outputs": []
    },
    {
      "cell_type": "code",
      "metadata": {
        "id": "LHA-JngRifWF"
      },
      "source": [
        "new_df"
      ],
      "execution_count": null,
      "outputs": []
    },
    {
      "cell_type": "code",
      "metadata": {
        "id": "RU16C0a_j8Zj"
      },
      "source": [
        ""
      ],
      "execution_count": null,
      "outputs": []
    }
  ]
}